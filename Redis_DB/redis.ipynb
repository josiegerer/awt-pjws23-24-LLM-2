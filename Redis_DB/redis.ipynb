{
 "cells": [
  {
   "cell_type": "code",
   "execution_count": 56,
   "metadata": {},
   "outputs": [
    {
     "name": "stdout",
     "output_type": "stream",
     "text": [
      "Defaulting to user installation because normal site-packages is not writeable\n",
      "Requirement already satisfied: redis in /Users/josi/Library/Python/3.8/lib/python/site-packages (3.5.3)\n",
      "Note: you may need to restart the kernel to use updated packages.\n",
      "Defaulting to user installation because normal site-packages is not writeable\n",
      "Requirement already satisfied: redisearch in /Users/josi/Library/Python/3.8/lib/python/site-packages (2.1.1)\n",
      "Requirement already satisfied: hiredis<3.0.0,>=2.0.0 in /Users/josi/Library/Python/3.8/lib/python/site-packages (from redisearch) (2.2.3)\n",
      "Requirement already satisfied: redis==3.5.3 in /Users/josi/Library/Python/3.8/lib/python/site-packages (from redisearch) (3.5.3)\n",
      "Requirement already satisfied: rejson<0.6.0,>=0.5.4 in /Users/josi/Library/Python/3.8/lib/python/site-packages (from redisearch) (0.5.6)\n",
      "Requirement already satisfied: six<2.0.0,>=1.16.0 in /Users/josi/Library/Python/3.8/lib/python/site-packages (from redisearch) (1.16.0)\n",
      "Note: you may need to restart the kernel to use updated packages.\n",
      "Defaulting to user installation because normal site-packages is not writeable\n",
      "Requirement already satisfied: llama-cpp-python in /Users/josi/Library/Python/3.8/lib/python/site-packages (0.2.18)\n",
      "Requirement already satisfied: typing-extensions>=4.5.0 in /Users/josi/Library/Python/3.8/lib/python/site-packages (from llama-cpp-python) (4.8.0)\n",
      "Requirement already satisfied: numpy>=1.20.0 in /Users/josi/Library/Python/3.8/lib/python/site-packages (from llama-cpp-python) (1.24.4)\n",
      "Requirement already satisfied: diskcache>=5.6.1 in /Users/josi/Library/Python/3.8/lib/python/site-packages (from llama-cpp-python) (5.6.3)\n",
      "Note: you may need to restart the kernel to use updated packages.\n"
     ]
    }
   ],
   "source": [
    "%pip install redis\n",
    "%pip install redisearch\n",
    "%pip install llama-cpp-python"
   ]
  },
  {
   "cell_type": "code",
   "execution_count": 57,
   "metadata": {},
   "outputs": [
    {
     "ename": "ValidationError",
     "evalue": "1 validation error for LlamaCppEmbeddings\n__root__\n  Could not load Llama model from path: Users/josi/Llama2_weights/llama-7b.ggmlv3.q4_K_M.bin. Received error Model path does not exist: Users/josi/Llama2_weights/llama-7b.ggmlv3.q4_K_M.bin (type=value_error)",
     "output_type": "error",
     "traceback": [
      "\u001b[0;31m---------------------------------------------------------------------------\u001b[0m",
      "\u001b[0;31mValidationError\u001b[0m                           Traceback (most recent call last)",
      "\u001b[1;32m/Users/josi/Documents/GitHub/awt-pjws23-24-LLM-2/Redis_DB/redis.ipynb Cell 2\u001b[0m line \u001b[0;36m9\n\u001b[1;32m      <a href='vscode-notebook-cell:/Users/josi/Documents/GitHub/awt-pjws23-24-LLM-2/Redis_DB/redis.ipynb#X15sZmlsZQ%3D%3D?line=5'>6</a>\u001b[0m \u001b[39mfrom\u001b[39;00m \u001b[39mlangchain\u001b[39;00m\u001b[39m.\u001b[39;00m\u001b[39mllms\u001b[39;00m \u001b[39mimport\u001b[39;00m LlamaCpp\n\u001b[1;32m      <a href='vscode-notebook-cell:/Users/josi/Documents/GitHub/awt-pjws23-24-LLM-2/Redis_DB/redis.ipynb#X15sZmlsZQ%3D%3D?line=6'>7</a>\u001b[0m \u001b[39mfrom\u001b[39;00m \u001b[39mlangchain\u001b[39;00m\u001b[39m.\u001b[39;00m\u001b[39mprompts\u001b[39;00m \u001b[39mimport\u001b[39;00m PromptTemplate\n\u001b[0;32m----> <a href='vscode-notebook-cell:/Users/josi/Documents/GitHub/awt-pjws23-24-LLM-2/Redis_DB/redis.ipynb#X15sZmlsZQ%3D%3D?line=8'>9</a>\u001b[0m llama \u001b[39m=\u001b[39m LlamaCppEmbeddings(model_path\u001b[39m=\u001b[39;49m\u001b[39m\"\u001b[39;49m\u001b[39mUsers/josi/Llama2_weights/llama-7b.ggmlv3.q4_K_M.bin\u001b[39;49m\u001b[39m\"\u001b[39;49m)\n\u001b[1;32m     <a href='vscode-notebook-cell:/Users/josi/Documents/GitHub/awt-pjws23-24-LLM-2/Redis_DB/redis.ipynb#X15sZmlsZQ%3D%3D?line=10'>11</a>\u001b[0m text \u001b[39m=\u001b[39m \u001b[39m\"\u001b[39m\u001b[39mThis is text\u001b[39m\u001b[39m\"\u001b[39m\n\u001b[1;32m     <a href='vscode-notebook-cell:/Users/josi/Documents/GitHub/awt-pjws23-24-LLM-2/Redis_DB/redis.ipynb#X15sZmlsZQ%3D%3D?line=12'>13</a>\u001b[0m query_result \u001b[39m=\u001b[39m llama\u001b[39m.\u001b[39membed_query(text)\n",
      "File \u001b[0;32m~/Library/Python/3.8/lib/python/site-packages/pydantic/main.py:341\u001b[0m, in \u001b[0;36mpydantic.main.BaseModel.__init__\u001b[0;34m()\u001b[0m\n",
      "\u001b[0;31mValidationError\u001b[0m: 1 validation error for LlamaCppEmbeddings\n__root__\n  Could not load Llama model from path: Users/josi/Llama2_weights/llama-7b.ggmlv3.q4_K_M.bin. Received error Model path does not exist: Users/josi/Llama2_weights/llama-7b.ggmlv3.q4_K_M.bin (type=value_error)"
     ]
    }
   ],
   "source": [
    "from langchain.embeddings import LlamaCppEmbeddings\n",
    "\n",
    "#from langchain.callbacks.manager import CallbackManager\n",
    "from langchain.callbacks.streaming_stdout import StreamingStdOutCallbackHandler\n",
    "from langchain.chains import LLMChain\n",
    "from langchain.llms import LlamaCpp\n",
    "from langchain.prompts import PromptTemplate\n",
    "\n",
    "llama = LlamaCppEmbeddings(model_path=\"Users/josi/Llama2_weights/llama-7b.ggmlv3.q4_K_M.bin\")\n",
    "\n",
    "text = \"This is text\"\n",
    "\n",
    "query_result = llama.embed_query(text)\n",
    "doc_result = llama.embed_documents([text])"
   ]
  },
  {
   "cell_type": "code",
   "execution_count": 58,
   "metadata": {},
   "outputs": [],
   "source": [
    "import redis\n",
    "import logging\n",
    "from langchain.vectorstores.redis import Redis\n",
    "import uuid"
   ]
  },
  {
   "cell_type": "code",
   "execution_count": 94,
   "metadata": {},
   "outputs": [
    {
     "name": "stdout",
     "output_type": "stream",
     "text": [
      "Connected to Redis server successfully!\n"
     ]
    }
   ],
   "source": [
    "#embeddings = OpenAIEmbeddings()\n",
    "\n",
    "#connection = redis.Redis()\n",
    "#connection.ping()\n",
    "\n",
    "r = redis.Redis(host='localhost', port=6379, decode_responses=True, db=0)\n",
    "#further setup with tsl?\n",
    "# Test the connection\n",
    "ping_response = r.ping()\n",
    "if ping_response:\n",
    "    print(\"Connected to Redis server successfully!\")\n",
    "else:\n",
    "    print(\"Failed to connect to Redis server.\")\n",
    "\n",
    "#class Redis(object):#\n",
    "#    def __init__(self, host='localhost', port=6379,db=0, password=None, socket_timeout=None)"
   ]
  },
  {
   "cell_type": "code",
   "execution_count": 96,
   "metadata": {},
   "outputs": [
    {
     "name": "stdout",
     "output_type": "stream",
     "text": [
      "Connected to Redis Cloud server successfully!\n"
     ]
    }
   ],
   "source": [
    "#create connection to redis cloud server\n",
    "\n",
    "r = redis.Redis(\n",
    "  host='redis-17335.c304.europe-west1-2.gce.cloud.redislabs.com',\n",
    "  port=17335,\n",
    "  password='oUkqSduoXftkjL0DOZ0rZ1mqOH5urQZn', decode_responses=True)\n",
    "ping_response = r.ping()\n",
    "if ping_response:\n",
    "    print(\"Connected to Redis Cloud server successfully!\")\n",
    "else:\n",
    "    print(\"Failed to connect to Redis Cloud server.\")"
   ]
  },
  {
   "cell_type": "code",
   "execution_count": 60,
   "metadata": {},
   "outputs": [],
   "source": [
    "#run redis-server in terminal\n",
    "#redis-cli for host:port pair -> test connectivity with \"PING\"\n",
    "#to close: redis-cli shutdown\n",
    "\n",
    "#MSET to set multiple key:value pairs and MGET to get multple values for keys"
   ]
  },
  {
   "cell_type": "code",
   "execution_count": 97,
   "metadata": {},
   "outputs": [],
   "source": [
    "file_path = './index.txt'\n",
    "\n",
    "with open(file_path, 'rt') as file:\n",
    "    lines = file.readlines()\n",
    "\n",
    "#for line in lines:\n",
    "#    print(line)\n",
    "\n",
    "#clear previous data from redis db\n",
    "#r.flushdb()\n",
    "\n",
    "# Store each line from the Llama text file as a separate key-value pair in Redis\n",
    "#for index, line in enumerate(lines):\n",
    "#    r.set(f'line:{index}', line.strip())\n",
    "\n",
    "# Store each line from the Llama text file as a separate key-value pair in Redis\n",
    "for index, line in enumerate(lines):\n",
    "    key = f'line:{index}'\n",
    "    value = line.strip()\n",
    "    r.set(key, value)\n",
    "\n",
    "###store key:value pairs in new txt file\n",
    "# Read the contents of the Redis\n",
    "values = r.scan_iter()\n",
    "\n",
    "# Write the values to a new txt file\n",
    "with open('new_file.txt', 'w') as file:\n",
    "    for value in values:\n",
    "        data_type = r.type(value)\n",
    "        \n",
    "        if data_type == 'set':\n",
    "            stored_lines = r.smembers(value)\n",
    "            for stored_line in stored_lines:\n",
    "                file.write(f'{value}: {stored_line}\\n')\n",
    "        elif data_type == 'string':\n",
    "            stored_line = r.get(value)\n",
    "            if isinstance(stored_line, bytes):\n",
    "                stored_line = stored_line.decode('utf-8')\n",
    "                file.write(f'{value}: {stored_line}\\n')\n",
    "            file.write(f'{value}: {stored_line}\\n')\n",
    "        else:\n",
    "            print(f\"Warning: Ignoring key '{value}' of unsupported data type '{data_type}'\")\n",
    "\n",
    "# Delete the keys with unsupported data types\n",
    "for value in values:\n",
    "    data_type = r.type(value)\n",
    "    if data_type not in ['set', 'string']:\n",
    "        r.delete(value)\n",
    "        print(f\"Deleted key '{value}' of unsupported data type '{data_type}'\")"
   ]
  },
  {
   "cell_type": "code",
   "execution_count": 98,
   "metadata": {},
   "outputs": [
    {
     "name": "stdout",
     "output_type": "stream",
     "text": [
      "Lorem ipsum dolor sit amet, consectetur adipiscing elit.\n",
      "Praesent dapibus, elit quis commodo pharetra, magna ante convallis nulla, id elementum eros nulla quis eros.\n",
      "Cras pretium hendrerit dui, sagittis congue nisl tempus sit amet. Vestibulum fermentum, velit ut aliquam blandit, diam nunc tincidunt sapien, id luctus erat ipsum sit amet mauris. Nunc viverra fermentum eros, a feugiat arcu laoreet et. Pellentesque habitant morbi tristique senectus et netus et malesuada fames ac turpis egestas. In tincidunt turpis vitae felis volutpat, a eleifend nibh facilisis. Phasellus et sapien metus. Vestibulum sem turpis, hendrerit quis purus volutpat, scelerisque venenatis ante. Sed tristique dolor sit amet dignissim luctus. Vivamus ultricies est non volutpat sagittis. Cras commodo euismod mi. Aliquam mollis iaculis blandit.\n",
      "Cras pretium hendrerit dui, sagittis congue nisl tempus sit amet. Vestibulum fermentum, velit ut aliquam blandit, diam nunc tincidunt sapien, id luctus erat ipsum sit amet mauris. Nunc viverra fermentum eros, a feugiat arcu laoreet et. Pellentesque habitant morbi tristique senectus et netus et malesuada fames ac turpis egestas. In tincidunt turpis vitae felis volutpat, a eleifend nibh facilisis. Phasellus et sapien metus. Vestibulum sem turpis, hendrerit quis purus volutpat, scelerisque venenatis ante. Sed tristique dolor sit amet dignissim luctus. Vivamus ultricies est non volutpat sagittis. Cras commodo euismod mi. Aliquam mollis iaculis blandit.\n",
      "['Lorem ipsum dolor sit amet, consectetur adipiscing elit. \\n', 'Praesent dapibus, elit quis commodo pharetra, magna ante convallis nulla, id elementum eros nulla quis eros. \\n', 'Cras pretium hendrerit dui, sagittis congue nisl tempus sit amet. Vestibulum fermentum, velit ut aliquam blandit, diam nunc tincidunt sapien, id luctus erat ipsum sit amet mauris. Nunc viverra fermentum eros, a feugiat arcu laoreet et. Pellentesque habitant morbi tristique senectus et netus et malesuada fames ac turpis egestas. In tincidunt turpis vitae felis volutpat, a eleifend nibh facilisis. Phasellus et sapien metus. Vestibulum sem turpis, hendrerit quis purus volutpat, scelerisque venenatis ante. Sed tristique dolor sit amet dignissim luctus. Vivamus ultricies est non volutpat sagittis. Cras commodo euismod mi. Aliquam mollis iaculis blandit.']\n"
     ]
    }
   ],
   "source": [
    "# Print what you have in the index.txt file\n",
    "for index, line in enumerate(lines):\n",
    "    key = f'line:{index}'\n",
    "    stored_line = r.get(key)\n",
    "    print(stored_line)\n",
    "\n",
    "# Create a unique key for each text\n",
    "key = str(uuid.uuid4())\n",
    "\n",
    "value = stored_line\n",
    "\n",
    "# Set the value of the key to the text\n",
    "r.set(key, value)\n",
    "\n",
    "stored_text = r.get(key)\n",
    "print(stored_text)\n",
    "\n",
    "\n",
    "\n",
    "r.scan()\n",
    "# Read the contents of the Llama text file\n",
    "with open('./index.txt', 'r') as file:\n",
    "    lines = file.readlines()\n",
    "\n",
    "print(lines)"
   ]
  },
  {
   "cell_type": "code",
   "execution_count": 63,
   "metadata": {},
   "outputs": [
    {
     "name": "stdout",
     "output_type": "stream",
     "text": [
      "[Document(page_content='Lorem ipsum dolor sit amet, consectetur adipiscing elit. \\nPraesent dapibus, elit quis commodo pharetra, magna ante convallis nulla, id elementum eros nulla quis eros. \\nCras pretium hendrerit dui, sagittis congue nisl tempus sit amet. Vestibulum fermentum, velit ut aliquam blandit, diam nunc tincidunt sapien, id luctus erat ipsum sit amet mauris. Nunc viverra fermentum eros, a feugiat arcu laoreet et. Pellentesque habitant morbi tristique senectus et netus et malesuada fames ac turpis egestas. In tincidunt turpis vitae felis volutpat, a eleifend nibh facilisis. Phasellus et sapien metus. Vestibulum sem turpis, hendrerit quis purus volutpat, scelerisque venenatis ante. Sed tristique dolor sit amet dignissim luctus. Vivamus ultricies est non volutpat sagittis. Cras commodo euismod mi. Aliquam mollis iaculis blandit.', metadata={'source': './index.txt'})]\n"
     ]
    }
   ],
   "source": [
    "from langchain.document_loaders import TextLoader\n",
    "from langchain.text_splitter import CharacterTextSplitter\n",
    "from langchain.text_splitter import RecursiveCharacterTextSplitter\n",
    "\n",
    "# Document loader\n",
    "loader = TextLoader(\"./index.txt\")\n",
    "documents = loader.load()\n",
    "\n",
    "with open(\"./index.txt\") as f:\n",
    "    document = f.read()\n",
    "\n",
    "# normal text splitter\n",
    "raw_documents = TextLoader(\"./index.txt\").load()\n",
    "text_splitter = CharacterTextSplitter(chunk_size=1000, chunk_overlap=200)\n",
    "documents = text_splitter.split_documents(raw_documents)\n",
    "\n",
    "# Recursive text splitter\n",
    "text_splitter = RecursiveCharacterTextSplitter(\n",
    "    chunk_size = 100,\n",
    "    chunk_overlap  = 20,\n",
    "    length_function = len,\n",
    "    add_start_index = True,\n",
    ")\n",
    "\n",
    "print(documents)"
   ]
  },
  {
   "cell_type": "code",
   "execution_count": null,
   "metadata": {},
   "outputs": [
    {
     "data": {
      "text/plain": [
       "{'name': 'John', 'surname': 'Smith', 'company': 'Redis', 'age': '29'}"
      ]
     },
     "execution_count": 34,
     "metadata": {},
     "output_type": "execute_result"
    }
   ],
   "source": [
    "#store and retrieve dict\n",
    "r.hset('user-session:123', mapping={\n",
    "    'name': 'John',\n",
    "    \"surname\": 'Smith',\n",
    "    \"company\": 'Redis',\n",
    "    \"age\": 29\n",
    "})\n",
    "r.hgetall('user-session:123')\n",
    "\n",
    "r.mset({\"Croatia\": \"Zagreb\", \"Bahamas\": \"Nassau\"})\n",
    "r.get(\"Bahamas\")"
   ]
  },
  {
   "cell_type": "code",
   "execution_count": 64,
   "metadata": {},
   "outputs": [],
   "source": [
    "metadata = [\n",
    "    {\n",
    "        \"user\": \"john\",\n",
    "        \"age\": 18,\n",
    "        \"job\": \"engineer\",\n",
    "        \"credit_score\": \"high\",\n",
    "    },\n",
    "    {\n",
    "        \"user\": \"derrick\",\n",
    "        \"age\": 45,\n",
    "        \"job\": \"doctor\",\n",
    "        \"credit_score\": \"low\",\n",
    "    },\n",
    "    {\n",
    "        \"user\": \"nancy\",\n",
    "        \"age\": 94,\n",
    "        \"job\": \"doctor\",\n",
    "        \"credit_score\": \"high\",\n",
    "    },\n",
    "    {\n",
    "        \"user\": \"tyler\",\n",
    "        \"age\": 100,\n",
    "        \"job\": \"engineer\",\n",
    "        \"credit_score\": \"high\",\n",
    "    },\n",
    "    {\n",
    "        \"user\": \"joe\",\n",
    "        \"age\": 35,\n",
    "        \"job\": \"dentist\",\n",
    "        \"credit_score\": \"medium\",\n",
    "    },\n",
    "]"
   ]
  },
  {
   "cell_type": "code",
   "execution_count": 65,
   "metadata": {},
   "outputs": [],
   "source": [
    "logging.basicConfig()"
   ]
  },
  {
   "cell_type": "code",
   "execution_count": null,
   "metadata": {},
   "outputs": [],
   "source": [
    "r.execute_command(\"MODULE\", \"LOAD\", \"/path/to/your/redisearch.so\")"
   ]
  },
  {
   "cell_type": "code",
   "execution_count": null,
   "metadata": {},
   "outputs": [],
   "source": [
    "r.execute_command(\"MODULE\", \"LIST\")"
   ]
  },
  {
   "cell_type": "code",
   "execution_count": 74,
   "metadata": {},
   "outputs": [
    {
     "name": "stdout",
     "output_type": "stream",
     "text": [
      "Index does not exist. We need to create it!\n"
     ]
    },
    {
     "ename": "AttributeError",
     "evalue": "'Redis' object has no attribute 'ft'",
     "output_type": "error",
     "traceback": [
      "\u001b[0;31m---------------------------------------------------------------------------\u001b[0m",
      "\u001b[0;31mAttributeError\u001b[0m                            Traceback (most recent call last)",
      "\u001b[1;32m/Users/josi/Documents/GitHub/awt-pjws23-24-LLM-2/Redis_DB/redis.ipynb Cell 12\u001b[0m line \u001b[0;36m4\n\u001b[1;32m     <a href='vscode-notebook-cell:/Users/josi/Documents/GitHub/awt-pjws23-24-LLM-2/Redis_DB/redis.ipynb#X12sZmlsZQ%3D%3D?line=31'>32</a>\u001b[0m user2 \u001b[39m=\u001b[39m {\n\u001b[1;32m     <a href='vscode-notebook-cell:/Users/josi/Documents/GitHub/awt-pjws23-24-LLM-2/Redis_DB/redis.ipynb#X12sZmlsZQ%3D%3D?line=32'>33</a>\u001b[0m     \u001b[39m\"\u001b[39m\u001b[39mname\u001b[39m\u001b[39m\"\u001b[39m: \u001b[39m\"\u001b[39m\u001b[39mEden Zamir\u001b[39m\u001b[39m\"\u001b[39m,\n\u001b[1;32m     <a href='vscode-notebook-cell:/Users/josi/Documents/GitHub/awt-pjws23-24-LLM-2/Redis_DB/redis.ipynb#X12sZmlsZQ%3D%3D?line=33'>34</a>\u001b[0m     \u001b[39m\"\u001b[39m\u001b[39memail\u001b[39m\u001b[39m\"\u001b[39m: \u001b[39m\"\u001b[39m\u001b[39meden.zamir@example.com\u001b[39m\u001b[39m\"\u001b[39m,\n\u001b[1;32m     <a href='vscode-notebook-cell:/Users/josi/Documents/GitHub/awt-pjws23-24-LLM-2/Redis_DB/redis.ipynb#X12sZmlsZQ%3D%3D?line=34'>35</a>\u001b[0m     \u001b[39m\"\u001b[39m\u001b[39mcity\u001b[39m\u001b[39m\"\u001b[39m:\u001b[39m\"\u001b[39m\u001b[39mBerlin\u001b[39m\u001b[39m\"\u001b[39m,\n\u001b[1;32m     <a href='vscode-notebook-cell:/Users/josi/Documents/GitHub/awt-pjws23-24-LLM-2/Redis_DB/redis.ipynb#X12sZmlsZQ%3D%3D?line=35'>36</a>\u001b[0m     \u001b[39m\"\u001b[39m\u001b[39mage\u001b[39m\u001b[39m\"\u001b[39m: \u001b[39m29\u001b[39m\n\u001b[1;32m     <a href='vscode-notebook-cell:/Users/josi/Documents/GitHub/awt-pjws23-24-LLM-2/Redis_DB/redis.ipynb#X12sZmlsZQ%3D%3D?line=36'>37</a>\u001b[0m }\n\u001b[1;32m     <a href='vscode-notebook-cell:/Users/josi/Documents/GitHub/awt-pjws23-24-LLM-2/Redis_DB/redis.ipynb#X12sZmlsZQ%3D%3D?line=38'>39</a>\u001b[0m schema \u001b[39m=\u001b[39m (\n\u001b[1;32m     <a href='vscode-notebook-cell:/Users/josi/Documents/GitHub/awt-pjws23-24-LLM-2/Redis_DB/redis.ipynb#X12sZmlsZQ%3D%3D?line=39'>40</a>\u001b[0m     TextField(\u001b[39m\"\u001b[39m\u001b[39m$.name\u001b[39m\u001b[39m\"\u001b[39m, as_name\u001b[39m=\u001b[39m\u001b[39m\"\u001b[39m\u001b[39mname\u001b[39m\u001b[39m\"\u001b[39m), \n\u001b[1;32m     <a href='vscode-notebook-cell:/Users/josi/Documents/GitHub/awt-pjws23-24-LLM-2/Redis_DB/redis.ipynb#X12sZmlsZQ%3D%3D?line=40'>41</a>\u001b[0m     TagField(\u001b[39m\"\u001b[39m\u001b[39m$.city\u001b[39m\u001b[39m\"\u001b[39m, as_name\u001b[39m=\u001b[39m\u001b[39m\"\u001b[39m\u001b[39mcity\u001b[39m\u001b[39m\"\u001b[39m), \n\u001b[1;32m     <a href='vscode-notebook-cell:/Users/josi/Documents/GitHub/awt-pjws23-24-LLM-2/Redis_DB/redis.ipynb#X12sZmlsZQ%3D%3D?line=41'>42</a>\u001b[0m     NumericField(\u001b[39m\"\u001b[39m\u001b[39m$.age\u001b[39m\u001b[39m\"\u001b[39m, as_name\u001b[39m=\u001b[39m\u001b[39m\"\u001b[39m\u001b[39mage\u001b[39m\u001b[39m\"\u001b[39m)\n\u001b[1;32m     <a href='vscode-notebook-cell:/Users/josi/Documents/GitHub/awt-pjws23-24-LLM-2/Redis_DB/redis.ipynb#X12sZmlsZQ%3D%3D?line=42'>43</a>\u001b[0m )\n\u001b[0;32m---> <a href='vscode-notebook-cell:/Users/josi/Documents/GitHub/awt-pjws23-24-LLM-2/Redis_DB/redis.ipynb#X12sZmlsZQ%3D%3D?line=44'>45</a>\u001b[0m rs \u001b[39m=\u001b[39m r\u001b[39m.\u001b[39;49mft(\u001b[39m\"\u001b[39m\u001b[39midx:users\u001b[39m\u001b[39m\"\u001b[39m)\n\u001b[1;32m     <a href='vscode-notebook-cell:/Users/josi/Documents/GitHub/awt-pjws23-24-LLM-2/Redis_DB/redis.ipynb#X12sZmlsZQ%3D%3D?line=45'>46</a>\u001b[0m rs\u001b[39m.\u001b[39mcreate_index(\n\u001b[1;32m     <a href='vscode-notebook-cell:/Users/josi/Documents/GitHub/awt-pjws23-24-LLM-2/Redis_DB/redis.ipynb#X12sZmlsZQ%3D%3D?line=46'>47</a>\u001b[0m     schema,\n\u001b[1;32m     <a href='vscode-notebook-cell:/Users/josi/Documents/GitHub/awt-pjws23-24-LLM-2/Redis_DB/redis.ipynb#X12sZmlsZQ%3D%3D?line=47'>48</a>\u001b[0m     definition\u001b[39m=\u001b[39mIndexDefinition(\n\u001b[1;32m     <a href='vscode-notebook-cell:/Users/josi/Documents/GitHub/awt-pjws23-24-LLM-2/Redis_DB/redis.ipynb#X12sZmlsZQ%3D%3D?line=48'>49</a>\u001b[0m         prefix\u001b[39m=\u001b[39m[\u001b[39m\"\u001b[39m\u001b[39muser:\u001b[39m\u001b[39m\"\u001b[39m], index_type\u001b[39m=\u001b[39mIndexType\u001b[39m.\u001b[39mJSON\n\u001b[1;32m     <a href='vscode-notebook-cell:/Users/josi/Documents/GitHub/awt-pjws23-24-LLM-2/Redis_DB/redis.ipynb#X12sZmlsZQ%3D%3D?line=49'>50</a>\u001b[0m     )\n\u001b[1;32m     <a href='vscode-notebook-cell:/Users/josi/Documents/GitHub/awt-pjws23-24-LLM-2/Redis_DB/redis.ipynb#X12sZmlsZQ%3D%3D?line=50'>51</a>\u001b[0m )\n\u001b[1;32m     <a href='vscode-notebook-cell:/Users/josi/Documents/GitHub/awt-pjws23-24-LLM-2/Redis_DB/redis.ipynb#X12sZmlsZQ%3D%3D?line=52'>53</a>\u001b[0m r\u001b[39m.\u001b[39mjson()\u001b[39m.\u001b[39mset(\u001b[39m\"\u001b[39m\u001b[39muser:1\u001b[39m\u001b[39m\"\u001b[39m, Path\u001b[39m.\u001b[39mroot_path(), user1)\n",
      "\u001b[0;31mAttributeError\u001b[0m: 'Redis' object has no attribute 'ft'"
     ]
    }
   ],
   "source": [
    "###json elements \n",
    "#from redisearch import Path\n",
    "from redisearch import Client, TextField, IndexDefinition, TagField,NumericField\n",
    "#from redisearch import IndexDefinition, IndexType\n",
    "#from redisearch import NumericFilter, Query\n",
    "\n",
    "\n",
    "from redisearch import Client, TextField, IndexDefinition\n",
    "import datetime\n",
    "import os\n",
    "from redis import ResponseError\n",
    "\n",
    "client = Client(\"index-document\")\n",
    "#definition = IndexDefinition(prefix=’doc:’) -> available for redisearch 2.0\n",
    "\n",
    "START_TIME = datetime.datetime.now().strftime(\"%Y-%m-%d-%H:%M.%S\")\n",
    "\n",
    "client.redis.set(\"start-time\", START_TIME)\n",
    "\n",
    "try:\n",
    "    client.info()\n",
    "except ResponseError:\n",
    "    print(\"Index does not exist. We need to create it!\")\n",
    "\n",
    "#set-up\n",
    "user1 = {\n",
    "    \"name\": \"Paul John\",\n",
    "    \"email\": \"paul.john@example.com\",\n",
    "     \"city\":\"Berlin\",\n",
    "    \"age\": 42\n",
    "}\n",
    "user2 = {\n",
    "    \"name\": \"Eden Zamir\",\n",
    "    \"email\": \"eden.zamir@example.com\",\n",
    "    \"city\":\"Berlin\",\n",
    "    \"age\": 29\n",
    "}\n",
    "\n",
    "schema = (\n",
    "    TextField(\"$.name\", as_name=\"name\"), \n",
    "    TagField(\"$.city\", as_name=\"city\"), \n",
    "    NumericField(\"$.age\", as_name=\"age\")\n",
    ")\n",
    "\n",
    "rs = r.ft(\"idx:users\")\n",
    "rs.create_index(\n",
    "    schema,\n",
    "    definition=IndexDefinition(\n",
    "        prefix=[\"user:\"], index_type=IndexType.JSON\n",
    "    )\n",
    ")\n",
    "\n",
    "r.json().set(\"user:1\", Path.root_path(), user1)\n",
    "r.json().set(\"user:2\", Path.root_path(), user2)\n",
    "\n",
    "#Search\n",
    "res = rs.search(\n",
    "    Query(\"Paul @age:[30 40]\")\n",
    ")\n",
    "\n",
    "rs.search(\n",
    "    Query(\"Paul\").return_field(\"$.city\", as_field=\"city\")\n",
    ").docs"
   ]
  },
  {
   "cell_type": "code",
   "execution_count": null,
   "metadata": {},
   "outputs": [],
   "source": [
    "schema = (\n",
    "    TextField(\"$.brand\", as_name=\"brand\"),\n",
    "    TextField(\"$.model\", as_name=\"model\"),\n",
    "    TextField(\"$.description\", as_name=\"description\"),\n",
    "    NumericField(\"$.price\", as_name=\"price\"),\n",
    "    TagField(\"$.condition\", as_name=\"condition\"),\n",
    ")\n",
    "\n",
    "index = r.ft(\"idx:bicycle\")\n",
    "index.create_index(\n",
    "    schema,\n",
    "    definition=IndexDefinition(prefix=[\"bicycle:\"], index_type=IndexType.JSON),\n",
    ")\n",
    "\n",
    "for bid, bicycle in enumerate(bicycles):\n",
    "    r.json().set(f\"bicycle:{bid}\", Path.root_path(), bicycle)\n",
    "\n",
    "res = index.search(Query(\"*\"))\n",
    "print(\"Documents found:\", res.total)\n",
    "\n",
    "res = index.search(Query(\"@model:Jigger\"))\n",
    "print(res)"
   ]
  },
  {
   "cell_type": "code",
   "execution_count": 69,
   "metadata": {},
   "outputs": [
    {
     "ename": "UnicodeDecodeError",
     "evalue": "'utf-8' codec can't decode byte 0xff in position 556: invalid start byte",
     "output_type": "error",
     "traceback": [
      "\u001b[0;31m---------------------------------------------------------------------------\u001b[0m",
      "\u001b[0;31mUnicodeDecodeError\u001b[0m                        Traceback (most recent call last)",
      "\u001b[1;32m/Users/josi/Documents/GitHub/awt-pjws23-24-LLM-2/Redis_DB/redis.ipynb Cell 13\u001b[0m line \u001b[0;36m2\n\u001b[1;32m     <a href='vscode-notebook-cell:/Users/josi/Documents/GitHub/awt-pjws23-24-LLM-2/Redis_DB/redis.ipynb#X14sZmlsZQ%3D%3D?line=17'>18</a>\u001b[0m filepath \u001b[39m=\u001b[39m os\u001b[39m.\u001b[39mpath\u001b[39m.\u001b[39mjoin(folder, file)\n\u001b[1;32m     <a href='vscode-notebook-cell:/Users/josi/Documents/GitHub/awt-pjws23-24-LLM-2/Redis_DB/redis.ipynb#X14sZmlsZQ%3D%3D?line=18'>19</a>\u001b[0m f \u001b[39m=\u001b[39m \u001b[39mopen\u001b[39m(filepath, \u001b[39m'\u001b[39m\u001b[39mr\u001b[39m\u001b[39m'\u001b[39m)\n\u001b[1;32m     <a href='vscode-notebook-cell:/Users/josi/Documents/GitHub/awt-pjws23-24-LLM-2/Redis_DB/redis.ipynb#X14sZmlsZQ%3D%3D?line=19'>20</a>\u001b[0m client\u001b[39m.\u001b[39mredis\u001b[39m.\u001b[39mhset(\u001b[39m'\u001b[39m\u001b[39mdoc:\u001b[39m\u001b[39m'\u001b[39m\u001b[39m+\u001b[39mfile,\n\u001b[1;32m     <a href='vscode-notebook-cell:/Users/josi/Documents/GitHub/awt-pjws23-24-LLM-2/Redis_DB/redis.ipynb#X14sZmlsZQ%3D%3D?line=20'>21</a>\u001b[0m             mapping\u001b[39m=\u001b[39m{\n\u001b[1;32m     <a href='vscode-notebook-cell:/Users/josi/Documents/GitHub/awt-pjws23-24-LLM-2/Redis_DB/redis.ipynb#X14sZmlsZQ%3D%3D?line=21'>22</a>\u001b[0m             \u001b[39m'\u001b[39m\u001b[39mtitle\u001b[39m\u001b[39m'\u001b[39m: file,\n\u001b[0;32m---> <a href='vscode-notebook-cell:/Users/josi/Documents/GitHub/awt-pjws23-24-LLM-2/Redis_DB/redis.ipynb#X14sZmlsZQ%3D%3D?line=22'>23</a>\u001b[0m             \u001b[39m'\u001b[39m\u001b[39mbody\u001b[39m\u001b[39m'\u001b[39m: f\u001b[39m.\u001b[39;49mread()\n\u001b[1;32m     <a href='vscode-notebook-cell:/Users/josi/Documents/GitHub/awt-pjws23-24-LLM-2/Redis_DB/redis.ipynb#X14sZmlsZQ%3D%3D?line=23'>24</a>\u001b[0m         })\n\u001b[1;32m     <a href='vscode-notebook-cell:/Users/josi/Documents/GitHub/awt-pjws23-24-LLM-2/Redis_DB/redis.ipynb#X14sZmlsZQ%3D%3D?line=24'>25</a>\u001b[0m f\u001b[39m.\u001b[39mclose()\n",
      "File \u001b[0;32m/Applications/Xcode.app/Contents/Developer/Library/Frameworks/Python3.framework/Versions/3.8/lib/python3.8/codecs.py:322\u001b[0m, in \u001b[0;36mBufferedIncrementalDecoder.decode\u001b[0;34m(self, input, final)\u001b[0m\n\u001b[1;32m    319\u001b[0m \u001b[39mdef\u001b[39;00m \u001b[39mdecode\u001b[39m(\u001b[39mself\u001b[39m, \u001b[39minput\u001b[39m, final\u001b[39m=\u001b[39m\u001b[39mFalse\u001b[39;00m):\n\u001b[1;32m    320\u001b[0m     \u001b[39m# decode input (taking the buffer into account)\u001b[39;00m\n\u001b[1;32m    321\u001b[0m     data \u001b[39m=\u001b[39m \u001b[39mself\u001b[39m\u001b[39m.\u001b[39mbuffer \u001b[39m+\u001b[39m \u001b[39minput\u001b[39m\n\u001b[0;32m--> 322\u001b[0m     (result, consumed) \u001b[39m=\u001b[39m \u001b[39mself\u001b[39;49m\u001b[39m.\u001b[39;49m_buffer_decode(data, \u001b[39mself\u001b[39;49m\u001b[39m.\u001b[39;49merrors, final)\n\u001b[1;32m    323\u001b[0m     \u001b[39m# keep undecoded input until the next call\u001b[39;00m\n\u001b[1;32m    324\u001b[0m     \u001b[39mself\u001b[39m\u001b[39m.\u001b[39mbuffer \u001b[39m=\u001b[39m data[consumed:]\n",
      "\u001b[0;31mUnicodeDecodeError\u001b[0m: 'utf-8' codec can't decode byte 0xff in position 556: invalid start byte"
     ]
    }
   ],
   "source": [
    "#https://faun.pub/redisearch-using-python-client-3581309e3475\n",
    "###Creating the index definition and schema\n",
    "try:\n",
    "    client \\\n",
    "        .create_index(\n",
    "            (TextField(\"title\"), TextField(\"body\")),\n",
    "            definition=definition\n",
    "        )\n",
    "except:\n",
    "    pass\n",
    "\n",
    "\n",
    "###add document\n",
    "# path of the folder where documents are stored\n",
    "folder = \"/Users/josi/awt-pjws23-24-LLM-2\"\n",
    "# indexing each documents in the folder\n",
    "for file in os.listdir(folder):\n",
    "    filepath = os.path.join(folder, file)\n",
    "    f = open(filepath, 'r')\n",
    "    client.redis.hset('doc:'+file,\n",
    "                mapping={\n",
    "                'title': file,\n",
    "                'body': f.read()\n",
    "            })\n",
    "    f.close()"
   ]
  }
 ],
 "metadata": {
  "kernelspec": {
   "display_name": "Python 3",
   "language": "python",
   "name": "python3"
  },
  "language_info": {
   "codemirror_mode": {
    "name": "ipython",
    "version": 3
   },
   "file_extension": ".py",
   "mimetype": "text/x-python",
   "name": "python",
   "nbconvert_exporter": "python",
   "pygments_lexer": "ipython3",
   "version": "3.8.9"
  }
 },
 "nbformat": 4,
 "nbformat_minor": 2
}
