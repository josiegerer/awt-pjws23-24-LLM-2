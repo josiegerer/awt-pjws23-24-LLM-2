{
 "cells": [
  {
   "cell_type": "code",
   "execution_count": 7,
   "metadata": {},
   "outputs": [
    {
     "ename": "ValidationError",
     "evalue": "1 validation error for OpenAIEmbeddings\n__root__\n  Did not find openai_api_key, please add an environment variable `OPENAI_API_KEY` which contains it, or pass  `openai_api_key` as a named parameter. (type=value_error)",
     "output_type": "error",
     "traceback": [
      "\u001b[0;31m---------------------------------------------------------------------------\u001b[0m",
      "\u001b[0;31mValidationError\u001b[0m                           Traceback (most recent call last)",
      "\u001b[1;32m/Users/josi/Documents/GitHub/awt-pjws23-24-LLM-2/Redis_DB/redis.ipynb Cell 1\u001b[0m line \u001b[0;36m4\n\u001b[1;32m      <a href='vscode-notebook-cell:/Users/josi/Documents/GitHub/awt-pjws23-24-LLM-2/Redis_DB/redis.ipynb#W0sZmlsZQ%3D%3D?line=0'>1</a>\u001b[0m \u001b[39mfrom\u001b[39;00m \u001b[39mlangchain\u001b[39;00m\u001b[39m.\u001b[39;00m\u001b[39mvectorstores\u001b[39;00m\u001b[39m.\u001b[39;00m\u001b[39mredis\u001b[39;00m \u001b[39mimport\u001b[39;00m Redis\n\u001b[1;32m      <a href='vscode-notebook-cell:/Users/josi/Documents/GitHub/awt-pjws23-24-LLM-2/Redis_DB/redis.ipynb#W0sZmlsZQ%3D%3D?line=1'>2</a>\u001b[0m \u001b[39mfrom\u001b[39;00m \u001b[39mlangchain\u001b[39;00m\u001b[39m.\u001b[39;00m\u001b[39membeddings\u001b[39;00m \u001b[39mimport\u001b[39;00m OpenAIEmbeddings\n\u001b[0;32m----> <a href='vscode-notebook-cell:/Users/josi/Documents/GitHub/awt-pjws23-24-LLM-2/Redis_DB/redis.ipynb#W0sZmlsZQ%3D%3D?line=3'>4</a>\u001b[0m embeddings \u001b[39m=\u001b[39m OpenAIEmbeddings()\n\u001b[1;32m      <a href='vscode-notebook-cell:/Users/josi/Documents/GitHub/awt-pjws23-24-LLM-2/Redis_DB/redis.ipynb#W0sZmlsZQ%3D%3D?line=5'>6</a>\u001b[0m metadata \u001b[39m=\u001b[39m [\n\u001b[1;32m      <a href='vscode-notebook-cell:/Users/josi/Documents/GitHub/awt-pjws23-24-LLM-2/Redis_DB/redis.ipynb#W0sZmlsZQ%3D%3D?line=6'>7</a>\u001b[0m     {\n\u001b[1;32m      <a href='vscode-notebook-cell:/Users/josi/Documents/GitHub/awt-pjws23-24-LLM-2/Redis_DB/redis.ipynb#W0sZmlsZQ%3D%3D?line=7'>8</a>\u001b[0m         \u001b[39m\"\u001b[39m\u001b[39muser\u001b[39m\u001b[39m\"\u001b[39m: \u001b[39m\"\u001b[39m\u001b[39mjohn\u001b[39m\u001b[39m\"\u001b[39m,\n\u001b[0;32m   (...)\u001b[0m\n\u001b[1;32m     <a href='vscode-notebook-cell:/Users/josi/Documents/GitHub/awt-pjws23-24-LLM-2/Redis_DB/redis.ipynb#W0sZmlsZQ%3D%3D?line=35'>36</a>\u001b[0m     },\n\u001b[1;32m     <a href='vscode-notebook-cell:/Users/josi/Documents/GitHub/awt-pjws23-24-LLM-2/Redis_DB/redis.ipynb#W0sZmlsZQ%3D%3D?line=36'>37</a>\u001b[0m ]\n\u001b[1;32m     <a href='vscode-notebook-cell:/Users/josi/Documents/GitHub/awt-pjws23-24-LLM-2/Redis_DB/redis.ipynb#W0sZmlsZQ%3D%3D?line=38'>39</a>\u001b[0m texts \u001b[39m=\u001b[39m [\u001b[39m\"\u001b[39m\u001b[39mfoo\u001b[39m\u001b[39m\"\u001b[39m, \u001b[39m\"\u001b[39m\u001b[39mfoo\u001b[39m\u001b[39m\"\u001b[39m, \u001b[39m\"\u001b[39m\u001b[39mfoo\u001b[39m\u001b[39m\"\u001b[39m, \u001b[39m\"\u001b[39m\u001b[39mbar\u001b[39m\u001b[39m\"\u001b[39m, \u001b[39m\"\u001b[39m\u001b[39mbar\u001b[39m\u001b[39m\"\u001b[39m]\n",
      "File \u001b[0;32m~/Library/Python/3.8/lib/python/site-packages/pydantic/main.py:341\u001b[0m, in \u001b[0;36mpydantic.main.BaseModel.__init__\u001b[0;34m()\u001b[0m\n",
      "\u001b[0;31mValidationError\u001b[0m: 1 validation error for OpenAIEmbeddings\n__root__\n  Did not find openai_api_key, please add an environment variable `OPENAI_API_KEY` which contains it, or pass  `openai_api_key` as a named parameter. (type=value_error)"
     ]
    }
   ],
   "source": [
    "from langchain.vectorstores.redis import Redis\n",
    "from langchain.embeddings import OpenAIEmbeddings\n",
    "\n",
    "#embeddings = OpenAIEmbeddings()\n",
    "\n",
    "metadata = [\n",
    "    {\n",
    "        \"user\": \"john\",\n",
    "        \"age\": 18,\n",
    "        \"job\": \"engineer\",\n",
    "        \"credit_score\": \"high\",\n",
    "    },\n",
    "    {\n",
    "        \"user\": \"derrick\",\n",
    "        \"age\": 45,\n",
    "        \"job\": \"doctor\",\n",
    "        \"credit_score\": \"low\",\n",
    "    },\n",
    "    {\n",
    "        \"user\": \"nancy\",\n",
    "        \"age\": 94,\n",
    "        \"job\": \"doctor\",\n",
    "        \"credit_score\": \"high\",\n",
    "    },\n",
    "    {\n",
    "        \"user\": \"tyler\",\n",
    "        \"age\": 100,\n",
    "        \"job\": \"engineer\",\n",
    "        \"credit_score\": \"high\",\n",
    "    },\n",
    "    {\n",
    "        \"user\": \"joe\",\n",
    "        \"age\": 35,\n",
    "        \"job\": \"dentist\",\n",
    "        \"credit_score\": \"medium\",\n",
    "    },\n",
    "]\n",
    "\n",
    "texts = [\"foo\", \"foo\", \"foo\", \"bar\", \"bar\"]\n",
    "\n",
    "\n",
    "Redis.__init__()\n",
    "\n",
    "\n",
    "\n",
    "rds = Redis.from_texts(\n",
    "    texts,\n",
    "    embeddings, \n",
    "    metadatas=metadata,\n",
    "    redis_url=\"redis://localhost:6379\",\n",
    "    index_name=\"users\",\n",
    ")\n",
    "\n",
    "rds.index_name"
   ]
  }
 ],
 "metadata": {
  "kernelspec": {
   "display_name": "Python 3",
   "language": "python",
   "name": "python3"
  },
  "language_info": {
   "codemirror_mode": {
    "name": "ipython",
    "version": 3
   },
   "file_extension": ".py",
   "mimetype": "text/x-python",
   "name": "python",
   "nbconvert_exporter": "python",
   "pygments_lexer": "ipython3",
   "version": "3.8.9"
  }
 },
 "nbformat": 4,
 "nbformat_minor": 2
}
