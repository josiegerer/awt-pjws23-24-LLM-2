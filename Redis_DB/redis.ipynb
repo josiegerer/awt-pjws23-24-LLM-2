{
 "cells": [
  {
   "cell_type": "code",
   "execution_count": 6,
   "metadata": {},
   "outputs": [
    {
     "name": "stdout",
     "output_type": "stream",
     "text": [
      "Defaulting to user installation because normal site-packages is not writeable\n",
      "Requirement already satisfied: redis in /Users/josi/Library/Python/3.8/lib/python/site-packages (5.0.1)\n",
      "Requirement already satisfied: async-timeout>=4.0.2 in /Users/josi/Library/Python/3.8/lib/python/site-packages (from redis) (4.0.2)\n",
      "Note: you may need to restart the kernel to use updated packages.\n"
     ]
    }
   ],
   "source": [
    "%pip install redis"
   ]
  },
  {
   "cell_type": "code",
   "execution_count": 21,
   "metadata": {},
   "outputs": [],
   "source": [
    "import redis\n",
    "import logging\n",
    "from langchain.vectorstores.redis import Redis\n",
    "from langchain.embeddings import OpenAIEmbeddings"
   ]
  },
  {
   "cell_type": "code",
   "execution_count": 20,
   "metadata": {},
   "outputs": [],
   "source": [
    "#embeddings = OpenAIEmbeddings()\n",
    "\n",
    "#connection = redis.Redis()\n",
    "#connection.ping()\n",
    "r = redis.Redis(host='localhost', port=6379, decode_responses=True, db=0)\n",
    "\n",
    "#class Redis(object):#\n",
    "#    def __init__(self, host='localhost', port=6379,db=0, password=None, socket_timeout=None)"
   ]
  },
  {
   "cell_type": "code",
   "execution_count": null,
   "metadata": {},
   "outputs": [],
   "source": [
    "#Test connection\n",
    "try:\n",
    "    r.set('foo', 'bar')\n",
    "    value = r.get('foo')\n",
    "    print(value)\n",
    "except redis.ConnectionError as e:\n",
    "    print(f\"Error connecting to Redis: {e}\")\n",
    "\n",
    "\n",
    "#run redis-server in terminal\n",
    "#redis-cli for host:port pair -> test connectivity with \"PING\"\n",
    "#to close: redis-cli shutdown\n",
    "\n",
    "#MSET to set multiple key:value pairs and MGET to get multple values for keys"
   ]
  },
  {
   "cell_type": "code",
   "execution_count": 16,
   "metadata": {},
   "outputs": [
    {
     "data": {
      "text/plain": [
       "'Nassau'"
      ]
     },
     "execution_count": 16,
     "metadata": {},
     "output_type": "execute_result"
    }
   ],
   "source": [
    "r.mset({\"Croatia\": \"Zagreb\", \"Bahamas\": \"Nassau\"})\n",
    "\n",
    "r.get(\"Bahamas\")\n",
    "\n"
   ]
  },
  {
   "cell_type": "code",
   "execution_count": 8,
   "metadata": {},
   "outputs": [],
   "source": [
    "metadata = [\n",
    "    {\n",
    "        \"user\": \"john\",\n",
    "        \"age\": 18,\n",
    "        \"job\": \"engineer\",\n",
    "        \"credit_score\": \"high\",\n",
    "    },\n",
    "    {\n",
    "        \"user\": \"derrick\",\n",
    "        \"age\": 45,\n",
    "        \"job\": \"doctor\",\n",
    "        \"credit_score\": \"low\",\n",
    "    },\n",
    "    {\n",
    "        \"user\": \"nancy\",\n",
    "        \"age\": 94,\n",
    "        \"job\": \"doctor\",\n",
    "        \"credit_score\": \"high\",\n",
    "    },\n",
    "    {\n",
    "        \"user\": \"tyler\",\n",
    "        \"age\": 100,\n",
    "        \"job\": \"engineer\",\n",
    "        \"credit_score\": \"high\",\n",
    "    },\n",
    "    {\n",
    "        \"user\": \"joe\",\n",
    "        \"age\": 35,\n",
    "        \"job\": \"dentist\",\n",
    "        \"credit_score\": \"medium\",\n",
    "    },\n",
    "]\n",
    "\n",
    "texts = [\"foo\", \"foo\", \"foo\", \"bar\", \"bar\"]"
   ]
  },
  {
   "cell_type": "code",
   "execution_count": 22,
   "metadata": {},
   "outputs": [],
   "source": [
    "logging.basicConfig()"
   ]
  },
  {
   "cell_type": "code",
   "execution_count": null,
   "metadata": {},
   "outputs": [],
   "source": [
    "\n",
    "rds = Redis.from_texts(\n",
    "    texts,\n",
    "    embeddings, \n",
    "    metadatas=metadata,\n",
    "    redis_url=\"redis://localhost:6379\",\n",
    "    index_name=\"users\",\n",
    ")\n",
    "\n",
    "rds.index_name\n",
    "\n"
   ]
  }
 ],
 "metadata": {
  "kernelspec": {
   "display_name": "Python 3",
   "language": "python",
   "name": "python3"
  },
  "language_info": {
   "codemirror_mode": {
    "name": "ipython",
    "version": 3
   },
   "file_extension": ".py",
   "mimetype": "text/x-python",
   "name": "python",
   "nbconvert_exporter": "python",
   "pygments_lexer": "ipython3",
   "version": "3.8.9"
  }
 },
 "nbformat": 4,
 "nbformat_minor": 2
}
