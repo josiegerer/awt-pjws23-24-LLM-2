{
 "cells": [
  {
   "cell_type": "code",
   "execution_count": 5,
   "metadata": {},
   "outputs": [
    {
     "ename": "TypeError",
     "evalue": "__init__() missing 4 required positional arguments: 'self', 'redis_url', 'index_name', and 'embedding'",
     "output_type": "error",
     "traceback": [
      "\u001b[0;31m---------------------------------------------------------------------------\u001b[0m",
      "\u001b[0;31mTypeError\u001b[0m                                 Traceback (most recent call last)",
      "\u001b[1;32m/Users/josi/Documents/GitHub/awt-pjws23-24-LLM-2/Redis_DB/redis.ipynb Cell 1\u001b[0m line \u001b[0;36m3\n\u001b[1;32m      <a href='vscode-notebook-cell:/Users/josi/Documents/GitHub/awt-pjws23-24-LLM-2/Redis_DB/redis.ipynb#W0sZmlsZQ%3D%3D?line=2'>3</a>\u001b[0m metadata \u001b[39m=\u001b[39m [\n\u001b[1;32m      <a href='vscode-notebook-cell:/Users/josi/Documents/GitHub/awt-pjws23-24-LLM-2/Redis_DB/redis.ipynb#W0sZmlsZQ%3D%3D?line=3'>4</a>\u001b[0m     {\n\u001b[1;32m      <a href='vscode-notebook-cell:/Users/josi/Documents/GitHub/awt-pjws23-24-LLM-2/Redis_DB/redis.ipynb#W0sZmlsZQ%3D%3D?line=4'>5</a>\u001b[0m         \u001b[39m\"\u001b[39m\u001b[39muser\u001b[39m\u001b[39m\"\u001b[39m: \u001b[39m\"\u001b[39m\u001b[39mjohn\u001b[39m\u001b[39m\"\u001b[39m,\n\u001b[0;32m   (...)\u001b[0m\n\u001b[1;32m     <a href='vscode-notebook-cell:/Users/josi/Documents/GitHub/awt-pjws23-24-LLM-2/Redis_DB/redis.ipynb#W0sZmlsZQ%3D%3D?line=32'>33</a>\u001b[0m     },\n\u001b[1;32m     <a href='vscode-notebook-cell:/Users/josi/Documents/GitHub/awt-pjws23-24-LLM-2/Redis_DB/redis.ipynb#W0sZmlsZQ%3D%3D?line=33'>34</a>\u001b[0m ]\n\u001b[1;32m     <a href='vscode-notebook-cell:/Users/josi/Documents/GitHub/awt-pjws23-24-LLM-2/Redis_DB/redis.ipynb#W0sZmlsZQ%3D%3D?line=35'>36</a>\u001b[0m texts \u001b[39m=\u001b[39m [\u001b[39m\"\u001b[39m\u001b[39mfoo\u001b[39m\u001b[39m\"\u001b[39m, \u001b[39m\"\u001b[39m\u001b[39mfoo\u001b[39m\u001b[39m\"\u001b[39m, \u001b[39m\"\u001b[39m\u001b[39mfoo\u001b[39m\u001b[39m\"\u001b[39m, \u001b[39m\"\u001b[39m\u001b[39mbar\u001b[39m\u001b[39m\"\u001b[39m, \u001b[39m\"\u001b[39m\u001b[39mbar\u001b[39m\u001b[39m\"\u001b[39m]\n\u001b[0;32m---> <a href='vscode-notebook-cell:/Users/josi/Documents/GitHub/awt-pjws23-24-LLM-2/Redis_DB/redis.ipynb#W0sZmlsZQ%3D%3D?line=38'>39</a>\u001b[0m Redis\u001b[39m.\u001b[39;49m\u001b[39m__init__\u001b[39;49m()\n\u001b[1;32m     <a href='vscode-notebook-cell:/Users/josi/Documents/GitHub/awt-pjws23-24-LLM-2/Redis_DB/redis.ipynb#W0sZmlsZQ%3D%3D?line=41'>42</a>\u001b[0m rds \u001b[39m=\u001b[39m Redis\u001b[39m.\u001b[39mfrom_texts(\n\u001b[1;32m     <a href='vscode-notebook-cell:/Users/josi/Documents/GitHub/awt-pjws23-24-LLM-2/Redis_DB/redis.ipynb#W0sZmlsZQ%3D%3D?line=42'>43</a>\u001b[0m     texts,\n\u001b[1;32m     <a href='vscode-notebook-cell:/Users/josi/Documents/GitHub/awt-pjws23-24-LLM-2/Redis_DB/redis.ipynb#W0sZmlsZQ%3D%3D?line=43'>44</a>\u001b[0m     \u001b[39m#embeddings, (needed if OpenAI Key used)\u001b[39;00m\n\u001b[0;32m   (...)\u001b[0m\n\u001b[1;32m     <a href='vscode-notebook-cell:/Users/josi/Documents/GitHub/awt-pjws23-24-LLM-2/Redis_DB/redis.ipynb#W0sZmlsZQ%3D%3D?line=46'>47</a>\u001b[0m     index_name\u001b[39m=\u001b[39m\u001b[39m\"\u001b[39m\u001b[39musers\u001b[39m\u001b[39m\"\u001b[39m,\n\u001b[1;32m     <a href='vscode-notebook-cell:/Users/josi/Documents/GitHub/awt-pjws23-24-LLM-2/Redis_DB/redis.ipynb#W0sZmlsZQ%3D%3D?line=47'>48</a>\u001b[0m )\n\u001b[1;32m     <a href='vscode-notebook-cell:/Users/josi/Documents/GitHub/awt-pjws23-24-LLM-2/Redis_DB/redis.ipynb#W0sZmlsZQ%3D%3D?line=49'>50</a>\u001b[0m rds\u001b[39m.\u001b[39mindex_name\n",
      "\u001b[0;31mTypeError\u001b[0m: __init__() missing 4 required positional arguments: 'self', 'redis_url', 'index_name', and 'embedding'"
     ]
    }
   ],
   "source": [
    "from langchain.vectorstores.redis import Redis\n",
    "\n",
    "metadata = [\n",
    "    {\n",
    "        \"user\": \"john\",\n",
    "        \"age\": 18,\n",
    "        \"job\": \"engineer\",\n",
    "        \"credit_score\": \"high\",\n",
    "    },\n",
    "    {\n",
    "        \"user\": \"derrick\",\n",
    "        \"age\": 45,\n",
    "        \"job\": \"doctor\",\n",
    "        \"credit_score\": \"low\",\n",
    "    },\n",
    "    {\n",
    "        \"user\": \"nancy\",\n",
    "        \"age\": 94,\n",
    "        \"job\": \"doctor\",\n",
    "        \"credit_score\": \"high\",\n",
    "    },\n",
    "    {\n",
    "        \"user\": \"tyler\",\n",
    "        \"age\": 100,\n",
    "        \"job\": \"engineer\",\n",
    "        \"credit_score\": \"high\",\n",
    "    },\n",
    "    {\n",
    "        \"user\": \"joe\",\n",
    "        \"age\": 35,\n",
    "        \"job\": \"dentist\",\n",
    "        \"credit_score\": \"medium\",\n",
    "    },\n",
    "]\n",
    "\n",
    "texts = [\"foo\", \"foo\", \"foo\", \"bar\", \"bar\"]\n",
    "\n",
    "\n",
    "Redis.__init__()\n",
    "\n",
    "Redis.\n",
    "\n",
    "\n",
    "rds = Redis.from_texts(\n",
    "    texts,\n",
    "    embeddings, \n",
    "    metadatas=metadata,\n",
    "    redis_url=\"redis://localhost:6379\",\n",
    "    index_name=\"users\",\n",
    ")\n",
    "\n",
    "rds.index_name"
   ]
  }
 ],
 "metadata": {
  "kernelspec": {
   "display_name": "Python 3",
   "language": "python",
   "name": "python3"
  },
  "language_info": {
   "codemirror_mode": {
    "name": "ipython",
    "version": 3
   },
   "file_extension": ".py",
   "mimetype": "text/x-python",
   "name": "python",
   "nbconvert_exporter": "python",
   "pygments_lexer": "ipython3",
   "version": "3.8.9"
  }
 },
 "nbformat": 4,
 "nbformat_minor": 2
}
