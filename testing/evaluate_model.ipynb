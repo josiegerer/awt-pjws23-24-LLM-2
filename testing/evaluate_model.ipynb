{
 "cells": [
  {
   "cell_type": "code",
   "execution_count": 3,
   "metadata": {},
   "outputs": [
    {
     "name": "stdout",
     "output_type": "stream",
     "text": [
      "Collecting langchain\n",
      "  Downloading langchain-0.1.6-py3-none-any.whl (811 kB)\n",
      "\u001b[K     |████████████████████████████████| 811 kB 4.6 MB/s eta 0:00:01\n",
      "\u001b[?25hCollecting llama-cpp-python\n",
      "  Downloading llama_cpp_python-0.2.39.tar.gz (10.8 MB)\n",
      "\u001b[K     |████████████████████████████████| 10.8 MB 13.3 MB/s eta 0:00:01\n",
      "\u001b[?25h  Installing build dependencies ... \u001b[?25ldone\n",
      "\u001b[?25h  Getting requirements to build wheel ... \u001b[?25ldone\n",
      "\u001b[?25h  Installing backend dependencies ... \u001b[?25ldone\n",
      "\u001b[?25h    Preparing wheel metadata ... \u001b[?25ldone\n",
      "\u001b[?25hCollecting pydantic<3,>=1\n",
      "  Downloading pydantic-2.6.1-py3-none-any.whl (394 kB)\n",
      "\u001b[K     |████████████████████████████████| 394 kB 15.1 MB/s eta 0:00:01\n",
      "\u001b[?25hCollecting tenacity<9.0.0,>=8.1.0\n",
      "  Downloading tenacity-8.2.3-py3-none-any.whl (24 kB)\n",
      "Collecting langsmith<0.1,>=0.0.83\n",
      "  Downloading langsmith-0.0.90-py3-none-any.whl (55 kB)\n",
      "\u001b[K     |████████████████████████████████| 55 kB 6.0 MB/s  eta 0:00:01\n",
      "\u001b[?25hRequirement already satisfied: requests<3,>=2 in /Users/josi/opt/anaconda3/lib/python3.9/site-packages (from langchain) (2.27.1)\n",
      "Requirement already satisfied: PyYAML>=5.3 in /Users/josi/opt/anaconda3/lib/python3.9/site-packages (from langchain) (6.0)\n",
      "Collecting aiohttp<4.0.0,>=3.8.3\n",
      "  Downloading aiohttp-3.9.3-cp39-cp39-macosx_10_9_x86_64.whl (398 kB)\n",
      "\u001b[K     |████████████████████████████████| 398 kB 12.5 MB/s eta 0:00:01\n",
      "\u001b[?25hCollecting dataclasses-json<0.7,>=0.5.7\n",
      "  Downloading dataclasses_json-0.6.4-py3-none-any.whl (28 kB)\n",
      "Collecting jsonpatch<2.0,>=1.33\n",
      "  Downloading jsonpatch-1.33-py2.py3-none-any.whl (12 kB)\n",
      "Requirement already satisfied: async-timeout<5.0.0,>=4.0.0 in /Users/josi/opt/anaconda3/lib/python3.9/site-packages (from langchain) (4.0.1)\n",
      "Collecting langchain-community<0.1,>=0.0.18\n",
      "  Downloading langchain_community-0.0.19-py3-none-any.whl (1.6 MB)\n",
      "\u001b[K     |████████████████████████████████| 1.6 MB 13.5 MB/s eta 0:00:01\n",
      "\u001b[?25hRequirement already satisfied: SQLAlchemy<3,>=1.4 in /Users/josi/opt/anaconda3/lib/python3.9/site-packages (from langchain) (1.4.32)\n",
      "Collecting langchain-core<0.2,>=0.1.22\n",
      "  Downloading langchain_core-0.1.22-py3-none-any.whl (239 kB)\n",
      "\u001b[K     |████████████████████████████████| 239 kB 12.7 MB/s eta 0:00:01\n",
      "\u001b[?25hRequirement already satisfied: numpy<2,>=1 in /Users/josi/opt/anaconda3/lib/python3.9/site-packages (from langchain) (1.21.5)\n",
      "Collecting diskcache>=5.6.1\n",
      "  Downloading diskcache-5.6.3-py3-none-any.whl (45 kB)\n",
      "\u001b[K     |████████████████████████████████| 45 kB 6.1 MB/s  eta 0:00:01\n",
      "\u001b[?25hCollecting typing-extensions>=4.5.0\n",
      "  Downloading typing_extensions-4.9.0-py3-none-any.whl (32 kB)\n",
      "Requirement already satisfied: jinja2>=2.11.3 in /Users/josi/opt/anaconda3/lib/python3.9/site-packages (from llama-cpp-python) (2.11.3)\n",
      "Requirement already satisfied: yarl<2.0,>=1.0 in /Users/josi/opt/anaconda3/lib/python3.9/site-packages (from aiohttp<4.0.0,>=3.8.3->langchain) (1.6.3)\n",
      "Requirement already satisfied: attrs>=17.3.0 in /Users/josi/opt/anaconda3/lib/python3.9/site-packages (from aiohttp<4.0.0,>=3.8.3->langchain) (21.4.0)\n",
      "Requirement already satisfied: aiosignal>=1.1.2 in /Users/josi/opt/anaconda3/lib/python3.9/site-packages (from aiohttp<4.0.0,>=3.8.3->langchain) (1.2.0)\n",
      "Requirement already satisfied: frozenlist>=1.1.1 in /Users/josi/opt/anaconda3/lib/python3.9/site-packages (from aiohttp<4.0.0,>=3.8.3->langchain) (1.2.0)\n",
      "Requirement already satisfied: multidict<7.0,>=4.5 in /Users/josi/opt/anaconda3/lib/python3.9/site-packages (from aiohttp<4.0.0,>=3.8.3->langchain) (5.2.0)\n",
      "Collecting typing-inspect<1,>=0.4.0\n",
      "  Downloading typing_inspect-0.9.0-py3-none-any.whl (8.8 kB)\n",
      "Collecting marshmallow<4.0.0,>=3.18.0\n",
      "  Downloading marshmallow-3.20.2-py3-none-any.whl (49 kB)\n",
      "\u001b[K     |████████████████████████████████| 49 kB 11.9 MB/s eta 0:00:01\n",
      "\u001b[?25hRequirement already satisfied: MarkupSafe>=0.23 in /Users/josi/opt/anaconda3/lib/python3.9/site-packages (from jinja2>=2.11.3->llama-cpp-python) (2.0.1)\n",
      "Collecting jsonpointer>=1.9\n",
      "  Downloading jsonpointer-2.4-py2.py3-none-any.whl (7.8 kB)\n",
      "Collecting langsmith<0.1,>=0.0.83\n",
      "  Downloading langsmith-0.0.87-py3-none-any.whl (55 kB)\n",
      "\u001b[K     |████████████████████████████████| 55 kB 6.1 MB/s  eta 0:00:01\n",
      "\u001b[?25hCollecting packaging<24.0,>=23.2\n",
      "  Using cached packaging-23.2-py3-none-any.whl (53 kB)\n",
      "Requirement already satisfied: anyio<5,>=3 in /Users/josi/opt/anaconda3/lib/python3.9/site-packages (from langchain-core<0.2,>=0.1.22->langchain) (3.5.0)\n",
      "Requirement already satisfied: idna>=2.8 in /Users/josi/opt/anaconda3/lib/python3.9/site-packages (from anyio<5,>=3->langchain-core<0.2,>=0.1.22->langchain) (3.3)\n",
      "Requirement already satisfied: sniffio>=1.1 in /Users/josi/opt/anaconda3/lib/python3.9/site-packages (from anyio<5,>=3->langchain-core<0.2,>=0.1.22->langchain) (1.2.0)\n",
      "Collecting annotated-types>=0.4.0\n",
      "  Downloading annotated_types-0.6.0-py3-none-any.whl (12 kB)\n",
      "Collecting pydantic-core==2.16.2\n",
      "  Downloading pydantic_core-2.16.2-cp39-cp39-macosx_10_12_x86_64.whl (1.9 MB)\n",
      "\u001b[K     |████████████████████████████████| 1.9 MB 13.5 MB/s eta 0:00:01\n",
      "\u001b[?25hRequirement already satisfied: urllib3<1.27,>=1.21.1 in /Users/josi/opt/anaconda3/lib/python3.9/site-packages (from requests<3,>=2->langchain) (1.26.9)\n",
      "Requirement already satisfied: certifi>=2017.4.17 in /Users/josi/opt/anaconda3/lib/python3.9/site-packages (from requests<3,>=2->langchain) (2022.6.15)\n",
      "Requirement already satisfied: charset-normalizer~=2.0.0 in /Users/josi/opt/anaconda3/lib/python3.9/site-packages (from requests<3,>=2->langchain) (2.0.4)\n",
      "Requirement already satisfied: greenlet!=0.4.17 in /Users/josi/opt/anaconda3/lib/python3.9/site-packages (from SQLAlchemy<3,>=1.4->langchain) (1.1.1)\n",
      "Requirement already satisfied: mypy-extensions>=0.3.0 in /Users/josi/opt/anaconda3/lib/python3.9/site-packages (from typing-inspect<1,>=0.4.0->dataclasses-json<0.7,>=0.5.7->langchain) (0.4.3)\n",
      "Building wheels for collected packages: llama-cpp-python\n",
      "  Building wheel for llama-cpp-python (PEP 517) ... \u001b[?25ldone\n",
      "\u001b[?25h  Created wheel for llama-cpp-python: filename=llama_cpp_python-0.2.39-cp39-cp39-macosx_10_16_x86_64.whl size=2598128 sha256=ab611f29fd53c8d28d70e9f7b746e2dd3dfabd84d2f9b4467ebcaa0ec397c023\n",
      "  Stored in directory: /Users/josi/Library/Caches/pip/wheels/3d/71/b5/b02cf8be6bcfa7486a238e9bab01f5d9e010ed46633d8c3a5a\n",
      "Successfully built llama-cpp-python\n",
      "Installing collected packages: typing-extensions, pydantic-core, annotated-types, pydantic, packaging, jsonpointer, typing-inspect, tenacity, marshmallow, langsmith, jsonpatch, langchain-core, dataclasses-json, aiohttp, langchain-community, diskcache, llama-cpp-python, langchain\n",
      "  Attempting uninstall: typing-extensions\n",
      "    Found existing installation: typing-extensions 4.1.1\n",
      "    Uninstalling typing-extensions-4.1.1:\n",
      "      Successfully uninstalled typing-extensions-4.1.1\n",
      "  Attempting uninstall: packaging\n",
      "    Found existing installation: packaging 21.3\n",
      "    Uninstalling packaging-21.3:\n",
      "      Successfully uninstalled packaging-21.3\n",
      "  Attempting uninstall: tenacity\n",
      "    Found existing installation: tenacity 8.0.1\n",
      "    Uninstalling tenacity-8.0.1:\n",
      "      Successfully uninstalled tenacity-8.0.1\n",
      "  Attempting uninstall: aiohttp\n",
      "    Found existing installation: aiohttp 3.8.1\n",
      "    Uninstalling aiohttp-3.8.1:\n",
      "      Successfully uninstalled aiohttp-3.8.1\n",
      "Successfully installed aiohttp-3.9.3 annotated-types-0.6.0 dataclasses-json-0.6.4 diskcache-5.6.3 jsonpatch-1.33 jsonpointer-2.4 langchain-0.1.6 langchain-community-0.0.19 langchain-core-0.1.22 langsmith-0.0.87 llama-cpp-python-0.2.39 marshmallow-3.20.2 packaging-23.2 pydantic-2.6.1 pydantic-core-2.16.2 tenacity-8.2.3 typing-extensions-4.9.0 typing-inspect-0.9.0\n",
      "Note: you may need to restart the kernel to use updated packages.\n"
     ]
    }
   ],
   "source": [
    "#%pip install langchain llama-cpp-python \n",
    "#CMAKE_ARGS=\"-DLLAMA_CUBLAS=on\" FORCE_CMAKE=1 pip install llama-cpp-python"
   ]
  },
  {
   "cell_type": "markdown",
   "metadata": {},
   "source": [
    "### Load Packages"
   ]
  },
  {
   "cell_type": "code",
   "execution_count": 1,
   "metadata": {},
   "outputs": [],
   "source": [
    "from langchain.callbacks.manager import CallbackManager\n",
    "from langchain.callbacks.streaming_stdout import StreamingStdOutCallbackHandler\n",
    "from langchain.chains import LLMChain\n",
    "from langchain.llms import LlamaCpp\n",
    "from langchain.prompts import PromptTemplate\n",
    "import os"
   ]
  },
  {
   "cell_type": "markdown",
   "metadata": {},
   "source": [
    "### Define System Prompt and load Llama2 Model"
   ]
  },
  {
   "cell_type": "code",
   "execution_count": 2,
   "metadata": {},
   "outputs": [],
   "source": [
    "B_INST, E_INST = \"[INST]\", \"[/INST]\"\n",
    "B_SYS, E_SYS = \"<<SYS>>\\n\", \"\\n<</SYS>>\\n\\n\""
   ]
  },
  {
   "cell_type": "code",
   "execution_count": 3,
   "metadata": {},
   "outputs": [],
   "source": [
    "#DEFAULT PROMPT\n",
    "DEFAULT_SYSTEM_PROMPT = \"\"\"\\\n",
    "You are a helpful, respectful and honest assistant. Always answer as helpfully as possible, while being safe. \n",
    "If a question does not make any sense, or is not factually coherent, explain why instead of answering something not correct. If you don't know the answer to a question, please don't share false information.\"\"\"\n",
    "SYSTEM_PROMPT = B_SYS + DEFAULT_SYSTEM_PROMPT + E_SYS"
   ]
  },
  {
   "cell_type": "code",
   "execution_count": null,
   "metadata": {},
   "outputs": [],
   "source": [
    "#Chatbot prompt for later use case\n",
    "SYSTEM_PROMPT_USECASE = \"\"\"\n",
    "<<SYS>>\n",
    "You are a chatbot that helps people learn a new language on a platform. You always give the answer to the question in an academic language style.\n",
    "If you don't know the answer to a question, you tell them truthfully that you don't know and don't give false information. You are a helpful, respectful and honest assistant.\n",
    "Your answers should not contain harmful, unethical, racist, sexist, toxic, dangerous or illegal content. Please make sure that your answers are socially unbiased and positive if nature#.\n",
    "If a question does not make sense or is not factually coherent, please explain why, rather than answering something incorrectly.<</SYS>>\n",
    "\"\"\"\n",
    "SYSTEM_PROMPT = B_SYS + SYSTEM_PROMPT_USECASE +E_SYS\n",
    "\n",
    "## Prompt GRAMMAR  \"You are a friendly language teacher for the language {} using {} style only. You nicely correct and analyse the grammar and semantical mistakes of the sentences provided by the student. You do not halucinate or interpret the text of the user.\\ If a message does not make any sense, or is not factually coherent, explain why instead of answering something not correct. If you don't know the answer, please don't share false information. \\If words in the provided message are grammatically correct still analyse the semantic meaning of the sentence and correct it if needed. Think about the correction and analysis step by step.\".format(language,self.formality)\n",
    "## Prompt CONVERSATION _template = \"The following is a friendly conversation between a human and an AI. The AI answers precisely only talks in {} and uses {} language only. No word is other than {}. If the AI does not know the answer to a question, it truthfully says it does not know.\".format(self.language, self.formality, self.language) "
   ]
  },
  {
   "cell_type": "code",
   "execution_count": null,
   "metadata": {},
   "outputs": [],
   "source": [
    "#general prompt to test llm for testing questions\n",
    "SYSTEM_PROMPT_EVAL_ACCURACY = \"\"\"\n",
    "<<SYS>>\n",
    "You will be presented with a question and several answer options where only one is correct. You will respond with the letter that represents the correct answer option.\n",
    "Do not add any answer options, only choose the correct one from the for options presented because one of them is correct.\n",
    "If you don't know the answer, be honest and state that you don't know.\n",
    "<</SYS>>\n",
    "\"\"\"\n",
    "SYSTEM_PROMPT = B_SYS + SYSTEM_PROMPT_EVAL_ACCURACY +E_SYS"
   ]
  },
  {
   "cell_type": "code",
   "execution_count": 4,
   "metadata": {},
   "outputs": [
    {
     "data": {
      "text/plain": [
       "['.DS_Store', 'llama-2-7b.Q4_K_M.gguf', 'llama-2-7b-chat.Q4_K_M.gguf']"
      ]
     },
     "execution_count": 4,
     "metadata": {},
     "output_type": "execute_result"
    }
   ],
   "source": [
    "def get_prompt(instruction):\n",
    "    return B_INST + SYSTEM_PROMPT + instruction + E_INST\n",
    "\n",
    "os.listdir(\"/Users/josi/Llama2_weights\")"
   ]
  },
  {
   "cell_type": "code",
   "execution_count": 5,
   "metadata": {},
   "outputs": [
    {
     "name": "stderr",
     "output_type": "stream",
     "text": [
      "llama_model_loader: loaded meta data with 19 key-value pairs and 291 tensors from /Users/josi/Llama2_weights/llama-2-7b-chat.Q4_K_M.gguf (version GGUF V2)\n",
      "llama_model_loader: - tensor    0:                token_embd.weight q4_K     [  4096, 32000,     1,     1 ]\n",
      "llama_model_loader: - tensor    1:           blk.0.attn_norm.weight f32      [  4096,     1,     1,     1 ]\n",
      "llama_model_loader: - tensor    2:            blk.0.ffn_down.weight q6_K     [ 11008,  4096,     1,     1 ]\n",
      "llama_model_loader: - tensor    3:            blk.0.ffn_gate.weight q4_K     [  4096, 11008,     1,     1 ]\n",
      "llama_model_loader: - tensor    4:              blk.0.ffn_up.weight q4_K     [  4096, 11008,     1,     1 ]\n",
      "llama_model_loader: - tensor    5:            blk.0.ffn_norm.weight f32      [  4096,     1,     1,     1 ]\n",
      "llama_model_loader: - tensor    6:              blk.0.attn_k.weight q4_K     [  4096,  4096,     1,     1 ]\n",
      "llama_model_loader: - tensor    7:         blk.0.attn_output.weight q4_K     [  4096,  4096,     1,     1 ]\n",
      "llama_model_loader: - tensor    8:              blk.0.attn_q.weight q4_K     [  4096,  4096,     1,     1 ]\n",
      "llama_model_loader: - tensor    9:              blk.0.attn_v.weight q6_K     [  4096,  4096,     1,     1 ]\n",
      "llama_model_loader: - tensor   10:           blk.1.attn_norm.weight f32      [  4096,     1,     1,     1 ]\n",
      "llama_model_loader: - tensor   11:            blk.1.ffn_down.weight q6_K     [ 11008,  4096,     1,     1 ]\n",
      "llama_model_loader: - tensor   12:            blk.1.ffn_gate.weight q4_K     [  4096, 11008,     1,     1 ]\n",
      "llama_model_loader: - tensor   13:              blk.1.ffn_up.weight q4_K     [  4096, 11008,     1,     1 ]\n",
      "llama_model_loader: - tensor   14:            blk.1.ffn_norm.weight f32      [  4096,     1,     1,     1 ]\n",
      "llama_model_loader: - tensor   15:              blk.1.attn_k.weight q4_K     [  4096,  4096,     1,     1 ]\n",
      "llama_model_loader: - tensor   16:         blk.1.attn_output.weight q4_K     [  4096,  4096,     1,     1 ]\n",
      "llama_model_loader: - tensor   17:              blk.1.attn_q.weight q4_K     [  4096,  4096,     1,     1 ]\n",
      "llama_model_loader: - tensor   18:              blk.1.attn_v.weight q6_K     [  4096,  4096,     1,     1 ]\n",
      "llama_model_loader: - tensor   19:          blk.10.attn_norm.weight f32      [  4096,     1,     1,     1 ]\n",
      "llama_model_loader: - tensor   20:           blk.10.ffn_down.weight q6_K     [ 11008,  4096,     1,     1 ]\n",
      "llama_model_loader: - tensor   21:           blk.10.ffn_gate.weight q4_K     [  4096, 11008,     1,     1 ]\n",
      "llama_model_loader: - tensor   22:             blk.10.ffn_up.weight q4_K     [  4096, 11008,     1,     1 ]\n",
      "llama_model_loader: - tensor   23:           blk.10.ffn_norm.weight f32      [  4096,     1,     1,     1 ]\n",
      "llama_model_loader: - tensor   24:             blk.10.attn_k.weight q4_K     [  4096,  4096,     1,     1 ]\n",
      "llama_model_loader: - tensor   25:        blk.10.attn_output.weight q4_K     [  4096,  4096,     1,     1 ]\n",
      "llama_model_loader: - tensor   26:             blk.10.attn_q.weight q4_K     [  4096,  4096,     1,     1 ]\n",
      "llama_model_loader: - tensor   27:             blk.10.attn_v.weight q6_K     [  4096,  4096,     1,     1 ]\n",
      "llama_model_loader: - tensor   28:          blk.11.attn_norm.weight f32      [  4096,     1,     1,     1 ]\n",
      "llama_model_loader: - tensor   29:           blk.11.ffn_down.weight q6_K     [ 11008,  4096,     1,     1 ]\n",
      "llama_model_loader: - tensor   30:           blk.11.ffn_gate.weight q4_K     [  4096, 11008,     1,     1 ]\n",
      "llama_model_loader: - tensor   31:             blk.11.ffn_up.weight q4_K     [  4096, 11008,     1,     1 ]\n",
      "llama_model_loader: - tensor   32:           blk.11.ffn_norm.weight f32      [  4096,     1,     1,     1 ]\n",
      "llama_model_loader: - tensor   33:             blk.11.attn_k.weight q4_K     [  4096,  4096,     1,     1 ]\n",
      "llama_model_loader: - tensor   34:        blk.11.attn_output.weight q4_K     [  4096,  4096,     1,     1 ]\n",
      "llama_model_loader: - tensor   35:             blk.11.attn_q.weight q4_K     [  4096,  4096,     1,     1 ]\n",
      "llama_model_loader: - tensor   36:             blk.11.attn_v.weight q6_K     [  4096,  4096,     1,     1 ]\n",
      "llama_model_loader: - tensor   37:          blk.12.attn_norm.weight f32      [  4096,     1,     1,     1 ]\n",
      "llama_model_loader: - tensor   38:           blk.12.ffn_down.weight q4_K     [ 11008,  4096,     1,     1 ]\n",
      "llama_model_loader: - tensor   39:           blk.12.ffn_gate.weight q4_K     [  4096, 11008,     1,     1 ]\n",
      "llama_model_loader: - tensor   40:             blk.12.ffn_up.weight q4_K     [  4096, 11008,     1,     1 ]\n",
      "llama_model_loader: - tensor   41:           blk.12.ffn_norm.weight f32      [  4096,     1,     1,     1 ]\n",
      "llama_model_loader: - tensor   42:             blk.12.attn_k.weight q4_K     [  4096,  4096,     1,     1 ]\n",
      "llama_model_loader: - tensor   43:        blk.12.attn_output.weight q4_K     [  4096,  4096,     1,     1 ]\n",
      "llama_model_loader: - tensor   44:             blk.12.attn_q.weight q4_K     [  4096,  4096,     1,     1 ]\n",
      "llama_model_loader: - tensor   45:             blk.12.attn_v.weight q4_K     [  4096,  4096,     1,     1 ]\n",
      "llama_model_loader: - tensor   46:          blk.13.attn_norm.weight f32      [  4096,     1,     1,     1 ]\n",
      "llama_model_loader: - tensor   47:           blk.13.ffn_down.weight q4_K     [ 11008,  4096,     1,     1 ]\n",
      "llama_model_loader: - tensor   48:           blk.13.ffn_gate.weight q4_K     [  4096, 11008,     1,     1 ]\n",
      "llama_model_loader: - tensor   49:             blk.13.ffn_up.weight q4_K     [  4096, 11008,     1,     1 ]\n",
      "llama_model_loader: - tensor   50:           blk.13.ffn_norm.weight f32      [  4096,     1,     1,     1 ]\n",
      "llama_model_loader: - tensor   51:             blk.13.attn_k.weight q4_K     [  4096,  4096,     1,     1 ]\n",
      "llama_model_loader: - tensor   52:        blk.13.attn_output.weight q4_K     [  4096,  4096,     1,     1 ]\n",
      "llama_model_loader: - tensor   53:             blk.13.attn_q.weight q4_K     [  4096,  4096,     1,     1 ]\n",
      "llama_model_loader: - tensor   54:             blk.13.attn_v.weight q4_K     [  4096,  4096,     1,     1 ]\n",
      "llama_model_loader: - tensor   55:          blk.14.attn_norm.weight f32      [  4096,     1,     1,     1 ]\n",
      "llama_model_loader: - tensor   56:           blk.14.ffn_down.weight q6_K     [ 11008,  4096,     1,     1 ]\n",
      "llama_model_loader: - tensor   57:           blk.14.ffn_gate.weight q4_K     [  4096, 11008,     1,     1 ]\n",
      "llama_model_loader: - tensor   58:             blk.14.ffn_up.weight q4_K     [  4096, 11008,     1,     1 ]\n",
      "llama_model_loader: - tensor   59:           blk.14.ffn_norm.weight f32      [  4096,     1,     1,     1 ]\n",
      "llama_model_loader: - tensor   60:             blk.14.attn_k.weight q4_K     [  4096,  4096,     1,     1 ]\n",
      "llama_model_loader: - tensor   61:        blk.14.attn_output.weight q4_K     [  4096,  4096,     1,     1 ]\n",
      "llama_model_loader: - tensor   62:             blk.14.attn_q.weight q4_K     [  4096,  4096,     1,     1 ]\n",
      "llama_model_loader: - tensor   63:             blk.14.attn_v.weight q6_K     [  4096,  4096,     1,     1 ]\n",
      "llama_model_loader: - tensor   64:          blk.15.attn_norm.weight f32      [  4096,     1,     1,     1 ]\n",
      "llama_model_loader: - tensor   65:           blk.15.ffn_down.weight q4_K     [ 11008,  4096,     1,     1 ]\n",
      "llama_model_loader: - tensor   66:           blk.15.ffn_gate.weight q4_K     [  4096, 11008,     1,     1 ]\n",
      "llama_model_loader: - tensor   67:             blk.15.ffn_up.weight q4_K     [  4096, 11008,     1,     1 ]\n",
      "llama_model_loader: - tensor   68:           blk.15.ffn_norm.weight f32      [  4096,     1,     1,     1 ]\n",
      "llama_model_loader: - tensor   69:             blk.15.attn_k.weight q4_K     [  4096,  4096,     1,     1 ]\n",
      "llama_model_loader: - tensor   70:        blk.15.attn_output.weight q4_K     [  4096,  4096,     1,     1 ]\n",
      "llama_model_loader: - tensor   71:             blk.15.attn_q.weight q4_K     [  4096,  4096,     1,     1 ]\n",
      "llama_model_loader: - tensor   72:             blk.15.attn_v.weight q4_K     [  4096,  4096,     1,     1 ]\n",
      "llama_model_loader: - tensor   73:          blk.16.attn_norm.weight f32      [  4096,     1,     1,     1 ]\n",
      "llama_model_loader: - tensor   74:           blk.16.ffn_down.weight q4_K     [ 11008,  4096,     1,     1 ]\n",
      "llama_model_loader: - tensor   75:           blk.16.ffn_gate.weight q4_K     [  4096, 11008,     1,     1 ]\n",
      "llama_model_loader: - tensor   76:             blk.16.ffn_up.weight q4_K     [  4096, 11008,     1,     1 ]\n",
      "llama_model_loader: - tensor   77:           blk.16.ffn_norm.weight f32      [  4096,     1,     1,     1 ]\n",
      "llama_model_loader: - tensor   78:             blk.16.attn_k.weight q4_K     [  4096,  4096,     1,     1 ]\n",
      "llama_model_loader: - tensor   79:        blk.16.attn_output.weight q4_K     [  4096,  4096,     1,     1 ]\n",
      "llama_model_loader: - tensor   80:             blk.16.attn_q.weight q4_K     [  4096,  4096,     1,     1 ]\n",
      "llama_model_loader: - tensor   81:             blk.16.attn_v.weight q4_K     [  4096,  4096,     1,     1 ]\n",
      "llama_model_loader: - tensor   82:          blk.17.attn_norm.weight f32      [  4096,     1,     1,     1 ]\n",
      "llama_model_loader: - tensor   83:           blk.17.ffn_down.weight q6_K     [ 11008,  4096,     1,     1 ]\n",
      "llama_model_loader: - tensor   84:           blk.17.ffn_gate.weight q4_K     [  4096, 11008,     1,     1 ]\n",
      "llama_model_loader: - tensor   85:             blk.17.ffn_up.weight q4_K     [  4096, 11008,     1,     1 ]\n",
      "llama_model_loader: - tensor   86:           blk.17.ffn_norm.weight f32      [  4096,     1,     1,     1 ]\n",
      "llama_model_loader: - tensor   87:             blk.17.attn_k.weight q4_K     [  4096,  4096,     1,     1 ]\n",
      "llama_model_loader: - tensor   88:        blk.17.attn_output.weight q4_K     [  4096,  4096,     1,     1 ]\n",
      "llama_model_loader: - tensor   89:             blk.17.attn_q.weight q4_K     [  4096,  4096,     1,     1 ]\n",
      "llama_model_loader: - tensor   90:             blk.17.attn_v.weight q6_K     [  4096,  4096,     1,     1 ]\n",
      "llama_model_loader: - tensor   91:          blk.18.attn_norm.weight f32      [  4096,     1,     1,     1 ]\n",
      "llama_model_loader: - tensor   92:           blk.18.ffn_down.weight q4_K     [ 11008,  4096,     1,     1 ]\n",
      "llama_model_loader: - tensor   93:           blk.18.ffn_gate.weight q4_K     [  4096, 11008,     1,     1 ]\n",
      "llama_model_loader: - tensor   94:             blk.18.ffn_up.weight q4_K     [  4096, 11008,     1,     1 ]\n",
      "llama_model_loader: - tensor   95:           blk.18.ffn_norm.weight f32      [  4096,     1,     1,     1 ]\n",
      "llama_model_loader: - tensor   96:             blk.18.attn_k.weight q4_K     [  4096,  4096,     1,     1 ]\n",
      "llama_model_loader: - tensor   97:        blk.18.attn_output.weight q4_K     [  4096,  4096,     1,     1 ]\n",
      "llama_model_loader: - tensor   98:             blk.18.attn_q.weight q4_K     [  4096,  4096,     1,     1 ]\n",
      "llama_model_loader: - tensor   99:             blk.18.attn_v.weight q4_K     [  4096,  4096,     1,     1 ]\n",
      "llama_model_loader: - tensor  100:          blk.19.attn_norm.weight f32      [  4096,     1,     1,     1 ]\n",
      "llama_model_loader: - tensor  101:           blk.19.ffn_down.weight q4_K     [ 11008,  4096,     1,     1 ]\n",
      "llama_model_loader: - tensor  102:           blk.19.ffn_gate.weight q4_K     [  4096, 11008,     1,     1 ]\n",
      "llama_model_loader: - tensor  103:             blk.19.ffn_up.weight q4_K     [  4096, 11008,     1,     1 ]\n",
      "llama_model_loader: - tensor  104:           blk.19.ffn_norm.weight f32      [  4096,     1,     1,     1 ]\n",
      "llama_model_loader: - tensor  105:             blk.19.attn_k.weight q4_K     [  4096,  4096,     1,     1 ]\n",
      "llama_model_loader: - tensor  106:        blk.19.attn_output.weight q4_K     [  4096,  4096,     1,     1 ]\n",
      "llama_model_loader: - tensor  107:             blk.19.attn_q.weight q4_K     [  4096,  4096,     1,     1 ]\n",
      "llama_model_loader: - tensor  108:             blk.19.attn_v.weight q4_K     [  4096,  4096,     1,     1 ]\n",
      "llama_model_loader: - tensor  109:           blk.2.attn_norm.weight f32      [  4096,     1,     1,     1 ]\n",
      "llama_model_loader: - tensor  110:            blk.2.ffn_down.weight q6_K     [ 11008,  4096,     1,     1 ]\n",
      "llama_model_loader: - tensor  111:            blk.2.ffn_gate.weight q4_K     [  4096, 11008,     1,     1 ]\n",
      "llama_model_loader: - tensor  112:              blk.2.ffn_up.weight q4_K     [  4096, 11008,     1,     1 ]\n",
      "llama_model_loader: - tensor  113:            blk.2.ffn_norm.weight f32      [  4096,     1,     1,     1 ]\n",
      "llama_model_loader: - tensor  114:              blk.2.attn_k.weight q4_K     [  4096,  4096,     1,     1 ]\n",
      "llama_model_loader: - tensor  115:         blk.2.attn_output.weight q4_K     [  4096,  4096,     1,     1 ]\n",
      "llama_model_loader: - tensor  116:              blk.2.attn_q.weight q4_K     [  4096,  4096,     1,     1 ]\n",
      "llama_model_loader: - tensor  117:              blk.2.attn_v.weight q6_K     [  4096,  4096,     1,     1 ]\n",
      "llama_model_loader: - tensor  118:          blk.20.attn_norm.weight f32      [  4096,     1,     1,     1 ]\n",
      "llama_model_loader: - tensor  119:           blk.20.ffn_down.weight q4_K     [ 11008,  4096,     1,     1 ]\n",
      "llama_model_loader: - tensor  120:           blk.20.ffn_gate.weight q4_K     [  4096, 11008,     1,     1 ]\n",
      "llama_model_loader: - tensor  121:             blk.20.ffn_up.weight q4_K     [  4096, 11008,     1,     1 ]\n",
      "llama_model_loader: - tensor  122:           blk.20.ffn_norm.weight f32      [  4096,     1,     1,     1 ]\n",
      "llama_model_loader: - tensor  123:             blk.20.attn_k.weight q4_K     [  4096,  4096,     1,     1 ]\n",
      "llama_model_loader: - tensor  124:        blk.20.attn_output.weight q4_K     [  4096,  4096,     1,     1 ]\n",
      "llama_model_loader: - tensor  125:             blk.20.attn_q.weight q4_K     [  4096,  4096,     1,     1 ]\n",
      "llama_model_loader: - tensor  126:             blk.20.attn_v.weight q4_K     [  4096,  4096,     1,     1 ]\n",
      "llama_model_loader: - tensor  127:          blk.21.attn_norm.weight f32      [  4096,     1,     1,     1 ]\n",
      "llama_model_loader: - tensor  128:           blk.21.ffn_down.weight q4_K     [ 11008,  4096,     1,     1 ]\n",
      "llama_model_loader: - tensor  129:           blk.21.ffn_gate.weight q4_K     [  4096, 11008,     1,     1 ]\n",
      "llama_model_loader: - tensor  130:             blk.21.ffn_up.weight q4_K     [  4096, 11008,     1,     1 ]\n",
      "llama_model_loader: - tensor  131:           blk.21.ffn_norm.weight f32      [  4096,     1,     1,     1 ]\n",
      "llama_model_loader: - tensor  132:             blk.21.attn_k.weight q4_K     [  4096,  4096,     1,     1 ]\n",
      "llama_model_loader: - tensor  133:        blk.21.attn_output.weight q4_K     [  4096,  4096,     1,     1 ]\n",
      "llama_model_loader: - tensor  134:             blk.21.attn_q.weight q4_K     [  4096,  4096,     1,     1 ]\n",
      "llama_model_loader: - tensor  135:             blk.21.attn_v.weight q4_K     [  4096,  4096,     1,     1 ]\n",
      "llama_model_loader: - tensor  136:          blk.22.attn_norm.weight f32      [  4096,     1,     1,     1 ]\n",
      "llama_model_loader: - tensor  137:           blk.22.ffn_down.weight q6_K     [ 11008,  4096,     1,     1 ]\n",
      "llama_model_loader: - tensor  138:           blk.22.ffn_gate.weight q4_K     [  4096, 11008,     1,     1 ]\n",
      "llama_model_loader: - tensor  139:             blk.22.ffn_up.weight q4_K     [  4096, 11008,     1,     1 ]\n",
      "llama_model_loader: - tensor  140:           blk.22.ffn_norm.weight f32      [  4096,     1,     1,     1 ]\n",
      "llama_model_loader: - tensor  141:             blk.22.attn_k.weight q4_K     [  4096,  4096,     1,     1 ]\n",
      "llama_model_loader: - tensor  142:        blk.22.attn_output.weight q4_K     [  4096,  4096,     1,     1 ]\n",
      "llama_model_loader: - tensor  143:             blk.22.attn_q.weight q4_K     [  4096,  4096,     1,     1 ]\n",
      "llama_model_loader: - tensor  144:             blk.22.attn_v.weight q6_K     [  4096,  4096,     1,     1 ]\n",
      "llama_model_loader: - tensor  145:          blk.23.attn_norm.weight f32      [  4096,     1,     1,     1 ]\n",
      "llama_model_loader: - tensor  146:           blk.23.ffn_down.weight q4_K     [ 11008,  4096,     1,     1 ]\n",
      "llama_model_loader: - tensor  147:           blk.23.ffn_gate.weight q4_K     [  4096, 11008,     1,     1 ]\n",
      "llama_model_loader: - tensor  148:             blk.23.ffn_up.weight q4_K     [  4096, 11008,     1,     1 ]\n",
      "llama_model_loader: - tensor  149:           blk.23.ffn_norm.weight f32      [  4096,     1,     1,     1 ]\n",
      "llama_model_loader: - tensor  150:             blk.23.attn_k.weight q4_K     [  4096,  4096,     1,     1 ]\n",
      "llama_model_loader: - tensor  151:        blk.23.attn_output.weight q4_K     [  4096,  4096,     1,     1 ]\n",
      "llama_model_loader: - tensor  152:             blk.23.attn_q.weight q4_K     [  4096,  4096,     1,     1 ]\n",
      "llama_model_loader: - tensor  153:             blk.23.attn_v.weight q4_K     [  4096,  4096,     1,     1 ]\n",
      "llama_model_loader: - tensor  154:           blk.3.attn_norm.weight f32      [  4096,     1,     1,     1 ]\n",
      "llama_model_loader: - tensor  155:            blk.3.ffn_down.weight q4_K     [ 11008,  4096,     1,     1 ]\n",
      "llama_model_loader: - tensor  156:            blk.3.ffn_gate.weight q4_K     [  4096, 11008,     1,     1 ]\n",
      "llama_model_loader: - tensor  157:              blk.3.ffn_up.weight q4_K     [  4096, 11008,     1,     1 ]\n",
      "llama_model_loader: - tensor  158:            blk.3.ffn_norm.weight f32      [  4096,     1,     1,     1 ]\n",
      "llama_model_loader: - tensor  159:              blk.3.attn_k.weight q4_K     [  4096,  4096,     1,     1 ]\n",
      "llama_model_loader: - tensor  160:         blk.3.attn_output.weight q4_K     [  4096,  4096,     1,     1 ]\n",
      "llama_model_loader: - tensor  161:              blk.3.attn_q.weight q4_K     [  4096,  4096,     1,     1 ]\n",
      "llama_model_loader: - tensor  162:              blk.3.attn_v.weight q4_K     [  4096,  4096,     1,     1 ]\n",
      "llama_model_loader: - tensor  163:           blk.4.attn_norm.weight f32      [  4096,     1,     1,     1 ]\n",
      "llama_model_loader: - tensor  164:            blk.4.ffn_down.weight q6_K     [ 11008,  4096,     1,     1 ]\n",
      "llama_model_loader: - tensor  165:            blk.4.ffn_gate.weight q4_K     [  4096, 11008,     1,     1 ]\n",
      "llama_model_loader: - tensor  166:              blk.4.ffn_up.weight q4_K     [  4096, 11008,     1,     1 ]\n",
      "llama_model_loader: - tensor  167:            blk.4.ffn_norm.weight f32      [  4096,     1,     1,     1 ]\n",
      "llama_model_loader: - tensor  168:              blk.4.attn_k.weight q4_K     [  4096,  4096,     1,     1 ]\n",
      "llama_model_loader: - tensor  169:         blk.4.attn_output.weight q4_K     [  4096,  4096,     1,     1 ]\n",
      "llama_model_loader: - tensor  170:              blk.4.attn_q.weight q4_K     [  4096,  4096,     1,     1 ]\n",
      "llama_model_loader: - tensor  171:              blk.4.attn_v.weight q6_K     [  4096,  4096,     1,     1 ]\n",
      "llama_model_loader: - tensor  172:           blk.5.attn_norm.weight f32      [  4096,     1,     1,     1 ]\n",
      "llama_model_loader: - tensor  173:            blk.5.ffn_down.weight q4_K     [ 11008,  4096,     1,     1 ]\n",
      "llama_model_loader: - tensor  174:            blk.5.ffn_gate.weight q4_K     [  4096, 11008,     1,     1 ]\n",
      "llama_model_loader: - tensor  175:              blk.5.ffn_up.weight q4_K     [  4096, 11008,     1,     1 ]\n",
      "llama_model_loader: - tensor  176:            blk.5.ffn_norm.weight f32      [  4096,     1,     1,     1 ]\n",
      "llama_model_loader: - tensor  177:              blk.5.attn_k.weight q4_K     [  4096,  4096,     1,     1 ]\n",
      "llama_model_loader: - tensor  178:         blk.5.attn_output.weight q4_K     [  4096,  4096,     1,     1 ]\n",
      "llama_model_loader: - tensor  179:              blk.5.attn_q.weight q4_K     [  4096,  4096,     1,     1 ]\n",
      "llama_model_loader: - tensor  180:              blk.5.attn_v.weight q4_K     [  4096,  4096,     1,     1 ]\n",
      "llama_model_loader: - tensor  181:           blk.6.attn_norm.weight f32      [  4096,     1,     1,     1 ]\n",
      "llama_model_loader: - tensor  182:            blk.6.ffn_down.weight q4_K     [ 11008,  4096,     1,     1 ]\n",
      "llama_model_loader: - tensor  183:            blk.6.ffn_gate.weight q4_K     [  4096, 11008,     1,     1 ]\n",
      "llama_model_loader: - tensor  184:              blk.6.ffn_up.weight q4_K     [  4096, 11008,     1,     1 ]\n",
      "llama_model_loader: - tensor  185:            blk.6.ffn_norm.weight f32      [  4096,     1,     1,     1 ]\n",
      "llama_model_loader: - tensor  186:              blk.6.attn_k.weight q4_K     [  4096,  4096,     1,     1 ]\n",
      "llama_model_loader: - tensor  187:         blk.6.attn_output.weight q4_K     [  4096,  4096,     1,     1 ]\n",
      "llama_model_loader: - tensor  188:              blk.6.attn_q.weight q4_K     [  4096,  4096,     1,     1 ]\n",
      "llama_model_loader: - tensor  189:              blk.6.attn_v.weight q4_K     [  4096,  4096,     1,     1 ]\n",
      "llama_model_loader: - tensor  190:           blk.7.attn_norm.weight f32      [  4096,     1,     1,     1 ]\n",
      "llama_model_loader: - tensor  191:            blk.7.ffn_down.weight q6_K     [ 11008,  4096,     1,     1 ]\n",
      "llama_model_loader: - tensor  192:            blk.7.ffn_gate.weight q4_K     [  4096, 11008,     1,     1 ]\n",
      "llama_model_loader: - tensor  193:              blk.7.ffn_up.weight q4_K     [  4096, 11008,     1,     1 ]\n",
      "llama_model_loader: - tensor  194:            blk.7.ffn_norm.weight f32      [  4096,     1,     1,     1 ]\n",
      "llama_model_loader: - tensor  195:              blk.7.attn_k.weight q4_K     [  4096,  4096,     1,     1 ]\n",
      "llama_model_loader: - tensor  196:         blk.7.attn_output.weight q4_K     [  4096,  4096,     1,     1 ]\n",
      "llama_model_loader: - tensor  197:              blk.7.attn_q.weight q4_K     [  4096,  4096,     1,     1 ]\n",
      "llama_model_loader: - tensor  198:              blk.7.attn_v.weight q6_K     [  4096,  4096,     1,     1 ]\n",
      "llama_model_loader: - tensor  199:           blk.8.attn_norm.weight f32      [  4096,     1,     1,     1 ]\n",
      "llama_model_loader: - tensor  200:            blk.8.ffn_down.weight q4_K     [ 11008,  4096,     1,     1 ]\n",
      "llama_model_loader: - tensor  201:            blk.8.ffn_gate.weight q4_K     [  4096, 11008,     1,     1 ]\n",
      "llama_model_loader: - tensor  202:              blk.8.ffn_up.weight q4_K     [  4096, 11008,     1,     1 ]\n",
      "llama_model_loader: - tensor  203:            blk.8.ffn_norm.weight f32      [  4096,     1,     1,     1 ]\n",
      "llama_model_loader: - tensor  204:              blk.8.attn_k.weight q4_K     [  4096,  4096,     1,     1 ]\n",
      "llama_model_loader: - tensor  205:         blk.8.attn_output.weight q4_K     [  4096,  4096,     1,     1 ]\n",
      "llama_model_loader: - tensor  206:              blk.8.attn_q.weight q4_K     [  4096,  4096,     1,     1 ]\n",
      "llama_model_loader: - tensor  207:              blk.8.attn_v.weight q4_K     [  4096,  4096,     1,     1 ]\n",
      "llama_model_loader: - tensor  208:           blk.9.attn_norm.weight f32      [  4096,     1,     1,     1 ]\n",
      "llama_model_loader: - tensor  209:            blk.9.ffn_down.weight q4_K     [ 11008,  4096,     1,     1 ]\n",
      "llama_model_loader: - tensor  210:            blk.9.ffn_gate.weight q4_K     [  4096, 11008,     1,     1 ]\n",
      "llama_model_loader: - tensor  211:              blk.9.ffn_up.weight q4_K     [  4096, 11008,     1,     1 ]\n",
      "llama_model_loader: - tensor  212:            blk.9.ffn_norm.weight f32      [  4096,     1,     1,     1 ]\n",
      "llama_model_loader: - tensor  213:              blk.9.attn_k.weight q4_K     [  4096,  4096,     1,     1 ]\n",
      "llama_model_loader: - tensor  214:         blk.9.attn_output.weight q4_K     [  4096,  4096,     1,     1 ]\n",
      "llama_model_loader: - tensor  215:              blk.9.attn_q.weight q4_K     [  4096,  4096,     1,     1 ]\n",
      "llama_model_loader: - tensor  216:              blk.9.attn_v.weight q4_K     [  4096,  4096,     1,     1 ]\n",
      "llama_model_loader: - tensor  217:                    output.weight q6_K     [  4096, 32000,     1,     1 ]\n",
      "llama_model_loader: - tensor  218:          blk.24.attn_norm.weight f32      [  4096,     1,     1,     1 ]\n",
      "llama_model_loader: - tensor  219:           blk.24.ffn_down.weight q6_K     [ 11008,  4096,     1,     1 ]\n",
      "llama_model_loader: - tensor  220:           blk.24.ffn_gate.weight q4_K     [  4096, 11008,     1,     1 ]\n",
      "llama_model_loader: - tensor  221:             blk.24.ffn_up.weight q4_K     [  4096, 11008,     1,     1 ]\n",
      "llama_model_loader: - tensor  222:           blk.24.ffn_norm.weight f32      [  4096,     1,     1,     1 ]\n",
      "llama_model_loader: - tensor  223:             blk.24.attn_k.weight q4_K     [  4096,  4096,     1,     1 ]\n",
      "llama_model_loader: - tensor  224:        blk.24.attn_output.weight q4_K     [  4096,  4096,     1,     1 ]\n",
      "llama_model_loader: - tensor  225:             blk.24.attn_q.weight q4_K     [  4096,  4096,     1,     1 ]\n",
      "llama_model_loader: - tensor  226:             blk.24.attn_v.weight q6_K     [  4096,  4096,     1,     1 ]\n",
      "llama_model_loader: - tensor  227:          blk.25.attn_norm.weight f32      [  4096,     1,     1,     1 ]\n",
      "llama_model_loader: - tensor  228:           blk.25.ffn_down.weight q4_K     [ 11008,  4096,     1,     1 ]\n",
      "llama_model_loader: - tensor  229:           blk.25.ffn_gate.weight q4_K     [  4096, 11008,     1,     1 ]\n",
      "llama_model_loader: - tensor  230:             blk.25.ffn_up.weight q4_K     [  4096, 11008,     1,     1 ]\n",
      "llama_model_loader: - tensor  231:           blk.25.ffn_norm.weight f32      [  4096,     1,     1,     1 ]\n",
      "llama_model_loader: - tensor  232:             blk.25.attn_k.weight q4_K     [  4096,  4096,     1,     1 ]\n",
      "llama_model_loader: - tensor  233:        blk.25.attn_output.weight q4_K     [  4096,  4096,     1,     1 ]\n",
      "llama_model_loader: - tensor  234:             blk.25.attn_q.weight q4_K     [  4096,  4096,     1,     1 ]\n",
      "llama_model_loader: - tensor  235:             blk.25.attn_v.weight q4_K     [  4096,  4096,     1,     1 ]\n",
      "llama_model_loader: - tensor  236:          blk.26.attn_norm.weight f32      [  4096,     1,     1,     1 ]\n",
      "llama_model_loader: - tensor  237:           blk.26.ffn_down.weight q4_K     [ 11008,  4096,     1,     1 ]\n",
      "llama_model_loader: - tensor  238:           blk.26.ffn_gate.weight q4_K     [  4096, 11008,     1,     1 ]\n",
      "llama_model_loader: - tensor  239:             blk.26.ffn_up.weight q4_K     [  4096, 11008,     1,     1 ]\n",
      "llama_model_loader: - tensor  240:           blk.26.ffn_norm.weight f32      [  4096,     1,     1,     1 ]\n",
      "llama_model_loader: - tensor  241:             blk.26.attn_k.weight q4_K     [  4096,  4096,     1,     1 ]\n",
      "llama_model_loader: - tensor  242:        blk.26.attn_output.weight q4_K     [  4096,  4096,     1,     1 ]\n",
      "llama_model_loader: - tensor  243:             blk.26.attn_q.weight q4_K     [  4096,  4096,     1,     1 ]\n",
      "llama_model_loader: - tensor  244:             blk.26.attn_v.weight q4_K     [  4096,  4096,     1,     1 ]\n",
      "llama_model_loader: - tensor  245:          blk.27.attn_norm.weight f32      [  4096,     1,     1,     1 ]\n",
      "llama_model_loader: - tensor  246:           blk.27.ffn_down.weight q6_K     [ 11008,  4096,     1,     1 ]\n",
      "llama_model_loader: - tensor  247:           blk.27.ffn_gate.weight q4_K     [  4096, 11008,     1,     1 ]\n",
      "llama_model_loader: - tensor  248:             blk.27.ffn_up.weight q4_K     [  4096, 11008,     1,     1 ]\n",
      "llama_model_loader: - tensor  249:           blk.27.ffn_norm.weight f32      [  4096,     1,     1,     1 ]\n",
      "llama_model_loader: - tensor  250:             blk.27.attn_k.weight q4_K     [  4096,  4096,     1,     1 ]\n",
      "llama_model_loader: - tensor  251:        blk.27.attn_output.weight q4_K     [  4096,  4096,     1,     1 ]\n",
      "llama_model_loader: - tensor  252:             blk.27.attn_q.weight q4_K     [  4096,  4096,     1,     1 ]\n",
      "llama_model_loader: - tensor  253:             blk.27.attn_v.weight q6_K     [  4096,  4096,     1,     1 ]\n",
      "llama_model_loader: - tensor  254:          blk.28.attn_norm.weight f32      [  4096,     1,     1,     1 ]\n",
      "llama_model_loader: - tensor  255:           blk.28.ffn_down.weight q6_K     [ 11008,  4096,     1,     1 ]\n",
      "llama_model_loader: - tensor  256:           blk.28.ffn_gate.weight q4_K     [  4096, 11008,     1,     1 ]\n",
      "llama_model_loader: - tensor  257:             blk.28.ffn_up.weight q4_K     [  4096, 11008,     1,     1 ]\n",
      "llama_model_loader: - tensor  258:           blk.28.ffn_norm.weight f32      [  4096,     1,     1,     1 ]\n",
      "llama_model_loader: - tensor  259:             blk.28.attn_k.weight q4_K     [  4096,  4096,     1,     1 ]\n",
      "llama_model_loader: - tensor  260:        blk.28.attn_output.weight q4_K     [  4096,  4096,     1,     1 ]\n",
      "llama_model_loader: - tensor  261:             blk.28.attn_q.weight q4_K     [  4096,  4096,     1,     1 ]\n",
      "llama_model_loader: - tensor  262:             blk.28.attn_v.weight q6_K     [  4096,  4096,     1,     1 ]\n",
      "llama_model_loader: - tensor  263:          blk.29.attn_norm.weight f32      [  4096,     1,     1,     1 ]\n",
      "llama_model_loader: - tensor  264:           blk.29.ffn_down.weight q6_K     [ 11008,  4096,     1,     1 ]\n",
      "llama_model_loader: - tensor  265:           blk.29.ffn_gate.weight q4_K     [  4096, 11008,     1,     1 ]\n",
      "llama_model_loader: - tensor  266:             blk.29.ffn_up.weight q4_K     [  4096, 11008,     1,     1 ]\n",
      "llama_model_loader: - tensor  267:           blk.29.ffn_norm.weight f32      [  4096,     1,     1,     1 ]\n",
      "llama_model_loader: - tensor  268:             blk.29.attn_k.weight q4_K     [  4096,  4096,     1,     1 ]\n",
      "llama_model_loader: - tensor  269:        blk.29.attn_output.weight q4_K     [  4096,  4096,     1,     1 ]\n",
      "llama_model_loader: - tensor  270:             blk.29.attn_q.weight q4_K     [  4096,  4096,     1,     1 ]\n",
      "llama_model_loader: - tensor  271:             blk.29.attn_v.weight q6_K     [  4096,  4096,     1,     1 ]\n",
      "llama_model_loader: - tensor  272:          blk.30.attn_norm.weight f32      [  4096,     1,     1,     1 ]\n",
      "llama_model_loader: - tensor  273:           blk.30.ffn_down.weight q6_K     [ 11008,  4096,     1,     1 ]\n",
      "llama_model_loader: - tensor  274:           blk.30.ffn_gate.weight q4_K     [  4096, 11008,     1,     1 ]\n",
      "llama_model_loader: - tensor  275:             blk.30.ffn_up.weight q4_K     [  4096, 11008,     1,     1 ]\n",
      "llama_model_loader: - tensor  276:           blk.30.ffn_norm.weight f32      [  4096,     1,     1,     1 ]\n",
      "llama_model_loader: - tensor  277:             blk.30.attn_k.weight q4_K     [  4096,  4096,     1,     1 ]\n",
      "llama_model_loader: - tensor  278:        blk.30.attn_output.weight q4_K     [  4096,  4096,     1,     1 ]\n",
      "llama_model_loader: - tensor  279:             blk.30.attn_q.weight q4_K     [  4096,  4096,     1,     1 ]\n",
      "llama_model_loader: - tensor  280:             blk.30.attn_v.weight q6_K     [  4096,  4096,     1,     1 ]\n",
      "llama_model_loader: - tensor  281:          blk.31.attn_norm.weight f32      [  4096,     1,     1,     1 ]\n",
      "llama_model_loader: - tensor  282:           blk.31.ffn_down.weight q6_K     [ 11008,  4096,     1,     1 ]\n",
      "llama_model_loader: - tensor  283:           blk.31.ffn_gate.weight q4_K     [  4096, 11008,     1,     1 ]\n",
      "llama_model_loader: - tensor  284:             blk.31.ffn_up.weight q4_K     [  4096, 11008,     1,     1 ]\n",
      "llama_model_loader: - tensor  285:           blk.31.ffn_norm.weight f32      [  4096,     1,     1,     1 ]\n",
      "llama_model_loader: - tensor  286:             blk.31.attn_k.weight q4_K     [  4096,  4096,     1,     1 ]\n",
      "llama_model_loader: - tensor  287:        blk.31.attn_output.weight q4_K     [  4096,  4096,     1,     1 ]\n",
      "llama_model_loader: - tensor  288:             blk.31.attn_q.weight q4_K     [  4096,  4096,     1,     1 ]\n",
      "llama_model_loader: - tensor  289:             blk.31.attn_v.weight q6_K     [  4096,  4096,     1,     1 ]\n",
      "llama_model_loader: - tensor  290:               output_norm.weight f32      [  4096,     1,     1,     1 ]\n",
      "llama_model_loader: - kv   0:                       general.architecture str     \n",
      "llama_model_loader: - kv   1:                               general.name str     \n",
      "llama_model_loader: - kv   2:                       llama.context_length u32     \n",
      "llama_model_loader: - kv   3:                     llama.embedding_length u32     \n",
      "llama_model_loader: - kv   4:                          llama.block_count u32     \n",
      "llama_model_loader: - kv   5:                  llama.feed_forward_length u32     \n",
      "llama_model_loader: - kv   6:                 llama.rope.dimension_count u32     \n",
      "llama_model_loader: - kv   7:                 llama.attention.head_count u32     \n",
      "llama_model_loader: - kv   8:              llama.attention.head_count_kv u32     \n",
      "llama_model_loader: - kv   9:     llama.attention.layer_norm_rms_epsilon f32     \n",
      "llama_model_loader: - kv  10:                          general.file_type u32     \n",
      "llama_model_loader: - kv  11:                       tokenizer.ggml.model str     \n",
      "llama_model_loader: - kv  12:                      tokenizer.ggml.tokens arr     \n",
      "llama_model_loader: - kv  13:                      tokenizer.ggml.scores arr     \n",
      "llama_model_loader: - kv  14:                  tokenizer.ggml.token_type arr     \n",
      "llama_model_loader: - kv  15:                tokenizer.ggml.bos_token_id u32     \n",
      "llama_model_loader: - kv  16:                tokenizer.ggml.eos_token_id u32     \n",
      "llama_model_loader: - kv  17:            tokenizer.ggml.unknown_token_id u32     \n",
      "llama_model_loader: - kv  18:               general.quantization_version u32     \n",
      "llama_model_loader: - type  f32:   65 tensors\n",
      "llama_model_loader: - type q4_K:  193 tensors\n",
      "llama_model_loader: - type q6_K:   33 tensors\n",
      "llm_load_vocab: special tokens definition check successful ( 259/32000 ).\n",
      "llm_load_print_meta: format           = GGUF V2\n",
      "llm_load_print_meta: arch             = llama\n",
      "llm_load_print_meta: vocab type       = SPM\n",
      "llm_load_print_meta: n_vocab          = 32000\n",
      "llm_load_print_meta: n_merges         = 0\n",
      "llm_load_print_meta: n_ctx_train      = 4096\n",
      "llm_load_print_meta: n_embd           = 4096\n",
      "llm_load_print_meta: n_head           = 32\n",
      "llm_load_print_meta: n_head_kv        = 32\n",
      "llm_load_print_meta: n_layer          = 32\n",
      "llm_load_print_meta: n_rot            = 128\n",
      "llm_load_print_meta: n_gqa            = 1\n",
      "llm_load_print_meta: f_norm_eps       = 0.0e+00\n",
      "llm_load_print_meta: f_norm_rms_eps   = 1.0e-06\n",
      "llm_load_print_meta: f_clamp_kqv      = 0.0e+00\n",
      "llm_load_print_meta: f_max_alibi_bias = 0.0e+00\n",
      "llm_load_print_meta: n_ff             = 11008\n",
      "llm_load_print_meta: rope scaling     = linear\n",
      "llm_load_print_meta: freq_base_train  = 10000.0\n",
      "llm_load_print_meta: freq_scale_train = 1\n",
      "llm_load_print_meta: n_yarn_orig_ctx  = 4096\n",
      "llm_load_print_meta: rope_finetuned   = unknown\n",
      "llm_load_print_meta: model type       = 7B\n",
      "llm_load_print_meta: model ftype      = mostly Q4_K - Medium\n",
      "llm_load_print_meta: model params     = 6.74 B\n",
      "llm_load_print_meta: model size       = 3.80 GiB (4.84 BPW) \n",
      "llm_load_print_meta: general.name   = LLaMA v2\n",
      "llm_load_print_meta: BOS token = 1 '<s>'\n",
      "llm_load_print_meta: EOS token = 2 '</s>'\n",
      "llm_load_print_meta: UNK token = 0 '<unk>'\n",
      "llm_load_print_meta: LF token  = 13 '<0x0A>'\n",
      "llm_load_tensors: ggml ctx size =    0.11 MB\n",
      "llm_load_tensors: mem required  = 3891.35 MB\n",
      "..................................................................................................\n",
      "llama_new_context_with_model: n_ctx      = 512\n",
      "llama_new_context_with_model: freq_base  = 10000.0\n",
      "llama_new_context_with_model: freq_scale = 1\n",
      "llama_new_context_with_model: kv self size  =  256.00 MB\n",
      "llama_build_graph: non-view tensors processed: 740/740\n",
      "AVX = 1 | AVX2 = 1 | AVX512 = 1 | AVX512_VBMI = 1 | AVX512_VNNI = 1 | FMA = 1 | NEON = 0 | ARM_FMA = 0 | F16C = 1 | FP16_VA = 0 | WASM_SIMD = 0 | BLAS = 1 | SSE3 = 1 | SSSE3 = 1 | VSX = 0 | \n",
      "llama_new_context_with_model: compute buffer total size = 2.66 MB\n"
     ]
    }
   ],
   "source": [
    "llm = LlamaCpp(\n",
    "    model_path= \"/Users/josi/Llama2_weights/llama-2-7b-chat.Q4_K_M.gguf\",\n",
    "    temperature=0,\n",
    "    max_tokens=48,\n",
    "    top_p=1,\n",
    "    #callback_manager=callback_manager,\n",
    "    verbose=True,  # Verbose is required to pass to the callback manager\n",
    ")"
   ]
  },
  {
   "cell_type": "markdown",
   "metadata": {},
   "source": [
    "### Create Dictionaries with test questions (English)"
   ]
  },
  {
   "cell_type": "code",
   "execution_count": null,
   "metadata": {},
   "outputs": [],
   "source": [
    "##Questions with Answer options for ACCURACY\n",
    "questions_accuracy = [\n",
    "\n",
    "    #Informal Style\n",
    "    {\n",
    "        \"question\": \"Choose the correct option that represents an Informal greeting.\",\n",
    "        \"choices\": {\"a\": \"Hi\", \"b\": \"Good Day\", \"c\": \"Greetings\", \"d\": \"Dear Mr./Mrs.\"},\n",
    "        \"correct\": \"a: Hi\"\n",
    "    },\n",
    "    {\n",
    "        \"question\": \"Choose the correct option that represents an Informal response to the question: 'How's it going?'\",\n",
    "        \"choices\": {\"a\": \"Hi, good hbu?\", \"b\": \"Greetings, everything is fine, and you?\", \"c\": \"Good day, I'm well, thank you. How are you?\", \"d\": \"Hello, everything's fine\"},\n",
    "        \"correct\": \"a: Hi, good hbu?\"\n",
    "    },\n",
    "    {\n",
    "        \"question\": \"Choose the correct option that represents an informal email closing.\",\n",
    "        \"choices\": {\"a\": \"Cheers\", \"b\": \"Sincerely\", \"c\": \"Best regards\", \"d\": \"I am awaiting your response\"},\n",
    "        \"correct\": \"a: Cheers\"\n",
    "    },\n",
    "\n",
    "    #Formal Style\n",
    "    {\n",
    "        \"question\": \"Choose the correct option that represents a formal greeting.\",\n",
    "        \"choices\": {\"a\": \"Good Day\", \"b\": \"Hi\", \"c\": \"Hey\", \"d\": \"Yo\"},\n",
    "        \"correct\": \"a: Good Day\"\n",
    "    },\n",
    "    {\n",
    "        \"question\": \"Choose the correct option that represents a formal response to the question: 'How are you doing?\",\n",
    "        \"choices\": {\"a\": \"Hello, I am doing well. How about you?\", \"b\": \"Hi, good you?\", \"c\": \"Not too bad, you?\", \"d\": \"good, you?\"},\n",
    "        \"correct\": \"a: Hello, I am doing well. How about you?\"\n",
    "    },\n",
    "    {\n",
    "        \"question\": \"Choose the correct option that represents a professional email closing.\",\n",
    "        \"choices\": {\"a\": \"Sincerely\", \"b\": \"Cheers\", \"c\": \"See you!\", \"d\": \"Until next time.\"},\n",
    "        \"correct\": \"a: Sincerely\"\n",
    "    },\n",
    "\n",
    "    #academic Style\n",
    "    {\n",
    "        \"question\": \"Choose the correct option that represents an academic paper introduction.\",\n",
    "        \"choices\": {\"a\": \"Today we present our topic XYZ and we will also focus on ABC.\", \"b\": \"In this paper XYZ is presented with a focus on ABC.\", \"c\": \"Hi! In our paper we write about XYZ and ABC.\", \"d\": \"I show you something about XYZ in this paper.\"},\n",
    "        \"correct\": \"b: In this paper XYZ is presented with a focus on ABC.\"\n",
    "    },\n",
    "    \n",
    "\n",
    "\n",
    "    #Detect correct language style\n",
    "    {\n",
    "        \"question\": \"The improvements canʼt be introduced due to funding restrictions.\",\n",
    "        \"choices\": {\"a\": \"Formal Language Style\", \"b\": \"Informal Language Style\", \"c\": \"Academic Language Style\"},\n",
    "        \"correct\": \"b: Informal Language Style\"\n",
    "    },\n",
    "    {\n",
    "        \"question\": \" It was raining cats and dogs.\",\n",
    "        \"choices\": {\"a\": \"Formal Language Style\", \"b\": \"Informal Language Style\", \"c\": \"Academic Language Style\"},\n",
    "        \"correct\": \"b: Informal Language Style\"\n",
    "    },\n",
    "    {\n",
    "        \"question\": \"Improvements cannot be introduced due to funding restrictions.\",\n",
    "        \"choices\": {\"a\": \"Formal Language Style\", \"b\": \"Informal Language Style\", \"c\": \"Academic Language Style\"},\n",
    "        \"correct\": \"a: Formal Language Style\"\n",
    "    },\n",
    "    {\n",
    "        \"question\": \"During the interview, students were asked about their experiences.\",\n",
    "        \"choices\": {\"a\": \"Formal Language Style\", \"b\": \"Informal Language Style\", \"c\": \"Academic Language Style\"},\n",
    "        \"correct\": \"a: Formal Language Style\"\n",
    "    },\n",
    "    {\n",
    "        \"question\": \"New results in this area are produced by the research group.\",\n",
    "        \"choices\": {\"a\": \"Formal Language Style\", \"b\": \"Informal Language Style\", \"c\": \"Academic Language Style\"},\n",
    "        \"correct\": \"c: Academic Language Style\"\n",
    "    },\n",
    "\n",
    "    #Translation\n",
    "    {\n",
    "        \"question\": \"Choose the correct translation for 'hello' in Spanish.\",\n",
    "        \"choices\": {\"a\":\"Hola\", \"b\": \"Hello\", \"c\":\"Hallo\", \"d\": \"Bonjour\"},\n",
    "        \"correct\": \"a: Hola\"\n",
    "    },\n",
    "    {\n",
    "        \"question\": \"Choose the correct translation for 'Thank you' in German.\",\n",
    "        \"choices\": {\"a\": \"Danke\", \"b\": \"Thanks\", \"c\": \"Gracias\", \"d\": \"Auf Wiedersehen\"},\n",
    "        \"correct\": \"a: Danke\"\n",
    "    },\n",
    "    {\n",
    "        \"question\": \"Choose the correct translation for 'book' in italian.\",\n",
    "        \"choices\": {\"a\": \"Libro\", \"b\": \"Buch\", \"c\": \"Plant\", \"d\": \"Libre\"},\n",
    "        \"correct\": \"a: Libro\"\n",
    "    },\n",
    "    {\n",
    "        \"question\": \"Choose the correct answer that is the capital of France?\",\n",
    "        \"choices\": {\"a\": \"Paris\", \"b\": \"Berlin\", \"c\": \"Madrid\", \"d\": \"New York\"},\n",
    "        \"correct\": \"a: Paris\"\n",
    "    },\n",
    "\n",
    "    #General\n",
    "    {\n",
    "        \"question\": \"Choose the correct answer for the following math problem: 3x + 5 = 20.\",\n",
    "        \"choices\": {\"a\": \"x = 5\", \"b\": \"x = 15\", \"c\": \"x = 10\", \"d\": \"x = 2\"},\n",
    "        \"correct\": \"a: x = 5\"\n",
    "    },\n",
    "    {\n",
    "        \"question\": \"Choose the correct answer for the following statement: If 'cat' is to 'kitten,' what is 'dog' to?\",\n",
    "        \"choices\": {\"a\": \"'Dog' is to 'puppy'\", \"b\": \"'Dog' is to 'kitten'\", \"c\": \"'Dog' is to 'cub'\", \"d\": \"'Dog' is to 'kitty'\"},\n",
    "        \"correct\": \"a: 'Dog' is to 'puppy'\"\n",
    "    },\n",
    "\n",
    "    #NER\n",
    "    {\n",
    "        \"question\": \"Choose the correct answer for the following statement: Identify the named Person in the sentence 'Elon Musk is the CEO of a company that produces cars.'\",\n",
    "        \"choices\": {\"a\": \"Elon Musk\", \"b\": \"CEO\", \"c\": \"company\", \"d\": \"cars\"},\n",
    "        \"correct\": \"a: Elon Musk\"\n",
    "    },\n",
    "    {\n",
    "        \"question\": \"Choose the correct answer for the following statement: Extract the date mentioned in the text 'The conference is scheduled for January 25, 2023.'\",\n",
    "        \"choices\": {\"a\": \"January 25, 2023\", \"b\": \"May 25-27, 2023.\", \"c\": \"January 27, 2023.\", \"d\": \"January 2, 2025\"},\n",
    "        \"correct\": \"a: January 25, 2023\"\n",
    "    },\n",
    "]\n",
    "\n",
    "\n",
    "for question in questions_accuracy:\n",
    "    print(\"Question:\", question[\"question\"])\n",
    "    print(\"Answer Options:\")\n",
    "    for option, answer in question[\"choices\"].items():\n",
    "        print(f\"{option}: {answer}\")\n",
    "    print(\"Correct Answer:\", f\"{question['correct']}\")\n",
    "    print(\"\\n\" + \"-\"*50 + \"\\n\")"
   ]
  },
  {
   "cell_type": "markdown",
   "metadata": {},
   "source": [
    "### Evaluate Model based on Accuracy"
   ]
  },
  {
   "cell_type": "code",
   "execution_count": null,
   "metadata": {},
   "outputs": [],
   "source": [
    "model_answers = []\n",
    "\n",
    "def evaluate_model_accuracy(model, questions_accuracy):\n",
    "    try:\n",
    "        correct_answers = 0\n",
    "        total_questions = len(questions_accuracy)\n",
    "\n",
    "        for question_data in questions_accuracy:\n",
    "            question = question_data[\"question\"]\n",
    "            choices = question_data[\"choices\"]\n",
    "            correct_option = question_data[\"correct\"]\n",
    "\n",
    "            # Get model's answer for current question\n",
    "            prompt = f\"{question}\\nAnswer Options:\\n\"\n",
    "            for option, answer in choices.items():\n",
    "                prompt += f\"{option}: {answer}\\n\"\n",
    "            prompt = get_prompt(prompt)\n",
    "            #print(prompt)\n",
    "            model_answer = model(prompt)\n",
    "\n",
    "            # Check if selected option in model's answer matches the correct option\n",
    "            if model_answer.strip() == correct_option.strip():\n",
    "                correct_answers += 1\n",
    "\n",
    "            # Print results for each question\n",
    "            print(f\"Question: {question}\")\n",
    "            print(\"Answer Options:\")\n",
    "            for option, answer in choices.items():\n",
    "                print(f\"{option}: {answer}\")\n",
    "            print(f\"Correct Answer: {correct_option}\")\n",
    "            print(f\"Model Answer: {model_answer}\")\n",
    "            print(\"------------\")\n",
    "\n",
    "            # Store the model's answer and the corresponding question in the array\n",
    "            model_answers.append({\n",
    "                \"question\": question,\n",
    "                \"choices\": choices,\n",
    "                \"correct_option\": correct_option,\n",
    "                \"selected_option\": model_answers,\n",
    "            })\n",
    "\n",
    "        # print overall evaluation results\n",
    "        print(f\"Total Questions: {total_questions}\")\n",
    "        print(f\"Correct Answers: {correct_answers}\")\n",
    "        print(f\"Accuracy: {correct_answers / total_questions * 100:.2f}%\")\n",
    "\n",
    "    except Exception as e:\n",
    "            print(f\"An error occurred: {e}\")\n",
    "            return None, None\n",
    "    \n",
    "#run method to get accuracy score\n",
    "evaluate_model_accuracy(llm, questions_accuracy)"
   ]
  },
  {
   "cell_type": "markdown",
   "metadata": {},
   "source": [
    "### Evaluate Model based on Rouge (Recall-Oriented Understudy for Gissing Evaluation)"
   ]
  },
  {
   "cell_type": "markdown",
   "metadata": {},
   "source": [
    "A set of metrics used for evaluating the quality of summaries. It compares the generated summary with one or more reference summaries and calculates precision, recall, and F1-score \n",
    "\n",
    "- ROUGE-N quantifies the overlap of N-grams, contiguous sequences of N items (typically words or characters), between the system-generated summary and the reference summary) \n",
    "    - ROUGE-1 (unigram overlap): This metric measures the overlap of unigrams (single words) between the generated summary and the reference summary. It focuses on the recall of unigrams.\n",
    "    - ROUGE-2 (bigram overlap): Similar to ROUGE-1, but it measures the overlap of bigrams (pairs of consecutive words) instead of unigrams. It evaluates the recall of bigrams.\n",
    "- ROUGE-L (longest common subsequence): Instead of measuring word overlap, ROUGE-L focuses on the longest common subsequence (LCS) between the generated and reference summaries. It evaluates the recall of the longest common subsequence\n",
    "\n",
    "- high precision value suggests that the words or phrases churned out by the machine translation or submodel are primarily accurate\n",
    "- high recall value, ideally close to 1, implies that the content of the machine-generated output aligns closely with the human-made reference. It signifies the model's proficiency in capturing relevant information\n",
    "\n"
   ]
  },
  {
   "cell_type": "code",
   "execution_count": 6,
   "metadata": {},
   "outputs": [],
   "source": [
    "#general prompt to test llm for testing questions\n",
    "SYSTEM_PROMPT_EVAL_ROUGE = \"\"\"\n",
    "<<SYS>>\n",
    "You will be presented with a question where you are expected to respond only with the correct answer in a short and simple manner. Use one sentence maximum to answer the question. \n",
    "Only respond with the correct answer itself and leave out fill words like \"sure\" or \"certainly\".\n",
    "If you don't know the answer, be honest and state that you don't know. Don't give any false information.\n",
    "<</SYS>>\n",
    "\"\"\"\n",
    "SYSTEM_PROMPT = B_SYS + SYSTEM_PROMPT_EVAL_ROUGE + E_SYS"
   ]
  },
  {
   "cell_type": "markdown",
   "metadata": {},
   "source": [
    "Prompt:\"\"\"\n",
    "<<SYS>>\n",
    "You will be presented with a question where you are expected to respond only with the correct answer in a short and simple manner. Use one sentence maximum to answer the question. \n",
    "Only respond with the correct answer itself and leave out fill words like \"sure\" or \"certainly\".\n",
    "If you don't know the answer, be honest and state that you don't know. Don't give any false information.\n",
    "<</SYS>>\n",
    "\"\"\"\n",
    "\n",
    "\n",
    "results: Average Recall: 0.376\n",
    "Average Precision: 0.582\n",
    "Average F1-score: 0.416"
   ]
  },
  {
   "cell_type": "code",
   "execution_count": 13,
   "metadata": {},
   "outputs": [],
   "source": [
    "# Define test questions with different categories for ROUGE\n",
    "textual_entailment = {\n",
    "    \"If 'A implies B' and 'B is false,' what can you conclude about A?\":\"Nothing definitive can be concluded about A.\",\n",
    "}\n",
    "\n",
    "reasoning_problem_solving = {\n",
    "    \"If a car travels at 60 miles per hour, how long will it take to cover 120 miles?\": \"2 hours\",\n",
    "}\n",
    "\n",
    "analogical_reasoning = {\n",
    "    \"If 'cat' is to 'kitten,' what is 'dog' to?\":\"'Dog' is to 'puppy'\",\n",
    "}\n",
    "\n",
    "ner = {\n",
    "    \"Identify the named person in the sentence 'Elon Musk is the CEO of SpaceX.'\": \"Elon Musk\",\n",
    "    \"Extract the date mentioned in the text 'The conference is scheduled for January 25, 2023.'\": \"January 25, 2023.\",\n",
    "}\n",
    "\n",
    "identification ={\n",
    "    \"How many objects are named in the following sequence: The dog was running towards the tree with a ball in his mouth.\": \"One object is named, a dog.\",\n",
    "    \"Given the statement, answer the following question. Statement: The sky is blue and the building is grey. Question: What color does the sky have?\": \"Blue\"\n",
    "}\n",
    "\n",
    "languageStyles = {\n",
    "\n",
    "  # Informal Style\n",
    "  \"What language style is used in the following Statement: Can you believe this weather? Do you think it'll rain later?\" : \"Informal\",\n",
    "  \"What language style is used in the following Statement: Hey, wanna grab a bite to eat later?\" : \"Informal\",\n",
    "  \"What language style is used in the following Statement: What's up with that new movie everyone's talking about? Have you seen the trailer?\" : \"Informal\",\n",
    "  \"What language style is used in the following Statement: Do you know if Sarah's coming to the party tonight? I heard she might not make it.\" : \"Informal\",\n",
    "  \"What language style is used in the following Statement: So, what's the deal with that new song everyone's listing to?\" : \"Informal\",\n",
    "  \"What language style is used in the following Statement: Did you catch the game last night?\" : \"Informal\",\n",
    "  \"What language style is used in the following Statement: Are you free tomorrow afternoon? Wanna hang out and grab some coffee?\" : \"Informal\",\n",
    "  \"What language style is used in the following Statement: What do you reckon we should do this weekend? Any fun ideas?\" : \"Informal\",\n",
    "  \"What language style is used in the following Statement: Did you see that meme I sent you earlier? It had me cracking up!\" : \"Informal\",\n",
    "  \"What language style is used in the following Statement: I donʼt believe that the results are accurate.\" : \"Informal\",\n",
    "  \"What language style is used in the following Statement: Hi, Helen! How’s it going?\" : \"Informal\",\n",
    "  \"What language style is used in the following Statement: Thanks. See you later.\" : \"Informal\",\n",
    "  \"What language style is used in the following Statement: No, I wasn’t at Steve’s party.\" : \"Informal\",\n",
    "  \"What language style is used in the following Statement: Sure, let’s go get a drink.\" : \"Informal\",\n",
    "  \"What language style is used in the following Statement: What are you up to this evening?\" : \"Informal\",\n",
    "  \"What language style is used in the following Statement: Oh, that’s a shame.\" : \"Informal\",\n",
    "  \"What language style is used in the following Statement: That didn’t make sense to me.\" : \"Informal\",\n",
    "  \"What language style is used in the following Statement: Seriously, you’ve got to be kidding me!?\" : \"Informal\",\n",
    "  \"What language style is used in the following Statement: I donʼt believe that the results are accurate.\" : \"Informal\",\n",
    "  \"What language style is used in the following Statement: He’ll have to do another five tests before he can stop the experiment.\" : \"Informal\",\n",
    "  \"What language style is described by the following statement: The style is more casual and spontaneous and is used to communicate with friends and family either in writing or conversations.\" : \"Informal\",\n",
    "    \"What language style is used in the following e-mail: Hi Beth, Just a quick message to thank you for dinner last night. Absolutely delicious, as always, and I really enjoyed meeting your friend Alice. \\\n",
    "    She’s a laugh, isn’t she? I’m hoping to3 get tickets for the film festival next week, so I’ll be in touch to see if there’s anything you fancy seeing. Give my regards to Conrad when he gets back from Poland, and once again, thanks for last night. Love Sophie\" : \"Informal\",\n",
    "\n",
    "  # Formal Style\n",
    "  \"What language style is used in the following Statement: Improvements cannot be introduced due to funding restrictions.\" : \"Formal\",\n",
    "  \"What language style is used in the following Statement: Could you please provide an update on the progress of the project by the end of the day?\" : \"Formal\",\n",
    "  \"What language style is used in the following Statement: I would like to inquire about the availability of the conference room for our meeting next week.\" : \"Formal\",\n",
    "  \"What language style is used in the following Statement: Per our previous discussion, I am following up on the status of the pending tasks.\" : \"Formal\",\n",
    "  \"What language style is used in the following Statement: Kindly confirm the receipt of this email and let me know if any further action is required.\" : \"Formal\",\n",
    "  \"What language style is used in the following Statement: In accordance with company policy, employees are required to complete the mandatory training module.\" : \"Formal\",\n",
    "  \"What language style is used in the following Statement: Please be advised that the deadline for submitting the report has been extended to next Friday.\" : \"Formal\",\n",
    "  \"What language style is used in the following Statement: I am writing to formally request an extension on the deadline for the project proposal.\" : \"Formal\",\n",
    "  \"What language style is used in the following Statement: Per your request, attached is the revised version of the contract for your review.\" : \"Formal\",\n",
    "  \"What language style is used in the following Statement: I apologize for any inconvenience caused and appreciate your understanding in this matter.\" : \"Formal\",\n",
    "  \"What language style is used in the following Statement: Good morning, Mrs. Smith, how are you doing?\" : \"Formal\",\n",
    "  \"What language style is used in the following Statement: Only food purchased here may be eaten on the premises.\" : \"Formal\",\n",
    "  \"What language style is described by the following statement: The style is used when writing or speaking for professional purpose and does not use colloquialism, contractions or first-person pronouns.\" : \"Formal\",\n",
    "  \"What language style is used in the following e-mail: Dear Sir or Madam, I am writing in response to3 your advertisement about job opportunities for graduates. I have just completed a degree in Economics at Durham University, and \\\n",
    "    I would be grateful if you could send me further details6 of the graduate training schemes you mention. I am available for interview at any time. I look forward to hearing from you. Yours faithfully\" : \"Formal\",\n",
    "  \"What language style is used in the following Statement: Please respect our no radio playing policy.\" : \"Formal\",\n",
    "  \"What language style is used in the following Statement: This could be an effective plan.\" : \"Formal\",\n",
    "  \"What language style is used in the following Statement: There were two different methods of research.\" : \"Formal\",\n",
    "  \"What language style is used in the following Statement: The project will be completed next year.\" : \"Formal\",\n",
    "  \"What language style is used in the following Statement: Five more tests will be necessary before the experiment can be concluded.\" : \"Formal\",\n",
    "  \"What language style is used in the following Statement: It is possible to consider the results from a different viewpoint.\" : \"Formal\",\n",
    "  \"What language style is used in the following Statement: It has been proved that the arguments so far are without foundation.\" : \"Formal\",\n",
    "  \"What language style is used in the following Statement: There are a several reasons why the questionnaire should be revised.\" : \"Formal\",\n",
    "  \"What language style is used in the following Statement: I look forward to meeting you next week.\" : \"Formal\",\n",
    "\n",
    "  # academic Style\n",
    "  \"What language style is described by the following statement: The style is used for higher school purposes like thesis or research papers and does not use first-person pronouns and is not personal but factual\" : \"Academic\",\n",
    "  \"What language style is used in the following Statement: New results in this area are produced by the research group.\" : \"Academic\",\n",
    "  \"What language style is used in the following Statement: How do socioeconomic factors influence voting behavior in democratic societies?\" : \"Academic\",\n",
    "  \"What language style is used in the following Statement: What is the significance of the findings reported in the latest research paper on climate change?\" : \"Academic\",\n",
    "  \"What language style is used in the following Statement: How do cognitive biases affect decision-making processes in individuals and organizations?\" : \"Academic\",\n",
    "  \"What language style is used in the following Statement: The study investigates the correlation between socioeconomic status and educational attainment in urban communities.\" : \"Academic\",\n",
    "  \"What language style is used in the following Statement: The analysis explores the impact of climate change on agricultural productivity in developing countries.\" : \"Academic\",\n",
    "  \"What language style is used in the following Statement: The research paper examines the role of cultural factors in shaping consumer behavior in global markets.\" : \"Academic\",\n",
    "  \"What language style is used in the following Statement: The literature review synthesizes existing studies on the effects of social media use on mental health outcomes.\" : \"Academic\",\n",
    "  \"What language style is used in the following Statement: The theoretical framework draws upon sociological theories to analyze patterns of social inequality in urban neighborhoods.\" : \"Academic\",\n",
    "  \"What language style is used in the following Statement: The analysis examines demographic trends in urbanization.\" : \"Academic\",\n",
    "  \"What language style is used in the following Statement: The findings highlight disparities in access to healthcare services.\" : \"Academic\",\n",
    "  \"What language style is used in the following Statement: The literature review synthesizes recent advancements in machine learning algorithms.\" : \"Academic\",\n",
    "  \"What language style is used in the following Statement: The analysis underscores the importance of data privacy in digital healthcare systems.\" : \"Academic\",\n",
    "  \"What language style is used in the following Statement: These findings indicate that the model is valid.\" : \"Academic\",\n",
    "  \"What language style is used in the following Statement: The following section will show how the model is validated by the findings.\" : \"Academic\",\n",
    "  \"What language style is used in the following Statement: As Halliday(1973) shows, language is intrinsically social.\" : \"Academic\",\n",
    "  \"What language style is used in the following Statement: Many researchers have utilised X to measure Y.\" : \"Academic\",\n",
    "  \"What language style is used in the following Statement: A number of techniques have been developed to...\" : \"Academic\",\n",
    "  \"What language style is used in the following Statement: Different authors have measured X in a variety of ways.\" : \"Academic\",\n",
    "  \"What language style is used in the following Statement: Several methods currently exist for the measurement of X.\" : \"Academic\",\n",
    "  \"What language style is used in the following Statement: There are three main types of study design used to identify X.\" : \"Academic\",\n",
    "  \"What language style is used in the following Statement: In most recent studies, X has been measured in four different ways.\" : \"Academic\",\n",
    "  \"What language style is used in the following Statement: In recent years, two different approaches have attempted to account for X.\" : \"Academic\",\n",
    "  \"What language style is used in the following Statement: A variety of methods are used to assess X. Each has its advantages and drawbacks.\" : \"Academic\",\n",
    "  \"What language style is used in the following Statement: Two of the most common methods for estimating X are the use of Y and the measurement of Z.\" : \"Academic\",\n",
    "}\n",
    "\n",
    "\n",
    "# Combine all test questions into a single dictionary\n",
    "#questions_rouge = {**textual_entailment,**reasoning_problem_solving,**analogical_reasoning,**ner,**identification,**languageStyles}\n",
    "questions_rouge = {**languageStyles}\n"
   ]
  },
  {
   "cell_type": "code",
   "execution_count": 8,
   "metadata": {},
   "outputs": [
    {
     "name": "stdout",
     "output_type": "stream",
     "text": [
      "Defaulting to user installation because normal site-packages is not writeable\n",
      "Requirement already satisfied: rouge in /Users/josi/Library/Python/3.8/lib/python/site-packages (1.0.1)\n",
      "Requirement already satisfied: six in /Users/josi/Library/Python/3.8/lib/python/site-packages (from rouge) (1.16.0)\n",
      "Note: you may need to restart the kernel to use updated packages.\n",
      "[{'rouge-1': {'r': 0.4489795918367347, 'p': 0.6285714285714286, 'f': 0.5238095189484127}, 'rouge-2': {'r': 0.21428571428571427, 'p': 0.375, 'f': 0.2727272680991736}, 'rouge-l': {'r': 0.40816326530612246, 'p': 0.5714285714285714, 'f': 0.4761904713293651}}]\n"
     ]
    }
   ],
   "source": [
    "#%pip install rouge ##- test rouge library - https://pypi.org/project/rouge/ \n",
    "from rouge import Rouge\n",
    "\n",
    "##example calc for rouge\n",
    "hypothesis = \"the #### transcript is a written version of each day 's cnn student news program use this transcript to help students with reading comprehension and vocabulary use the weekly newsquiz to test your knowledge of storie s you     saw on cnn student news\"\n",
    "\n",
    "reference = \"this page includes the show transcript use the transcript to help students with reading comprehension and vocabulary at the bottom of the page , comment for a chance to be mentioned on cnn student news . you must be a teac    her or a student age # # or older to request a mention on the cnn student news roll call . the weekly newsquiz tests     students ' knowledge of even ts in the news\"\n",
    "\n",
    "rouge = Rouge()\n",
    "scores = rouge.get_scores(hypothesis, reference)\n",
    "print(scores)"
   ]
  },
  {
   "cell_type": "code",
   "execution_count": null,
   "metadata": {},
   "outputs": [],
   "source": [
    "\n",
    "#Function that extracts only the language style named \n",
    "def extract_language_style(input_string):\n",
    "\n",
    "    # Check if the input string is empty\n",
    "    if not input_string:\n",
    "        return \"\"\n",
    "    \n",
    "    words = input_string.split()\n",
    "    words = [word.strip(\",.!?\").lower() for word in words]\n",
    "    allowed_words = {\"informal\", \"formal\", \"academic\"}\n",
    "\n",
    "    for word in words:\n",
    "        if word in allowed_words:\n",
    "            return word\n",
    "    return \"False\"\n"
   ]
  },
  {
   "cell_type": "code",
   "execution_count": null,
   "metadata": {},
   "outputs": [],
   "source": [
    "#maybe check if rouge-score library better\n",
    "\n",
    "#ROUGE WITH extraction of language style\n",
    "def evaluate_model_rouge(model, questions):\n",
    "    try:\n",
    "        total_questions = len(questions)\n",
    "        model_answers = []\n",
    "        rouge_scores_list_r1 = []\n",
    "        rouge_scores_list_r2 = []\n",
    "        rouge_scores_list_rl= []\n",
    "        rouge_scores = {\"rouge\": {\"recall\": 0, \"precision\": 0, \"f1-score\": 0}} \n",
    "\n",
    "        for question, expected_answer in questions_rouge.items():\n",
    "            prompt = f\"{question}\\nAnswer Options:\\n\"\n",
    "            prompt = get_prompt(prompt)\n",
    "            #print(prompt)\n",
    "            model_answer = model(prompt)\n",
    "\n",
    "            #remove leading & trailing spaces, extract language style from model_answer if answer is unnecessarily long\n",
    "            model_answer = model_answer.strip()\n",
    "            expected_answer = expected_answer.strip().lower()\n",
    "\n",
    "            model_answer = extract_language_style(model_answer)\n",
    "\n",
    "            # Get Rouge Score - Rouge() hat rouge-1, rouge-2 and rouge-l as option \n",
    "            rouge = Rouge()\n",
    "            scores = rouge.get_scores(expected_answer, model_answer) \n",
    "\n",
    "            #save rouge-1, rouge-2 and rouge-l values for each question in list\n",
    "            scores_list_r1 = rouge.get_scores(expected_answer, model_answer)[0]\n",
    "            rouge_scores_list_r1.append({\n",
    "                \"r\": scores_list_r1.get('rouge-1', {}).get('r', 0),\n",
    "                \"p\": scores_list_r1.get('rouge-1', {}).get('p', 0),\n",
    "                \"f\": scores_list_r1.get('rouge-1', {}).get('f', 0),\n",
    "            })\n",
    "            scores_list_r2 = rouge.get_scores(expected_answer, model_answer)[0]\n",
    "            rouge_scores_list_r2.append({\n",
    "                \"r\": scores_list_r2.get('rouge-2', {}).get('r', 0),\n",
    "                \"p\": scores_list_r2.get('rouge-2', {}).get('p', 0),\n",
    "                \"f\": scores_list_r2.get('rouge-2', {}).get('f', 0),\n",
    "            })\n",
    "            scores_list_rl = rouge.get_scores(expected_answer, model_answer)[0]\n",
    "            rouge_scores_list_rl.append({\n",
    "                \"r\": scores_list_rl.get('rouge-l', {}).get('r', 0),\n",
    "                \"p\": scores_list_rl.get('rouge-l', {}).get('p', 0),\n",
    "                \"f\": scores_list_rl.get('rouge-l', {}).get('f', 0),\n",
    "            })\n",
    "            \n",
    "            # Print the results for each question\n",
    "            print(f\"Question: {question}\")\n",
    "            print(f\"Expected Answer: {expected_answer}\")\n",
    "            print(f\"Model Answer: {model_answer}\")\n",
    "            print(f\"ROUGE Scores: {scores}\")\n",
    "            print(\"------------\")\n",
    "\n",
    "            # Store the model's answer and the corresponding question in the array\n",
    "            model_answers.append({\n",
    "                \"question\": question,\n",
    "                \"expected_answer\": expected_answer,\n",
    "                \"model_answer\": model_answer,\n",
    "            })\n",
    "\n",
    "        # Calculate the average 'r', 'p', and 'f' values for rouge-1, rouge-2 and rouge-l\n",
    "        average_r_r1 = round(sum(entry[\"r\"] for entry in rouge_scores_list_r1) / total_questions,3) \n",
    "        average_p_r1 = round(sum(entry[\"p\"] for entry in rouge_scores_list_r1) / total_questions,3)\n",
    "        average_f_r1 = round(sum(entry[\"f\"] for entry in rouge_scores_list_r1) / total_questions,3)\n",
    "\n",
    "        average_r_r2 = round(sum(entry[\"r\"] for entry in rouge_scores_list_r2) / total_questions,3) \n",
    "        average_p_r2 = round(sum(entry[\"p\"] for entry in rouge_scores_list_r2) / total_questions,3)\n",
    "        average_f_r2 = round(sum(entry[\"f\"] for entry in rouge_scores_list_r2) / total_questions,3)\n",
    "        \n",
    "        average_r_rl = round(sum(entry[\"r\"] for entry in rouge_scores_list_rl) / total_questions,3) \n",
    "        average_p_rl = round(sum(entry[\"p\"] for entry in rouge_scores_list_rl) / total_questions,3)\n",
    "        average_f_rl = round(sum(entry[\"f\"] for entry in rouge_scores_list_rl) / total_questions,3)\n",
    "\n",
    "        print(f\"Questions total: {total_questions}\")\n",
    "        print(f\"Average Recall (ROUGE-1): {average_r_r1}\")\n",
    "        print(f\"Average Precision (ROUGE-1): {average_p_r1}\")\n",
    "        print(f\"Average F1-score (ROUGE-1): {average_f_r1}\")\n",
    "        print(f\"Average Recall (ROUGE-2): {average_r_r2}\")\n",
    "        print(f\"Average Precision (ROUGE-2): {average_p_r2}\")\n",
    "        print(f\"Average F1-score (ROUGE-2): {average_f_r2}\")\n",
    "        print(f\"Average Recall (ROUGE-L): {average_r_rl}\")\n",
    "        print(f\"Average Precision (ROUGE-L): {average_p_rl}\")\n",
    "        print(f\"Average F1-score (ROUGE-L): {average_f_rl}\")\n",
    "\n",
    "        return model_answers, rouge_scores\n",
    "\n",
    "    except Exception as e:\n",
    "        print(f\"An error occurred: {e}\")\n",
    "        return None, None\n",
    "    \n",
    "#run method\n",
    "model_answers, rouge_scores = evaluate_model_rouge(llm, questions_rouge)\n",
    "\n"
   ]
  },
  {
   "cell_type": "code",
   "execution_count": 14,
   "metadata": {},
   "outputs": [
    {
     "name": "stderr",
     "output_type": "stream",
     "text": [
      "Llama.generate: prefix-match hit\n"
     ]
    },
    {
     "name": "stdout",
     "output_type": "stream",
     "text": [
      "Question: What language style is used in the following Statement: Can you believe this weather? Do you think it'll rain later?\n",
      "Expected Answer: Informal\n",
      "Model Answer: The language style used in the statement is Informal.\n",
      "ROUGE Scores: [{'rouge-1': {'r': 0.1111111111111111, 'p': 1.0, 'f': 0.1999999982}, 'rouge-2': {'r': 0.0, 'p': 0.0, 'f': 0.0}, 'rouge-l': {'r': 0.1111111111111111, 'p': 1.0, 'f': 0.1999999982}}]\n",
      "------------\n"
     ]
    },
    {
     "name": "stderr",
     "output_type": "stream",
     "text": [
      "\n",
      "llama_print_timings:        load time =   14220.44 ms\n",
      "llama_print_timings:      sample time =       4.73 ms /    13 runs   (    0.36 ms per token,  2747.25 tokens per second)\n",
      "llama_print_timings: prompt eval time =    4090.19 ms /    24 tokens (  170.42 ms per token,     5.87 tokens per second)\n",
      "llama_print_timings:        eval time =    3129.92 ms /    12 runs   (  260.83 ms per token,     3.83 tokens per second)\n",
      "llama_print_timings:       total time =    7290.46 ms\n",
      "Llama.generate: prefix-match hit\n"
     ]
    },
    {
     "name": "stdout",
     "output_type": "stream",
     "text": [
      "Question: What language style is used in the following Statement: Hey, wanna grab a bite to eat later?\n",
      "Expected Answer: Informal\n",
      "Model Answer: Informal\n",
      "ROUGE Scores: [{'rouge-1': {'r': 1.0, 'p': 1.0, 'f': 0.999999995}, 'rouge-2': {'r': 0.0, 'p': 0.0, 'f': 0.0}, 'rouge-l': {'r': 1.0, 'p': 1.0, 'f': 0.999999995}}]\n",
      "------------\n"
     ]
    },
    {
     "name": "stderr",
     "output_type": "stream",
     "text": [
      "\n",
      "llama_print_timings:        load time =   14220.44 ms\n",
      "llama_print_timings:      sample time =       0.90 ms /     4 runs   (    0.22 ms per token,  4454.34 tokens per second)\n",
      "llama_print_timings: prompt eval time =    2489.67 ms /    21 tokens (  118.56 ms per token,     8.43 tokens per second)\n",
      "llama_print_timings:        eval time =     463.00 ms /     3 runs   (  154.33 ms per token,     6.48 tokens per second)\n",
      "llama_print_timings:       total time =    2972.18 ms\n",
      "Llama.generate: prefix-match hit\n",
      "\n",
      "llama_print_timings:        load time =   14220.44 ms\n",
      "llama_print_timings:      sample time =       3.89 ms /    13 runs   (    0.30 ms per token,  3344.48 tokens per second)\n",
      "llama_print_timings: prompt eval time =    3362.52 ms /    30 tokens (  112.08 ms per token,     8.92 tokens per second)\n",
      "llama_print_timings:        eval time =    1869.31 ms /    12 runs   (  155.78 ms per token,     6.42 tokens per second)\n",
      "llama_print_timings:       total time =    5284.50 ms\n",
      "Llama.generate: prefix-match hit\n"
     ]
    },
    {
     "name": "stdout",
     "output_type": "stream",
     "text": [
      "Question: What language style is used in the following Statement: What's up with that new movie everyone's talking about? Have you seen the trailer?\n",
      "Expected Answer: Informal\n",
      "Model Answer: The language style used in the statement is Informal.\n",
      "ROUGE Scores: [{'rouge-1': {'r': 0.1111111111111111, 'p': 1.0, 'f': 0.1999999982}, 'rouge-2': {'r': 0.0, 'p': 0.0, 'f': 0.0}, 'rouge-l': {'r': 0.1111111111111111, 'p': 1.0, 'f': 0.1999999982}}]\n",
      "------------\n",
      "Question: What language style is used in the following Statement: Do you know if Sarah's coming to the party tonight? I heard she might not make it.\n",
      "Expected Answer: Informal\n",
      "Model Answer: The language style used in the statement is Informal.\n",
      "ROUGE Scores: [{'rouge-1': {'r': 0.1111111111111111, 'p': 1.0, 'f': 0.1999999982}, 'rouge-2': {'r': 0.0, 'p': 0.0, 'f': 0.0}, 'rouge-l': {'r': 0.1111111111111111, 'p': 1.0, 'f': 0.1999999982}}]\n",
      "------------\n"
     ]
    },
    {
     "name": "stderr",
     "output_type": "stream",
     "text": [
      "\n",
      "llama_print_timings:        load time =   14220.44 ms\n",
      "llama_print_timings:      sample time =       3.32 ms /    13 runs   (    0.26 ms per token,  3916.84 tokens per second)\n",
      "llama_print_timings: prompt eval time =    3514.96 ms /    31 tokens (  113.39 ms per token,     8.82 tokens per second)\n",
      "llama_print_timings:        eval time =    2011.54 ms /    12 runs   (  167.63 ms per token,     5.97 tokens per second)\n",
      "llama_print_timings:       total time =    5578.15 ms\n",
      "Llama.generate: prefix-match hit\n"
     ]
    },
    {
     "name": "stdout",
     "output_type": "stream",
     "text": [
      "Question: What language style is used in the following Statement: So, what's the deal with that new song everyone's listing to?\n",
      "Expected Answer: Informal\n",
      "Model Answer: The language style used in the statement is Informal.\n",
      "ROUGE Scores: [{'rouge-1': {'r': 0.1111111111111111, 'p': 1.0, 'f': 0.1999999982}, 'rouge-2': {'r': 0.0, 'p': 0.0, 'f': 0.0}, 'rouge-l': {'r': 0.1111111111111111, 'p': 1.0, 'f': 0.1999999982}}]\n",
      "------------\n"
     ]
    },
    {
     "name": "stderr",
     "output_type": "stream",
     "text": [
      "\n",
      "llama_print_timings:        load time =   14220.44 ms\n",
      "llama_print_timings:      sample time =       4.48 ms /    13 runs   (    0.34 ms per token,  2902.43 tokens per second)\n",
      "llama_print_timings: prompt eval time =    3349.56 ms /    26 tokens (  128.83 ms per token,     7.76 tokens per second)\n",
      "llama_print_timings:        eval time =    2471.42 ms /    12 runs   (  205.95 ms per token,     4.86 tokens per second)\n",
      "llama_print_timings:       total time =    5876.18 ms\n",
      "Llama.generate: prefix-match hit\n"
     ]
    },
    {
     "name": "stdout",
     "output_type": "stream",
     "text": [
      "Question: What language style is used in the following Statement: Did you catch the game last night?\n",
      "Expected Answer: Informal\n",
      "Model Answer: The language style used in the statement \"Did you catch the game last night?\" is Informal.\n",
      "ROUGE Scores: [{'rouge-1': {'r': 0.06666666666666667, 'p': 1.0, 'f': 0.12499999882812501}, 'rouge-2': {'r': 0.0, 'p': 0.0, 'f': 0.0}, 'rouge-l': {'r': 0.06666666666666667, 'p': 1.0, 'f': 0.12499999882812501}}]\n",
      "------------\n"
     ]
    },
    {
     "name": "stderr",
     "output_type": "stream",
     "text": [
      "\n",
      "llama_print_timings:        load time =   14220.44 ms\n",
      "llama_print_timings:      sample time =       6.82 ms /    22 runs   (    0.31 ms per token,  3226.75 tokens per second)\n",
      "llama_print_timings: prompt eval time =    1965.15 ms /    16 tokens (  122.82 ms per token,     8.14 tokens per second)\n",
      "llama_print_timings:        eval time =    3810.33 ms /    22 runs   (  173.20 ms per token,     5.77 tokens per second)\n",
      "llama_print_timings:       total time =    5856.46 ms\n",
      "Llama.generate: prefix-match hit\n"
     ]
    },
    {
     "name": "stdout",
     "output_type": "stream",
     "text": [
      "Question: What language style is used in the following Statement: Are you free tomorrow afternoon? Wanna hang out and grab some coffee?\n",
      "Expected Answer: Informal\n",
      "Model Answer: The language style used in the statement is Informal.\n",
      "ROUGE Scores: [{'rouge-1': {'r': 0.1111111111111111, 'p': 1.0, 'f': 0.1999999982}, 'rouge-2': {'r': 0.0, 'p': 0.0, 'f': 0.0}, 'rouge-l': {'r': 0.1111111111111111, 'p': 1.0, 'f': 0.1999999982}}]\n",
      "------------\n"
     ]
    },
    {
     "name": "stderr",
     "output_type": "stream",
     "text": [
      "\n",
      "llama_print_timings:        load time =   14220.44 ms\n",
      "llama_print_timings:      sample time =       3.57 ms /    13 runs   (    0.27 ms per token,  3637.38 tokens per second)\n",
      "llama_print_timings: prompt eval time =    2873.68 ms /    24 tokens (  119.74 ms per token,     8.35 tokens per second)\n",
      "llama_print_timings:        eval time =    2076.54 ms /    13 runs   (  159.73 ms per token,     6.26 tokens per second)\n",
      "llama_print_timings:       total time =    5000.68 ms\n",
      "Llama.generate: prefix-match hit\n"
     ]
    },
    {
     "name": "stdout",
     "output_type": "stream",
     "text": [
      "Question: What language style is used in the following Statement: What do you reckon we should do this weekend? Any fun ideas?\n",
      "Expected Answer: Informal\n",
      "Model Answer: The language style used in the given statement is Informal.\n",
      "ROUGE Scores: [{'rouge-1': {'r': 0.1, 'p': 1.0, 'f': 0.18181818016528928}, 'rouge-2': {'r': 0.0, 'p': 0.0, 'f': 0.0}, 'rouge-l': {'r': 0.1, 'p': 1.0, 'f': 0.18181818016528928}}]\n",
      "------------\n"
     ]
    },
    {
     "name": "stderr",
     "output_type": "stream",
     "text": [
      "\n",
      "llama_print_timings:        load time =   14220.44 ms\n",
      "llama_print_timings:      sample time =       4.14 ms /    14 runs   (    0.30 ms per token,  3379.19 tokens per second)\n",
      "llama_print_timings: prompt eval time =    3210.95 ms /    24 tokens (  133.79 ms per token,     7.47 tokens per second)\n",
      "llama_print_timings:        eval time =    2310.01 ms /    14 runs   (  165.00 ms per token,     6.06 tokens per second)\n",
      "llama_print_timings:       total time =    5577.89 ms\n",
      "Llama.generate: prefix-match hit\n"
     ]
    },
    {
     "name": "stdout",
     "output_type": "stream",
     "text": [
      "Question: What language style is used in the following Statement: Did you see that meme I sent you earlier? It had me cracking up!\n",
      "Expected Answer: Informal\n",
      "Model Answer: The language style used in the statement is Informal.\n",
      "ROUGE Scores: [{'rouge-1': {'r': 0.1111111111111111, 'p': 1.0, 'f': 0.1999999982}, 'rouge-2': {'r': 0.0, 'p': 0.0, 'f': 0.0}, 'rouge-l': {'r': 0.1111111111111111, 'p': 1.0, 'f': 0.1999999982}}]\n",
      "------------\n"
     ]
    },
    {
     "name": "stderr",
     "output_type": "stream",
     "text": [
      "\n",
      "llama_print_timings:        load time =   14220.44 ms\n",
      "llama_print_timings:      sample time =       3.70 ms /    13 runs   (    0.28 ms per token,  3514.46 tokens per second)\n",
      "llama_print_timings: prompt eval time =    2954.11 ms /    27 tokens (  109.41 ms per token,     9.14 tokens per second)\n",
      "llama_print_timings:        eval time =    1896.39 ms /    12 runs   (  158.03 ms per token,     6.33 tokens per second)\n",
      "llama_print_timings:       total time =    4903.24 ms\n",
      "Llama.generate: prefix-match hit\n"
     ]
    },
    {
     "name": "stdout",
     "output_type": "stream",
     "text": [
      "Question: What language style is used in the following Statement: I donʼt believe that the results are accurate.\n",
      "Expected Answer: Informal\n",
      "Model Answer: The language style of the statement is Informal.\n",
      "ROUGE Scores: [{'rouge-1': {'r': 0.125, 'p': 1.0, 'f': 0.2222222202469136}, 'rouge-2': {'r': 0.0, 'p': 0.0, 'f': 0.0}, 'rouge-l': {'r': 0.125, 'p': 1.0, 'f': 0.2222222202469136}}]\n",
      "------------\n"
     ]
    },
    {
     "name": "stderr",
     "output_type": "stream",
     "text": [
      "\n",
      "llama_print_timings:        load time =   14220.44 ms\n",
      "llama_print_timings:      sample time =       3.68 ms /    12 runs   (    0.31 ms per token,  3265.31 tokens per second)\n",
      "llama_print_timings: prompt eval time =    2316.24 ms /    20 tokens (  115.81 ms per token,     8.63 tokens per second)\n",
      "llama_print_timings:        eval time =    1894.59 ms /    11 runs   (  172.24 ms per token,     5.81 tokens per second)\n",
      "llama_print_timings:       total time =    4257.24 ms\n",
      "Llama.generate: prefix-match hit\n"
     ]
    },
    {
     "name": "stdout",
     "output_type": "stream",
     "text": [
      "Question: What language style is used in the following Statement: Hi, Helen! How’s it going?\n",
      "Expected Answer: Informal\n",
      "Model Answer: The language style of the statement \"Hi, Helen! How's it going?\" is Informal.\n",
      "ROUGE Scores: [{'rouge-1': {'r': 0.07692307692307693, 'p': 1.0, 'f': 0.14285714153061227}, 'rouge-2': {'r': 0.0, 'p': 0.0, 'f': 0.0}, 'rouge-l': {'r': 0.07692307692307693, 'p': 1.0, 'f': 0.14285714153061227}}]\n",
      "------------\n"
     ]
    },
    {
     "name": "stderr",
     "output_type": "stream",
     "text": [
      "\n",
      "llama_print_timings:        load time =   14220.44 ms\n",
      "llama_print_timings:      sample time =       6.31 ms /    23 runs   (    0.27 ms per token,  3642.70 tokens per second)\n",
      "llama_print_timings: prompt eval time =    2316.12 ms /    19 tokens (  121.90 ms per token,     8.20 tokens per second)\n",
      "llama_print_timings:        eval time =    3540.52 ms /    22 runs   (  160.93 ms per token,     6.21 tokens per second)\n",
      "llama_print_timings:       total time =    5940.28 ms\n",
      "Llama.generate: prefix-match hit\n"
     ]
    },
    {
     "name": "stdout",
     "output_type": "stream",
     "text": [
      "Question: What language style is used in the following Statement: Thanks. See you later.\n",
      "Expected Answer: Informal\n",
      "Model Answer: The language style of the statement \"Thanks. See you later\" is Informal.\n",
      "ROUGE Scores: [{'rouge-1': {'r': 0.08333333333333333, 'p': 1.0, 'f': 0.15384615242603553}, 'rouge-2': {'r': 0.0, 'p': 0.0, 'f': 0.0}, 'rouge-l': {'r': 0.08333333333333333, 'p': 1.0, 'f': 0.15384615242603553}}]\n",
      "------------\n"
     ]
    },
    {
     "name": "stderr",
     "output_type": "stream",
     "text": [
      "\n",
      "llama_print_timings:        load time =   14220.44 ms\n",
      "llama_print_timings:      sample time =       5.61 ms /    19 runs   (    0.30 ms per token,  3388.62 tokens per second)\n",
      "llama_print_timings: prompt eval time =    1654.26 ms /    15 tokens (  110.28 ms per token,     9.07 tokens per second)\n",
      "llama_print_timings:        eval time =    3306.80 ms /    18 runs   (  183.71 ms per token,     5.44 tokens per second)\n",
      "llama_print_timings:       total time =    5033.09 ms\n",
      "Llama.generate: prefix-match hit\n",
      "\n",
      "llama_print_timings:        load time =   14220.44 ms\n",
      "llama_print_timings:      sample time =       4.13 ms /    13 runs   (    0.32 ms per token,  3150.75 tokens per second)\n",
      "llama_print_timings: prompt eval time =    2677.01 ms /    21 tokens (  127.48 ms per token,     7.84 tokens per second)\n",
      "llama_print_timings:        eval time =    1960.15 ms /    12 runs   (  163.35 ms per token,     6.12 tokens per second)\n",
      "llama_print_timings:       total time =    4688.07 ms\n",
      "Llama.generate: prefix-match hit\n"
     ]
    },
    {
     "name": "stdout",
     "output_type": "stream",
     "text": [
      "Question: What language style is used in the following Statement: No, I wasn’t at Steve’s party.\n",
      "Expected Answer: Informal\n",
      "Model Answer: The language style used in the statement is Informal.\n",
      "ROUGE Scores: [{'rouge-1': {'r': 0.1111111111111111, 'p': 1.0, 'f': 0.1999999982}, 'rouge-2': {'r': 0.0, 'p': 0.0, 'f': 0.0}, 'rouge-l': {'r': 0.1111111111111111, 'p': 1.0, 'f': 0.1999999982}}]\n",
      "------------\n",
      "Question: What language style is used in the following Statement: Sure, let’s go get a drink.\n",
      "Expected Answer: Informal\n",
      "Model Answer: The language style of the statement \"Sure, let’s go get a drink\" is Informal.\n",
      "ROUGE Scores: [{'rouge-1': {'r': 0.07142857142857142, 'p': 1.0, 'f': 0.1333333320888889}, 'rouge-2': {'r': 0.0, 'p': 0.0, 'f': 0.0}, 'rouge-l': {'r': 0.07142857142857142, 'p': 1.0, 'f': 0.1333333320888889}}]\n",
      "------------\n"
     ]
    },
    {
     "name": "stderr",
     "output_type": "stream",
     "text": [
      "\n",
      "llama_print_timings:        load time =   14220.44 ms\n",
      "llama_print_timings:      sample time =       7.07 ms /    24 runs   (    0.29 ms per token,  3395.11 tokens per second)\n",
      "llama_print_timings: prompt eval time =    2299.75 ms /    19 tokens (  121.04 ms per token,     8.26 tokens per second)\n",
      "llama_print_timings:        eval time =    3677.26 ms /    23 runs   (  159.88 ms per token,     6.25 tokens per second)\n",
      "llama_print_timings:       total time =    6068.58 ms\n",
      "Llama.generate: prefix-match hit\n"
     ]
    },
    {
     "name": "stdout",
     "output_type": "stream",
     "text": [
      "Question: What language style is used in the following Statement: What are you up to this evening?\n",
      "Expected Answer: Informal\n",
      "Model Answer: The language style used in the statement \"What are you up to this evening?\" is Informal.\n",
      "ROUGE Scores: [{'rouge-1': {'r': 0.0625, 'p': 1.0, 'f': 0.11764705771626299}, 'rouge-2': {'r': 0.0, 'p': 0.0, 'f': 0.0}, 'rouge-l': {'r': 0.0625, 'p': 1.0, 'f': 0.11764705771626299}}]\n",
      "------------\n"
     ]
    },
    {
     "name": "stderr",
     "output_type": "stream",
     "text": [
      "\n",
      "llama_print_timings:        load time =   14220.44 ms\n",
      "Llama.generate: prefix-match hit\n",
      "llama_print_timings:      sample time =       6.29 ms /    22 runs   (    0.29 ms per token,  3498.17 tokens per second)\n",
      "llama_print_timings: prompt eval time =    1842.88 ms /    16 tokens (  115.18 ms per token,     8.68 tokens per second)\n",
      "llama_print_timings:        eval time =    3442.01 ms /    22 runs   (  156.45 ms per token,     6.39 tokens per second)\n",
      "llama_print_timings:       total time =    5365.73 ms\n"
     ]
    },
    {
     "name": "stdout",
     "output_type": "stream",
     "text": [
      "Question: What language style is used in the following Statement: Oh, that’s a shame.\n",
      "Expected Answer: Informal\n",
      "Model Answer: The language style of the statement \"Oh, that's a shame\" is Informal.\n",
      "ROUGE Scores: [{'rouge-1': {'r': 0.08333333333333333, 'p': 1.0, 'f': 0.15384615242603553}, 'rouge-2': {'r': 0.0, 'p': 0.0, 'f': 0.0}, 'rouge-l': {'r': 0.08333333333333333, 'p': 1.0, 'f': 0.15384615242603553}}]\n",
      "------------\n"
     ]
    },
    {
     "name": "stderr",
     "output_type": "stream",
     "text": [
      "\n",
      "llama_print_timings:        load time =   14220.44 ms\n",
      "llama_print_timings:      sample time =       6.31 ms /    21 runs   (    0.30 ms per token,  3329.11 tokens per second)\n",
      "llama_print_timings: prompt eval time =    2204.84 ms /    16 tokens (  137.80 ms per token,     7.26 tokens per second)\n",
      "llama_print_timings:        eval time =    3349.64 ms /    21 runs   (  159.51 ms per token,     6.27 tokens per second)\n",
      "llama_print_timings:       total time =    5636.57 ms\n",
      "Llama.generate: prefix-match hit\n"
     ]
    },
    {
     "name": "stdout",
     "output_type": "stream",
     "text": [
      "Question: What language style is used in the following Statement: That didn’t make sense to me.\n",
      "Expected Answer: Informal\n",
      "Model Answer: The language style used in the statement \"That didn’t make sense to me\" is Informal.\n",
      "ROUGE Scores: [{'rouge-1': {'r': 0.06666666666666667, 'p': 1.0, 'f': 0.12499999882812501}, 'rouge-2': {'r': 0.0, 'p': 0.0, 'f': 0.0}, 'rouge-l': {'r': 0.06666666666666667, 'p': 1.0, 'f': 0.12499999882812501}}]\n",
      "------------\n"
     ]
    },
    {
     "name": "stderr",
     "output_type": "stream",
     "text": [
      "\n",
      "llama_print_timings:        load time =   14220.44 ms\n",
      "llama_print_timings:      sample time =       7.40 ms /    23 runs   (    0.32 ms per token,  3109.37 tokens per second)\n",
      "llama_print_timings: prompt eval time =    2156.52 ms /    18 tokens (  119.81 ms per token,     8.35 tokens per second)\n",
      "llama_print_timings:        eval time =    3614.28 ms /    22 runs   (  164.29 ms per token,     6.09 tokens per second)\n",
      "llama_print_timings:       total time =    5861.11 ms\n",
      "Llama.generate: prefix-match hit\n"
     ]
    },
    {
     "name": "stdout",
     "output_type": "stream",
     "text": [
      "Question: What language style is used in the following Statement: Seriously, you’ve got to be kidding me!?\n",
      "Expected Answer: Informal\n",
      "Model Answer: The language style used in the statement \"Seriously, you've got to be kidding me!\" is Informal.\n",
      "ROUGE Scores: [{'rouge-1': {'r': 0.0625, 'p': 1.0, 'f': 0.11764705771626299}, 'rouge-2': {'r': 0.0, 'p': 0.0, 'f': 0.0}, 'rouge-l': {'r': 0.0625, 'p': 1.0, 'f': 0.11764705771626299}}]\n",
      "------------\n"
     ]
    },
    {
     "name": "stderr",
     "output_type": "stream",
     "text": [
      "\n",
      "llama_print_timings:        load time =   14220.44 ms\n",
      "llama_print_timings:      sample time =       8.00 ms /    28 runs   (    0.29 ms per token,  3501.75 tokens per second)\n",
      "llama_print_timings: prompt eval time =    3068.38 ms /    24 tokens (  127.85 ms per token,     7.82 tokens per second)\n",
      "llama_print_timings:        eval time =    4416.37 ms /    27 runs   (  163.57 ms per token,     6.11 tokens per second)\n",
      "llama_print_timings:       total time =    7586.20 ms\n",
      "Llama.generate: prefix-match hit\n"
     ]
    },
    {
     "name": "stdout",
     "output_type": "stream",
     "text": [
      "Question: What language style is used in the following Statement: He’ll have to do another five tests before he can stop the experiment.\n",
      "Expected Answer: Informal\n",
      "Model Answer: The language style used in the statement is Informal.\n",
      "ROUGE Scores: [{'rouge-1': {'r': 0.1111111111111111, 'p': 1.0, 'f': 0.1999999982}, 'rouge-2': {'r': 0.0, 'p': 0.0, 'f': 0.0}, 'rouge-l': {'r': 0.1111111111111111, 'p': 1.0, 'f': 0.1999999982}}]\n",
      "------------\n"
     ]
    },
    {
     "name": "stderr",
     "output_type": "stream",
     "text": [
      "\n",
      "llama_print_timings:        load time =   14220.44 ms\n",
      "llama_print_timings:      sample time =       3.81 ms /    13 runs   (    0.29 ms per token,  3409.39 tokens per second)\n",
      "llama_print_timings: prompt eval time =    2830.48 ms /    24 tokens (  117.94 ms per token,     8.48 tokens per second)\n",
      "llama_print_timings:        eval time =    2016.22 ms /    13 runs   (  155.09 ms per token,     6.45 tokens per second)\n",
      "llama_print_timings:       total time =    4899.15 ms\n",
      "Llama.generate: prefix-match hit\n"
     ]
    },
    {
     "name": "stdout",
     "output_type": "stream",
     "text": [
      "Question: What language style is described by the following statement: The style is more casual and spontaneous and is used to communicate with friends and family either in writing or conversations.\n",
      "Expected Answer: Informal\n",
      "Model Answer: Informal\n",
      "ROUGE Scores: [{'rouge-1': {'r': 1.0, 'p': 1.0, 'f': 0.999999995}, 'rouge-2': {'r': 0.0, 'p': 0.0, 'f': 0.0}, 'rouge-l': {'r': 1.0, 'p': 1.0, 'f': 0.999999995}}]\n",
      "------------\n"
     ]
    },
    {
     "name": "stderr",
     "output_type": "stream",
     "text": [
      "\n",
      "llama_print_timings:        load time =   14220.44 ms\n",
      "llama_print_timings:      sample time =       1.20 ms /     4 runs   (    0.30 ms per token,  3336.11 tokens per second)\n",
      "llama_print_timings: prompt eval time =    4885.24 ms /    40 tokens (  122.13 ms per token,     8.19 tokens per second)\n",
      "llama_print_timings:        eval time =     655.61 ms /     4 runs   (  163.90 ms per token,     6.10 tokens per second)\n",
      "llama_print_timings:       total time =    5568.44 ms\n",
      "Llama.generate: prefix-match hit\n"
     ]
    },
    {
     "name": "stdout",
     "output_type": "stream",
     "text": [
      "Question: What language style is used in the following e-mail: Hi Beth, Just a quick message to thank you for dinner last night. Absolutely delicious, as always, and I really enjoyed meeting your friend Alice.     She’s a laugh, isn’t she? I’m hoping to3 get tickets for the film festival next week, so I’ll be in touch to see if there’s anything you fancy seeing. Give my regards to Conrad when he gets back from Poland, and once again, thanks for last night. Love Sophie\n",
      "Expected Answer: Informal\n",
      "Model Answer: The language style used in the e-mail is informal.\n",
      "ROUGE Scores: [{'rouge-1': {'r': 0.0, 'p': 0.0, 'f': 0.0}, 'rouge-2': {'r': 0.0, 'p': 0.0, 'f': 0.0}, 'rouge-l': {'r': 0.0, 'p': 0.0, 'f': 0.0}}]\n",
      "------------\n"
     ]
    },
    {
     "name": "stderr",
     "output_type": "stream",
     "text": [
      "\n",
      "llama_print_timings:        load time =   14220.44 ms\n",
      "llama_print_timings:      sample time =       3.59 ms /    15 runs   (    0.24 ms per token,  4177.11 tokens per second)\n",
      "llama_print_timings: prompt eval time =   13809.30 ms /   120 tokens (  115.08 ms per token,     8.69 tokens per second)\n",
      "llama_print_timings:        eval time =    2382.79 ms /    15 runs   (  158.85 ms per token,     6.30 tokens per second)\n",
      "llama_print_timings:       total time =   16283.63 ms\n",
      "Llama.generate: prefix-match hit\n"
     ]
    },
    {
     "name": "stdout",
     "output_type": "stream",
     "text": [
      "Question: What language style is used in the following Statement: Improvements cannot be introduced due to funding restrictions.\n",
      "Expected Answer: Formal\n",
      "Model Answer: The language style used in the statement is Formal.\n",
      "ROUGE Scores: [{'rouge-1': {'r': 0.1111111111111111, 'p': 1.0, 'f': 0.1999999982}, 'rouge-2': {'r': 0.0, 'p': 0.0, 'f': 0.0}, 'rouge-l': {'r': 0.1111111111111111, 'p': 1.0, 'f': 0.1999999982}}]\n",
      "------------\n"
     ]
    },
    {
     "name": "stderr",
     "output_type": "stream",
     "text": [
      "\n",
      "llama_print_timings:        load time =   14220.44 ms\n",
      "llama_print_timings:      sample time =       3.70 ms /    13 runs   (    0.28 ms per token,  3513.51 tokens per second)\n",
      "llama_print_timings: prompt eval time =    2658.54 ms /    24 tokens (  110.77 ms per token,     9.03 tokens per second)\n",
      "llama_print_timings:        eval time =    1740.90 ms /    12 runs   (  145.08 ms per token,     6.89 tokens per second)\n",
      "llama_print_timings:       total time =    4447.15 ms\n",
      "Llama.generate: prefix-match hit\n"
     ]
    },
    {
     "name": "stdout",
     "output_type": "stream",
     "text": [
      "Question: What language style is used in the following Statement: Could you please provide an update on the progress of the project by the end of the day?\n",
      "Expected Answer: Formal\n",
      "Model Answer: The language style used in the statement is Formal.\n",
      "ROUGE Scores: [{'rouge-1': {'r': 0.1111111111111111, 'p': 1.0, 'f': 0.1999999982}, 'rouge-2': {'r': 0.0, 'p': 0.0, 'f': 0.0}, 'rouge-l': {'r': 0.1111111111111111, 'p': 1.0, 'f': 0.1999999982}}]\n",
      "------------\n"
     ]
    },
    {
     "name": "stderr",
     "output_type": "stream",
     "text": [
      "\n",
      "llama_print_timings:        load time =   14220.44 ms\n",
      "llama_print_timings:      sample time =       4.32 ms /    13 runs   (    0.33 ms per token,  3007.17 tokens per second)\n",
      "llama_print_timings: prompt eval time =    3114.45 ms /    28 tokens (  111.23 ms per token,     8.99 tokens per second)\n",
      "llama_print_timings:        eval time =    1948.64 ms /    12 runs   (  162.39 ms per token,     6.16 tokens per second)\n",
      "llama_print_timings:       total time =    5116.85 ms\n",
      "Llama.generate: prefix-match hit\n"
     ]
    },
    {
     "name": "stdout",
     "output_type": "stream",
     "text": [
      "Question: What language style is used in the following Statement: I would like to inquire about the availability of the conference room for our meeting next week.\n",
      "Expected Answer: Formal\n",
      "Model Answer: The language style used in the given statement is Formal.\n",
      "ROUGE Scores: [{'rouge-1': {'r': 0.1, 'p': 1.0, 'f': 0.18181818016528928}, 'rouge-2': {'r': 0.0, 'p': 0.0, 'f': 0.0}, 'rouge-l': {'r': 0.1, 'p': 1.0, 'f': 0.18181818016528928}}]\n",
      "------------\n"
     ]
    },
    {
     "name": "stderr",
     "output_type": "stream",
     "text": [
      "\n",
      "llama_print_timings:        load time =   14220.44 ms\n",
      "llama_print_timings:      sample time =       3.98 ms /    14 runs   (    0.28 ms per token,  3520.24 tokens per second)\n",
      "llama_print_timings: prompt eval time =    3343.28 ms /    29 tokens (  115.29 ms per token,     8.67 tokens per second)\n",
      "llama_print_timings:        eval time =    1892.22 ms /    13 runs   (  145.56 ms per token,     6.87 tokens per second)\n",
      "llama_print_timings:       total time =    5288.11 ms\n",
      "Llama.generate: prefix-match hit\n"
     ]
    },
    {
     "name": "stdout",
     "output_type": "stream",
     "text": [
      "Question: What language style is used in the following Statement: Per our previous discussion, I am following up on the status of the pending tasks.\n",
      "Expected Answer: Formal\n",
      "Model Answer: The language style used in the statement is Formal.\n",
      "ROUGE Scores: [{'rouge-1': {'r': 0.1111111111111111, 'p': 1.0, 'f': 0.1999999982}, 'rouge-2': {'r': 0.0, 'p': 0.0, 'f': 0.0}, 'rouge-l': {'r': 0.1111111111111111, 'p': 1.0, 'f': 0.1999999982}}]\n",
      "------------\n"
     ]
    },
    {
     "name": "stderr",
     "output_type": "stream",
     "text": [
      "\n",
      "llama_print_timings:        load time =   14220.44 ms\n",
      "llama_print_timings:      sample time =       4.29 ms /    13 runs   (    0.33 ms per token,  3026.78 tokens per second)\n",
      "llama_print_timings: prompt eval time =    2965.54 ms /    26 tokens (  114.06 ms per token,     8.77 tokens per second)\n",
      "llama_print_timings:        eval time =    1951.81 ms /    12 runs   (  162.65 ms per token,     6.15 tokens per second)\n",
      "llama_print_timings:       total time =    4970.90 ms\n",
      "Llama.generate: prefix-match hit\n"
     ]
    },
    {
     "name": "stdout",
     "output_type": "stream",
     "text": [
      "Question: What language style is used in the following Statement: Kindly confirm the receipt of this email and let me know if any further action is required.\n",
      "Expected Answer: Formal\n",
      "Model Answer: The language style in the given statement is Formal.\n",
      "ROUGE Scores: [{'rouge-1': {'r': 0.1111111111111111, 'p': 1.0, 'f': 0.1999999982}, 'rouge-2': {'r': 0.0, 'p': 0.0, 'f': 0.0}, 'rouge-l': {'r': 0.1111111111111111, 'p': 1.0, 'f': 0.1999999982}}]\n",
      "------------\n"
     ]
    },
    {
     "name": "stderr",
     "output_type": "stream",
     "text": [
      "\n",
      "llama_print_timings:        load time =   14220.44 ms\n",
      "llama_print_timings:      sample time =       4.05 ms /    13 runs   (    0.31 ms per token,  3208.29 tokens per second)\n",
      "llama_print_timings: prompt eval time =    3602.17 ms /    29 tokens (  124.21 ms per token,     8.05 tokens per second)\n",
      "llama_print_timings:        eval time =    1865.98 ms /    12 runs   (  155.50 ms per token,     6.43 tokens per second)\n",
      "llama_print_timings:       total time =    5519.78 ms\n",
      "Llama.generate: prefix-match hit\n"
     ]
    },
    {
     "name": "stdout",
     "output_type": "stream",
     "text": [
      "Question: What language style is used in the following Statement: In accordance with company policy, employees are required to complete the mandatory training module.\n",
      "Expected Answer: Formal\n",
      "Model Answer: The language style used in the statement is Formal.\n",
      "ROUGE Scores: [{'rouge-1': {'r': 0.1111111111111111, 'p': 1.0, 'f': 0.1999999982}, 'rouge-2': {'r': 0.0, 'p': 0.0, 'f': 0.0}, 'rouge-l': {'r': 0.1111111111111111, 'p': 1.0, 'f': 0.1999999982}}]\n",
      "------------\n"
     ]
    },
    {
     "name": "stderr",
     "output_type": "stream",
     "text": [
      "\n",
      "llama_print_timings:        load time =   14220.44 ms\n",
      "llama_print_timings:      sample time =       3.76 ms /    13 runs   (    0.29 ms per token,  3454.69 tokens per second)\n",
      "llama_print_timings: prompt eval time =    3375.85 ms /    27 tokens (  125.03 ms per token,     8.00 tokens per second)\n",
      "llama_print_timings:        eval time =    2097.93 ms /    12 runs   (  174.83 ms per token,     5.72 tokens per second)\n",
      "llama_print_timings:       total time =    5525.70 ms\n",
      "Llama.generate: prefix-match hit\n",
      "\n",
      "llama_print_timings:        load time =   14220.44 ms\n",
      "llama_print_timings:      sample time =       3.74 ms /    13 runs   (    0.29 ms per token,  3478.73 tokens per second)\n",
      "llama_print_timings: prompt eval time =    3280.28 ms /    29 tokens (  113.11 ms per token,     8.84 tokens per second)\n",
      "llama_print_timings:        eval time =    1945.34 ms /    12 runs   (  162.11 ms per token,     6.17 tokens per second)\n",
      "llama_print_timings:       total time =    5279.11 ms\n",
      "Llama.generate: prefix-match hit\n"
     ]
    },
    {
     "name": "stdout",
     "output_type": "stream",
     "text": [
      "Question: What language style is used in the following Statement: Please be advised that the deadline for submitting the report has been extended to next Friday.\n",
      "Expected Answer: Formal\n",
      "Model Answer: The language style used in the statement is Formal.\n",
      "ROUGE Scores: [{'rouge-1': {'r': 0.1111111111111111, 'p': 1.0, 'f': 0.1999999982}, 'rouge-2': {'r': 0.0, 'p': 0.0, 'f': 0.0}, 'rouge-l': {'r': 0.1111111111111111, 'p': 1.0, 'f': 0.1999999982}}]\n",
      "------------\n"
     ]
    },
    {
     "name": "stderr",
     "output_type": "stream",
     "text": [
      "\n",
      "llama_print_timings:        load time =   14220.44 ms\n",
      "llama_print_timings:      sample time =       3.95 ms /    13 runs   (    0.30 ms per token,  3294.48 tokens per second)\n",
      "llama_print_timings: prompt eval time =    3086.00 ms /    26 tokens (  118.69 ms per token,     8.43 tokens per second)\n",
      "llama_print_timings:        eval time =    1891.09 ms /    12 runs   (  157.59 ms per token,     6.35 tokens per second)\n",
      "llama_print_timings:       total time =    5029.96 ms\n",
      "Llama.generate: prefix-match hit\n"
     ]
    },
    {
     "name": "stdout",
     "output_type": "stream",
     "text": [
      "Question: What language style is used in the following Statement: I am writing to formally request an extension on the deadline for the project proposal.\n",
      "Expected Answer: Formal\n",
      "Model Answer: The language style used in the statement is Formal.\n",
      "ROUGE Scores: [{'rouge-1': {'r': 0.1111111111111111, 'p': 1.0, 'f': 0.1999999982}, 'rouge-2': {'r': 0.0, 'p': 0.0, 'f': 0.0}, 'rouge-l': {'r': 0.1111111111111111, 'p': 1.0, 'f': 0.1999999982}}]\n",
      "------------\n",
      "Question: What language style is used in the following Statement: Per your request, attached is the revised version of the contract for your review.\n",
      "Expected Answer: Formal\n",
      "Model Answer: The language style used in the statement is formal and professional.\n",
      "ROUGE Scores: [{'rouge-1': {'r': 0.0, 'p': 0.0, 'f': 0.0}, 'rouge-2': {'r': 0.0, 'p': 0.0, 'f': 0.0}, 'rouge-l': {'r': 0.0, 'p': 0.0, 'f': 0.0}}]\n",
      "------------\n"
     ]
    },
    {
     "name": "stderr",
     "output_type": "stream",
     "text": [
      "\n",
      "llama_print_timings:        load time =   14220.44 ms\n",
      "llama_print_timings:      sample time =       4.18 ms /    14 runs   (    0.30 ms per token,  3350.89 tokens per second)\n",
      "llama_print_timings: prompt eval time =    3091.37 ms /    26 tokens (  118.90 ms per token,     8.41 tokens per second)\n",
      "llama_print_timings:        eval time =    2109.93 ms /    13 runs   (  162.30 ms per token,     6.16 tokens per second)\n",
      "llama_print_timings:       total time =    5257.36 ms\n",
      "Llama.generate: prefix-match hit\n"
     ]
    },
    {
     "name": "stdout",
     "output_type": "stream",
     "text": [
      "Question: What language style is used in the following Statement: I apologize for any inconvenience caused and appreciate your understanding in this matter.\n",
      "Expected Answer: Formal\n",
      "Model Answer: The language style used in the statement is Formal.\n",
      "ROUGE Scores: [{'rouge-1': {'r': 0.1111111111111111, 'p': 1.0, 'f': 0.1999999982}, 'rouge-2': {'r': 0.0, 'p': 0.0, 'f': 0.0}, 'rouge-l': {'r': 0.1111111111111111, 'p': 1.0, 'f': 0.1999999982}}]\n",
      "------------\n"
     ]
    },
    {
     "name": "stderr",
     "output_type": "stream",
     "text": [
      "\n",
      "llama_print_timings:        load time =   14220.44 ms\n",
      "llama_print_timings:      sample time =       4.64 ms /    13 runs   (    0.36 ms per token,  2802.93 tokens per second)\n",
      "llama_print_timings: prompt eval time =    3060.03 ms /    26 tokens (  117.69 ms per token,     8.50 tokens per second)\n",
      "llama_print_timings:        eval time =    2020.93 ms /    12 runs   (  168.41 ms per token,     5.94 tokens per second)\n",
      "llama_print_timings:       total time =    5134.29 ms\n",
      "Llama.generate: prefix-match hit\n"
     ]
    },
    {
     "name": "stdout",
     "output_type": "stream",
     "text": [
      "Question: What language style is used in the following Statement: Good morning, Mrs. Smith, how are you doing?\n",
      "Expected Answer: Formal\n",
      "Model Answer: The language style used in the statement is Formal.\n",
      "ROUGE Scores: [{'rouge-1': {'r': 0.1111111111111111, 'p': 1.0, 'f': 0.1999999982}, 'rouge-2': {'r': 0.0, 'p': 0.0, 'f': 0.0}, 'rouge-l': {'r': 0.1111111111111111, 'p': 1.0, 'f': 0.1999999982}}]\n",
      "------------\n"
     ]
    },
    {
     "name": "stderr",
     "output_type": "stream",
     "text": [
      "\n",
      "llama_print_timings:        load time =   14220.44 ms\n",
      "llama_print_timings:      sample time =       4.27 ms /    13 runs   (    0.33 ms per token,  3047.35 tokens per second)\n",
      "llama_print_timings: prompt eval time =    2495.39 ms /    21 tokens (  118.83 ms per token,     8.42 tokens per second)\n",
      "llama_print_timings:        eval time =    1962.86 ms /    12 runs   (  163.57 ms per token,     6.11 tokens per second)\n",
      "llama_print_timings:       total time =    4510.80 ms\n",
      "Llama.generate: prefix-match hit\n"
     ]
    },
    {
     "name": "stdout",
     "output_type": "stream",
     "text": [
      "Question: What language style is used in the following Statement: Only food purchased here may be eaten on the premises.\n",
      "Expected Answer: Formal\n",
      "Model Answer: The language style used in the statement is Formal.\n",
      "ROUGE Scores: [{'rouge-1': {'r': 0.1111111111111111, 'p': 1.0, 'f': 0.1999999982}, 'rouge-2': {'r': 0.0, 'p': 0.0, 'f': 0.0}, 'rouge-l': {'r': 0.1111111111111111, 'p': 1.0, 'f': 0.1999999982}}]\n",
      "------------\n"
     ]
    },
    {
     "name": "stderr",
     "output_type": "stream",
     "text": [
      "\n",
      "llama_print_timings:        load time =   14220.44 ms\n",
      "llama_print_timings:      sample time =       3.95 ms /    13 runs   (    0.30 ms per token,  3295.31 tokens per second)\n",
      "llama_print_timings: prompt eval time =    2448.17 ms /    22 tokens (  111.28 ms per token,     8.99 tokens per second)\n",
      "llama_print_timings:        eval time =    1993.10 ms /    12 runs   (  166.09 ms per token,     6.02 tokens per second)\n",
      "llama_print_timings:       total time =    4491.44 ms\n",
      "Llama.generate: prefix-match hit\n",
      "\n",
      "llama_print_timings:        load time =   14220.44 ms\n",
      "llama_print_timings:      sample time =       3.13 ms /    13 runs   (    0.24 ms per token,  4158.67 tokens per second)\n",
      "llama_print_timings: prompt eval time =    5182.74 ms /    46 tokens (  112.67 ms per token,     8.88 tokens per second)\n",
      "llama_print_timings:        eval time =    1798.29 ms /    12 runs   (  149.86 ms per token,     6.67 tokens per second)\n",
      "llama_print_timings:       total time =    7037.93 ms\n",
      "Llama.generate: prefix-match hit\n"
     ]
    },
    {
     "name": "stdout",
     "output_type": "stream",
     "text": [
      "Question: What language style is described by the following statement: The style is used when writing or speaking for professional purpose and does not use colloquialism, contractions or first-person pronouns.\n",
      "Expected Answer: Formal\n",
      "Model Answer: The language style described in the statement is: Formal\n",
      "ROUGE Scores: [{'rouge-1': {'r': 0.1111111111111111, 'p': 1.0, 'f': 0.1999999982}, 'rouge-2': {'r': 0.0, 'p': 0.0, 'f': 0.0}, 'rouge-l': {'r': 0.1111111111111111, 'p': 1.0, 'f': 0.1999999982}}]\n",
      "------------\n",
      "Question: What language style is used in the following e-mail: Dear Sir or Madam, I am writing in response to3 your advertisement about job opportunities for graduates. I have just completed a degree in Economics at Durham University, and     I would be grateful if you could send me further details6 of the graduate training schemes you mention. I am available for interview at any time. I look forward to hearing from you. Yours faithfully\n",
      "Expected Answer: Formal\n",
      "Model Answer: The language style in the given email is formal and professional, typical of a business or official communication.\n",
      "ROUGE Scores: [{'rouge-1': {'r': 0.0, 'p': 0.0, 'f': 0.0}, 'rouge-2': {'r': 0.0, 'p': 0.0, 'f': 0.0}, 'rouge-l': {'r': 0.0, 'p': 0.0, 'f': 0.0}}]\n",
      "------------\n"
     ]
    },
    {
     "name": "stderr",
     "output_type": "stream",
     "text": [
      "\n",
      "llama_print_timings:        load time =   14220.44 ms\n",
      "llama_print_timings:      sample time =       5.62 ms /    22 runs   (    0.26 ms per token,  3914.59 tokens per second)\n",
      "llama_print_timings: prompt eval time =   11990.12 ms /   101 tokens (  118.71 ms per token,     8.42 tokens per second)\n",
      "llama_print_timings:        eval time =    3378.99 ms /    21 runs   (  160.90 ms per token,     6.21 tokens per second)\n",
      "llama_print_timings:       total time =   15480.05 ms\n",
      "Llama.generate: prefix-match hit\n"
     ]
    },
    {
     "name": "stdout",
     "output_type": "stream",
     "text": [
      "Question: What language style is used in the following Statement: Please respect our no radio playing policy.\n",
      "Expected Answer: Formal\n",
      "Model Answer: The language style used in the statement is Formal.\n",
      "ROUGE Scores: [{'rouge-1': {'r': 0.1111111111111111, 'p': 1.0, 'f': 0.1999999982}, 'rouge-2': {'r': 0.0, 'p': 0.0, 'f': 0.0}, 'rouge-l': {'r': 0.1111111111111111, 'p': 1.0, 'f': 0.1999999982}}]\n",
      "------------\n"
     ]
    },
    {
     "name": "stderr",
     "output_type": "stream",
     "text": [
      "\n",
      "llama_print_timings:        load time =   14220.44 ms\n",
      "llama_print_timings:      sample time =       3.64 ms /    13 runs   (    0.28 ms per token,  3572.41 tokens per second)\n",
      "llama_print_timings: prompt eval time =    2386.51 ms /    20 tokens (  119.33 ms per token,     8.38 tokens per second)\n",
      "llama_print_timings:        eval time =    1805.44 ms /    12 runs   (  150.45 ms per token,     6.65 tokens per second)\n",
      "llama_print_timings:       total time =    4244.27 ms\n",
      "Llama.generate: prefix-match hit\n"
     ]
    },
    {
     "name": "stdout",
     "output_type": "stream",
     "text": [
      "Question: What language style is used in the following Statement: This could be an effective plan.\n",
      "Expected Answer: Formal\n",
      "Model Answer: The language style used in the statement is Informal.\n",
      "ROUGE Scores: [{'rouge-1': {'r': 0.0, 'p': 0.0, 'f': 0.0}, 'rouge-2': {'r': 0.0, 'p': 0.0, 'f': 0.0}, 'rouge-l': {'r': 0.0, 'p': 0.0, 'f': 0.0}}]\n",
      "------------\n"
     ]
    },
    {
     "name": "stderr",
     "output_type": "stream",
     "text": [
      "\n",
      "llama_print_timings:        load time =   14220.44 ms\n",
      "llama_print_timings:      sample time =       3.85 ms /    13 runs   (    0.30 ms per token,  3373.12 tokens per second)\n",
      "llama_print_timings: prompt eval time =    1851.50 ms /    16 tokens (  115.72 ms per token,     8.64 tokens per second)\n",
      "llama_print_timings:        eval time =    1984.45 ms /    12 runs   (  165.37 ms per token,     6.05 tokens per second)\n",
      "llama_print_timings:       total time =    3883.47 ms\n",
      "Llama.generate: prefix-match hit\n",
      "\n",
      "llama_print_timings:        load time =   14220.44 ms\n",
      "llama_print_timings:      sample time =       5.74 ms /    20 runs   (    0.29 ms per token,  3487.36 tokens per second)\n",
      "llama_print_timings: prompt eval time =    1897.81 ms /    16 tokens (  118.61 ms per token,     8.43 tokens per second)\n",
      "llama_print_timings:        eval time =    3195.73 ms /    20 runs   (  159.79 ms per token,     6.26 tokens per second)\n",
      "llama_print_timings:       total time =    5167.54 ms\n",
      "Llama.generate: prefix-match hit\n"
     ]
    },
    {
     "name": "stdout",
     "output_type": "stream",
     "text": [
      "Question: What language style is used in the following Statement: There were two different methods of research.\n",
      "Expected Answer: Formal\n",
      "Model Answer: The language style used in the statement is:\n",
      "1. Technical or Academic Writing\n",
      "ROUGE Scores: [{'rouge-1': {'r': 0.0, 'p': 0.0, 'f': 0.0}, 'rouge-2': {'r': 0.0, 'p': 0.0, 'f': 0.0}, 'rouge-l': {'r': 0.0, 'p': 0.0, 'f': 0.0}}]\n",
      "------------\n",
      "Question: What language style is used in the following Statement: The project will be completed next year.\n",
      "Expected Answer: Formal\n",
      "Model Answer: The language style of the statement is: Formal.\n",
      "ROUGE Scores: [{'rouge-1': {'r': 0.125, 'p': 1.0, 'f': 0.2222222202469136}, 'rouge-2': {'r': 0.0, 'p': 0.0, 'f': 0.0}, 'rouge-l': {'r': 0.125, 'p': 1.0, 'f': 0.2222222202469136}}]\n",
      "------------\n"
     ]
    },
    {
     "name": "stderr",
     "output_type": "stream",
     "text": [
      "\n",
      "llama_print_timings:        load time =   14220.44 ms\n",
      "llama_print_timings:      sample time =       4.19 ms /    13 runs   (    0.32 ms per token,  3103.37 tokens per second)\n",
      "llama_print_timings: prompt eval time =    1992.33 ms /    16 tokens (  124.52 ms per token,     8.03 tokens per second)\n",
      "llama_print_timings:        eval time =    2191.67 ms /    13 runs   (  168.59 ms per token,     5.93 tokens per second)\n",
      "llama_print_timings:       total time =    4237.16 ms\n",
      "Llama.generate: prefix-match hit\n",
      "\n",
      "llama_print_timings:        load time =   14220.44 ms\n",
      "llama_print_timings:      sample time =       4.02 ms /    13 runs   (    0.31 ms per token,  3232.22 tokens per second)\n",
      "llama_print_timings: prompt eval time =    3094.71 ms /    22 tokens (  140.67 ms per token,     7.11 tokens per second)\n",
      "llama_print_timings:        eval time =    1940.27 ms /    12 runs   (  161.69 ms per token,     6.18 tokens per second)\n",
      "llama_print_timings:       total time =    5088.32 ms\n",
      "Llama.generate: prefix-match hit\n"
     ]
    },
    {
     "name": "stdout",
     "output_type": "stream",
     "text": [
      "Question: What language style is used in the following Statement: Five more tests will be necessary before the experiment can be concluded.\n",
      "Expected Answer: Formal\n",
      "Model Answer: The language style used in the statement is Formal.\n",
      "ROUGE Scores: [{'rouge-1': {'r': 0.1111111111111111, 'p': 1.0, 'f': 0.1999999982}, 'rouge-2': {'r': 0.0, 'p': 0.0, 'f': 0.0}, 'rouge-l': {'r': 0.1111111111111111, 'p': 1.0, 'f': 0.1999999982}}]\n",
      "------------\n"
     ]
    },
    {
     "name": "stderr",
     "output_type": "stream",
     "text": [
      "\n",
      "llama_print_timings:        load time =   14220.44 ms\n",
      "llama_print_timings:      sample time =       4.76 ms /    16 runs   (    0.30 ms per token,  3359.93 tokens per second)\n",
      "llama_print_timings: prompt eval time =    2577.75 ms /    22 tokens (  117.17 ms per token,     8.53 tokens per second)\n",
      "llama_print_timings:        eval time =    2372.52 ms /    15 runs   (  158.17 ms per token,     6.32 tokens per second)\n",
      "llama_print_timings:       total time =    5011.17 ms\n",
      "Llama.generate: prefix-match hit\n"
     ]
    },
    {
     "name": "stdout",
     "output_type": "stream",
     "text": [
      "Question: What language style is used in the following Statement: It is possible to consider the results from a different viewpoint.\n",
      "Expected Answer: Formal\n",
      "Model Answer: The language style used in the statement is:\n",
      "1. Technical\n",
      "ROUGE Scores: [{'rouge-1': {'r': 0.0, 'p': 0.0, 'f': 0.0}, 'rouge-2': {'r': 0.0, 'p': 0.0, 'f': 0.0}, 'rouge-l': {'r': 0.0, 'p': 0.0, 'f': 0.0}}]\n",
      "------------\n"
     ]
    },
    {
     "name": "stderr",
     "output_type": "stream",
     "text": [
      "\n",
      "llama_print_timings:        load time =   14220.44 ms\n",
      "llama_print_timings:      sample time =       4.13 ms /    13 runs   (    0.32 ms per token,  3150.75 tokens per second)\n",
      "llama_print_timings: prompt eval time =    2597.61 ms /    21 tokens (  123.70 ms per token,     8.08 tokens per second)\n",
      "llama_print_timings:        eval time =    1913.30 ms /    12 runs   (  159.44 ms per token,     6.27 tokens per second)\n",
      "llama_print_timings:       total time =    4563.27 ms\n",
      "Llama.generate: prefix-match hit\n"
     ]
    },
    {
     "name": "stdout",
     "output_type": "stream",
     "text": [
      "Question: What language style is used in the following Statement: It has been proved that the arguments so far are without foundation.\n",
      "Expected Answer: Formal\n",
      "Model Answer: The language style used in the statement is Formal.\n",
      "ROUGE Scores: [{'rouge-1': {'r': 0.1111111111111111, 'p': 1.0, 'f': 0.1999999982}, 'rouge-2': {'r': 0.0, 'p': 0.0, 'f': 0.0}, 'rouge-l': {'r': 0.1111111111111111, 'p': 1.0, 'f': 0.1999999982}}]\n",
      "------------\n"
     ]
    },
    {
     "name": "stderr",
     "output_type": "stream",
     "text": [
      "\n",
      "llama_print_timings:        load time =   14220.44 ms\n",
      "llama_print_timings:      sample time =       3.60 ms /    12 runs   (    0.30 ms per token,  3337.04 tokens per second)\n",
      "llama_print_timings: prompt eval time =    2599.47 ms /    23 tokens (  113.02 ms per token,     8.85 tokens per second)\n",
      "llama_print_timings:        eval time =    1818.31 ms /    11 runs   (  165.30 ms per token,     6.05 tokens per second)\n",
      "llama_print_timings:       total time =    4472.38 ms\n",
      "Llama.generate: prefix-match hit\n"
     ]
    },
    {
     "name": "stdout",
     "output_type": "stream",
     "text": [
      "Question: What language style is used in the following Statement: There are a several reasons why the questionnaire should be revised.\n",
      "Expected Answer: Formal\n",
      "Model Answer: The language style used in the statement is formal.\n",
      "ROUGE Scores: [{'rouge-1': {'r': 0.0, 'p': 0.0, 'f': 0.0}, 'rouge-2': {'r': 0.0, 'p': 0.0, 'f': 0.0}, 'rouge-l': {'r': 0.0, 'p': 0.0, 'f': 0.0}}]\n",
      "------------\n"
     ]
    },
    {
     "name": "stderr",
     "output_type": "stream",
     "text": [
      "\n",
      "llama_print_timings:        load time =   14220.44 ms\n",
      "llama_print_timings:      sample time =       6.89 ms /    23 runs   (    0.30 ms per token,  3338.17 tokens per second)\n",
      "llama_print_timings: prompt eval time =    2115.49 ms /    18 tokens (  117.53 ms per token,     8.51 tokens per second)\n",
      "llama_print_timings:        eval time =    3338.17 ms /    22 runs   (  151.73 ms per token,     6.59 tokens per second)\n",
      "llama_print_timings:       total time =    5538.97 ms\n",
      "Llama.generate: prefix-match hit\n"
     ]
    },
    {
     "name": "stdout",
     "output_type": "stream",
     "text": [
      "Question: What language style is used in the following Statement: I look forward to meeting you next week.\n",
      "Expected Answer: Formal\n",
      "Model Answer: The language style used in the statement \"I look forward to meeting you next week\" is Formal.\n",
      "ROUGE Scores: [{'rouge-1': {'r': 0.058823529411764705, 'p': 1.0, 'f': 0.11111111006172841}, 'rouge-2': {'r': 0.0, 'p': 0.0, 'f': 0.0}, 'rouge-l': {'r': 0.058823529411764705, 'p': 1.0, 'f': 0.11111111006172841}}]\n",
      "------------\n",
      "Question: What language style is described by the following statement: The style is used for higher school purposes like thesis or research papers and does not use first-person pronouns and is not personal but factual\n",
      "Expected Answer: Academic\n",
      "Model Answer: A. Academic\n",
      "ROUGE Scores: [{'rouge-1': {'r': 0.5, 'p': 1.0, 'f': 0.6666666622222223}, 'rouge-2': {'r': 0.0, 'p': 0.0, 'f': 0.0}, 'rouge-l': {'r': 0.5, 'p': 1.0, 'f': 0.6666666622222223}}]\n",
      "------------\n"
     ]
    },
    {
     "name": "stderr",
     "output_type": "stream",
     "text": [
      "\n",
      "llama_print_timings:        load time =   14220.44 ms\n",
      "llama_print_timings:      sample time =       1.47 ms /     6 runs   (    0.25 ms per token,  4070.56 tokens per second)\n",
      "llama_print_timings: prompt eval time =    5407.40 ms /    46 tokens (  117.55 ms per token,     8.51 tokens per second)\n",
      "llama_print_timings:        eval time =     713.87 ms /     5 runs   (  142.77 ms per token,     7.00 tokens per second)\n",
      "llama_print_timings:       total time =    6153.12 ms\n",
      "Llama.generate: prefix-match hit\n"
     ]
    },
    {
     "name": "stdout",
     "output_type": "stream",
     "text": [
      "Question: What language style is used in the following Statement: New results in this area are produced by the research group.\n",
      "Expected Answer: Academic\n",
      "Model Answer: The language style of the statement is: Technical or Academic.\n",
      "ROUGE Scores: [{'rouge-1': {'r': 0.1, 'p': 1.0, 'f': 0.18181818016528928}, 'rouge-2': {'r': 0.0, 'p': 0.0, 'f': 0.0}, 'rouge-l': {'r': 0.1, 'p': 1.0, 'f': 0.18181818016528928}}]\n",
      "------------\n"
     ]
    },
    {
     "name": "stderr",
     "output_type": "stream",
     "text": [
      "\n",
      "llama_print_timings:        load time =   14220.44 ms\n",
      "llama_print_timings:      sample time =       4.98 ms /    16 runs   (    0.31 ms per token,  3213.50 tokens per second)\n",
      "llama_print_timings: prompt eval time =    3314.70 ms /    28 tokens (  118.38 ms per token,     8.45 tokens per second)\n",
      "llama_print_timings:        eval time =    2415.11 ms /    15 runs   (  161.01 ms per token,     6.21 tokens per second)\n",
      "llama_print_timings:       total time =    5797.43 ms\n",
      "Llama.generate: prefix-match hit\n"
     ]
    },
    {
     "name": "stdout",
     "output_type": "stream",
     "text": [
      "Question: What language style is used in the following Statement: How do socioeconomic factors influence voting behavior in democratic societies?\n",
      "Expected Answer: Academic\n",
      "Model Answer: The language style used in the statement is Academic or Technical Writing.\n",
      "ROUGE Scores: [{'rouge-1': {'r': 0.08333333333333333, 'p': 1.0, 'f': 0.15384615242603553}, 'rouge-2': {'r': 0.0, 'p': 0.0, 'f': 0.0}, 'rouge-l': {'r': 0.08333333333333333, 'p': 1.0, 'f': 0.15384615242603553}}]\n",
      "------------\n"
     ]
    },
    {
     "name": "stderr",
     "output_type": "stream",
     "text": [
      "\n",
      "llama_print_timings:        load time =   14220.44 ms\n",
      "llama_print_timings:      sample time =       4.78 ms /    17 runs   (    0.28 ms per token,  3555.00 tokens per second)\n",
      "llama_print_timings: prompt eval time =    3100.26 ms /    27 tokens (  114.82 ms per token,     8.71 tokens per second)\n",
      "llama_print_timings:        eval time =    2566.00 ms /    16 runs   (  160.38 ms per token,     6.24 tokens per second)\n",
      "llama_print_timings:       total time =    5735.09 ms\n",
      "Llama.generate: prefix-match hit\n"
     ]
    },
    {
     "name": "stdout",
     "output_type": "stream",
     "text": [
      "Question: What language style is used in the following Statement: What is the significance of the findings reported in the latest research paper on climate change?\n",
      "Expected Answer: Academic\n",
      "Model Answer: The language style used in the statement is Academic or Technical Writing.\n",
      "ROUGE Scores: [{'rouge-1': {'r': 0.08333333333333333, 'p': 1.0, 'f': 0.15384615242603553}, 'rouge-2': {'r': 0.0, 'p': 0.0, 'f': 0.0}, 'rouge-l': {'r': 0.08333333333333333, 'p': 1.0, 'f': 0.15384615242603553}}]\n",
      "------------\n"
     ]
    },
    {
     "name": "stderr",
     "output_type": "stream",
     "text": [
      "\n",
      "llama_print_timings:        load time =   14220.44 ms\n",
      "llama_print_timings:      sample time =       5.26 ms /    17 runs   (    0.31 ms per token,  3233.17 tokens per second)\n",
      "llama_print_timings: prompt eval time =    3166.43 ms /    27 tokens (  117.28 ms per token,     8.53 tokens per second)\n",
      "llama_print_timings:        eval time =    2501.83 ms /    16 runs   (  156.36 ms per token,     6.40 tokens per second)\n",
      "llama_print_timings:       total time =    5736.34 ms\n",
      "Llama.generate: prefix-match hit\n"
     ]
    },
    {
     "name": "stdout",
     "output_type": "stream",
     "text": [
      "Question: What language style is used in the following Statement: How do cognitive biases affect decision-making processes in individuals and organizations?\n",
      "Expected Answer: Academic\n",
      "Model Answer: The language style used in the statement is Academic or Technical Writing.\n",
      "ROUGE Scores: [{'rouge-1': {'r': 0.08333333333333333, 'p': 1.0, 'f': 0.15384615242603553}, 'rouge-2': {'r': 0.0, 'p': 0.0, 'f': 0.0}, 'rouge-l': {'r': 0.08333333333333333, 'p': 1.0, 'f': 0.15384615242603553}}]\n",
      "------------\n"
     ]
    },
    {
     "name": "stderr",
     "output_type": "stream",
     "text": [
      "\n",
      "llama_print_timings:        load time =   14220.44 ms\n",
      "llama_print_timings:      sample time =       4.52 ms /    17 runs   (    0.27 ms per token,  3762.73 tokens per second)\n",
      "llama_print_timings: prompt eval time =    2771.92 ms /    24 tokens (  115.50 ms per token,     8.66 tokens per second)\n",
      "llama_print_timings:        eval time =    2612.53 ms /    17 runs   (  153.68 ms per token,     6.51 tokens per second)\n",
      "llama_print_timings:       total time =    5448.05 ms\n",
      "Llama.generate: prefix-match hit\n",
      "\n",
      "llama_print_timings:        load time =   14220.44 ms\n",
      "llama_print_timings:      sample time =       5.27 ms /    17 runs   (    0.31 ms per token,  3225.19 tokens per second)\n",
      "llama_print_timings: prompt eval time =    4148.65 ms /    31 tokens (  133.83 ms per token,     7.47 tokens per second)\n",
      "llama_print_timings:        eval time =    3411.32 ms /    16 runs   (  213.21 ms per token,     4.69 tokens per second)\n",
      "llama_print_timings:       total time =    7637.63 ms\n",
      "Llama.generate: prefix-match hit\n"
     ]
    },
    {
     "name": "stdout",
     "output_type": "stream",
     "text": [
      "Question: What language style is used in the following Statement: The study investigates the correlation between socioeconomic status and educational attainment in urban communities.\n",
      "Expected Answer: Academic\n",
      "Model Answer: The language style used in the statement is Academic or Technical Writing.\n",
      "ROUGE Scores: [{'rouge-1': {'r': 0.08333333333333333, 'p': 1.0, 'f': 0.15384615242603553}, 'rouge-2': {'r': 0.0, 'p': 0.0, 'f': 0.0}, 'rouge-l': {'r': 0.08333333333333333, 'p': 1.0, 'f': 0.15384615242603553}}]\n",
      "------------\n"
     ]
    },
    {
     "name": "stderr",
     "output_type": "stream",
     "text": [
      "\n",
      "llama_print_timings:        load time =   14220.44 ms\n",
      "llama_print_timings:      sample time =       5.21 ms /    17 runs   (    0.31 ms per token,  3265.46 tokens per second)\n",
      "llama_print_timings: prompt eval time =    4039.43 ms /    26 tokens (  155.36 ms per token,     6.44 tokens per second)\n",
      "llama_print_timings:        eval time =    2514.89 ms /    16 runs   (  157.18 ms per token,     6.36 tokens per second)\n",
      "llama_print_timings:       total time =    6627.43 ms\n",
      "Llama.generate: prefix-match hit\n"
     ]
    },
    {
     "name": "stdout",
     "output_type": "stream",
     "text": [
      "Question: What language style is used in the following Statement: The analysis explores the impact of climate change on agricultural productivity in developing countries.\n",
      "Expected Answer: Academic\n",
      "Model Answer: The language style used in the statement is Academic or Technical Writing.\n",
      "ROUGE Scores: [{'rouge-1': {'r': 0.08333333333333333, 'p': 1.0, 'f': 0.15384615242603553}, 'rouge-2': {'r': 0.0, 'p': 0.0, 'f': 0.0}, 'rouge-l': {'r': 0.08333333333333333, 'p': 1.0, 'f': 0.15384615242603553}}]\n",
      "------------\n"
     ]
    },
    {
     "name": "stderr",
     "output_type": "stream",
     "text": [
      "\n",
      "llama_print_timings:        load time =   14220.44 ms\n",
      "llama_print_timings:      sample time =       4.69 ms /    16 runs   (    0.29 ms per token,  3412.97 tokens per second)\n",
      "llama_print_timings: prompt eval time =    3358.56 ms /    28 tokens (  119.95 ms per token,     8.34 tokens per second)\n",
      "llama_print_timings:        eval time =    2279.09 ms /    15 runs   (  151.94 ms per token,     6.58 tokens per second)\n",
      "llama_print_timings:       total time =    5699.87 ms\n",
      "Llama.generate: prefix-match hit\n"
     ]
    },
    {
     "name": "stdout",
     "output_type": "stream",
     "text": [
      "Question: What language style is used in the following Statement: The research paper examines the role of cultural factors in shaping consumer behavior in global markets.\n",
      "Expected Answer: Academic\n",
      "Model Answer: The language style in the statement is Academic or Technical Writing.\n",
      "ROUGE Scores: [{'rouge-1': {'r': 0.09090909090909091, 'p': 1.0, 'f': 0.16666666513888892}, 'rouge-2': {'r': 0.0, 'p': 0.0, 'f': 0.0}, 'rouge-l': {'r': 0.09090909090909091, 'p': 1.0, 'f': 0.16666666513888892}}]\n",
      "------------\n",
      "Question: What language style is used in the following Statement: The literature review synthesizes existing studies on the effects of social media use on mental health outcomes.\n",
      "Expected Answer: Academic\n",
      "Model Answer: The language style used in the statement is Academic or Technical Writing.\n",
      "ROUGE Scores: [{'rouge-1': {'r': 0.08333333333333333, 'p': 1.0, 'f': 0.15384615242603553}, 'rouge-2': {'r': 0.0, 'p': 0.0, 'f': 0.0}, 'rouge-l': {'r': 0.08333333333333333, 'p': 1.0, 'f': 0.15384615242603553}}]\n",
      "------------\n"
     ]
    },
    {
     "name": "stderr",
     "output_type": "stream",
     "text": [
      "\n",
      "llama_print_timings:        load time =   14220.44 ms\n",
      "llama_print_timings:      sample time =       4.62 ms /    17 runs   (    0.27 ms per token,  3677.27 tokens per second)\n",
      "llama_print_timings: prompt eval time =    3457.96 ms /    29 tokens (  119.24 ms per token,     8.39 tokens per second)\n",
      "llama_print_timings:        eval time =    2413.90 ms /    16 runs   (  150.87 ms per token,     6.63 tokens per second)\n",
      "llama_print_timings:       total time =    5939.16 ms\n",
      "Llama.generate: prefix-match hit\n"
     ]
    },
    {
     "name": "stdout",
     "output_type": "stream",
     "text": [
      "Question: What language style is used in the following Statement: The theoretical framework draws upon sociological theories to analyze patterns of social inequality in urban neighborhoods.\n",
      "Expected Answer: Academic\n",
      "Model Answer: The language style used in the statement is Academic or Technical Writing.\n",
      "ROUGE Scores: [{'rouge-1': {'r': 0.08333333333333333, 'p': 1.0, 'f': 0.15384615242603553}, 'rouge-2': {'r': 0.0, 'p': 0.0, 'f': 0.0}, 'rouge-l': {'r': 0.08333333333333333, 'p': 1.0, 'f': 0.15384615242603553}}]\n",
      "------------\n"
     ]
    },
    {
     "name": "stderr",
     "output_type": "stream",
     "text": [
      "\n",
      "llama_print_timings:        load time =   14220.44 ms\n",
      "llama_print_timings:      sample time =       4.70 ms /    17 runs   (    0.28 ms per token,  3613.95 tokens per second)\n",
      "llama_print_timings: prompt eval time =    3170.83 ms /    28 tokens (  113.24 ms per token,     8.83 tokens per second)\n",
      "llama_print_timings:        eval time =    2464.88 ms /    16 runs   (  154.05 ms per token,     6.49 tokens per second)\n",
      "llama_print_timings:       total time =    5702.85 ms\n",
      "Llama.generate: prefix-match hit\n"
     ]
    },
    {
     "name": "stdout",
     "output_type": "stream",
     "text": [
      "Question: What language style is used in the following Statement: The analysis examines demographic trends in urbanization.\n",
      "Expected Answer: Academic\n",
      "Model Answer: The language style of the statement is Academic or Technical Writing.\n",
      "ROUGE Scores: [{'rouge-1': {'r': 0.09090909090909091, 'p': 1.0, 'f': 0.16666666513888892}, 'rouge-2': {'r': 0.0, 'p': 0.0, 'f': 0.0}, 'rouge-l': {'r': 0.09090909090909091, 'p': 1.0, 'f': 0.16666666513888892}}]\n",
      "------------\n"
     ]
    },
    {
     "name": "stderr",
     "output_type": "stream",
     "text": [
      "\n",
      "llama_print_timings:        load time =   14220.44 ms\n",
      "llama_print_timings:      sample time =       4.89 ms /    16 runs   (    0.31 ms per token,  3269.31 tokens per second)\n",
      "llama_print_timings: prompt eval time =    2320.56 ms /    20 tokens (  116.03 ms per token,     8.62 tokens per second)\n",
      "llama_print_timings:        eval time =    2317.25 ms /    15 runs   (  154.48 ms per token,     6.47 tokens per second)\n",
      "llama_print_timings:       total time =    4702.18 ms\n",
      "Llama.generate: prefix-match hit\n",
      "\n",
      "llama_print_timings:        load time =   14220.44 ms\n",
      "llama_print_timings:      sample time =       5.16 ms /    17 runs   (    0.30 ms per token,  3294.57 tokens per second)\n",
      "llama_print_timings: prompt eval time =    2434.88 ms /    21 tokens (  115.95 ms per token,     8.62 tokens per second)\n",
      "llama_print_timings:        eval time =    2730.65 ms /    16 runs   (  170.67 ms per token,     5.86 tokens per second)\n",
      "llama_print_timings:       total time =    5231.84 ms\n",
      "Llama.generate: prefix-match hit\n"
     ]
    },
    {
     "name": "stdout",
     "output_type": "stream",
     "text": [
      "Question: What language style is used in the following Statement: The findings highlight disparities in access to healthcare services.\n",
      "Expected Answer: Academic\n",
      "Model Answer: The language style used in the statement is Academic or Technical Writing.\n",
      "ROUGE Scores: [{'rouge-1': {'r': 0.08333333333333333, 'p': 1.0, 'f': 0.15384615242603553}, 'rouge-2': {'r': 0.0, 'p': 0.0, 'f': 0.0}, 'rouge-l': {'r': 0.08333333333333333, 'p': 1.0, 'f': 0.15384615242603553}}]\n",
      "------------\n",
      "Question: What language style is used in the following Statement: The literature review synthesizes recent advancements in machine learning algorithms.\n",
      "Expected Answer: Academic\n",
      "Model Answer: The language style of the statement is Academic or Technical Writing.\n",
      "ROUGE Scores: [{'rouge-1': {'r': 0.09090909090909091, 'p': 1.0, 'f': 0.16666666513888892}, 'rouge-2': {'r': 0.0, 'p': 0.0, 'f': 0.0}, 'rouge-l': {'r': 0.09090909090909091, 'p': 1.0, 'f': 0.16666666513888892}}]\n",
      "------------\n"
     ]
    },
    {
     "name": "stderr",
     "output_type": "stream",
     "text": [
      "\n",
      "llama_print_timings:        load time =   14220.44 ms\n",
      "llama_print_timings:      sample time =       5.21 ms /    16 runs   (    0.33 ms per token,  3070.43 tokens per second)\n",
      "llama_print_timings: prompt eval time =    3476.85 ms /    23 tokens (  151.17 ms per token,     6.62 tokens per second)\n",
      "llama_print_timings:        eval time =    3167.85 ms /    15 runs   (  211.19 ms per token,     4.74 tokens per second)\n",
      "llama_print_timings:       total time =    6717.26 ms\n",
      "Llama.generate: prefix-match hit\n"
     ]
    },
    {
     "name": "stdout",
     "output_type": "stream",
     "text": [
      "Question: What language style is used in the following Statement: The analysis underscores the importance of data privacy in digital healthcare systems.\n",
      "Expected Answer: Academic\n",
      "Model Answer: The language style used in the statement is Technical or Formal.\n",
      "ROUGE Scores: [{'rouge-1': {'r': 0.0, 'p': 0.0, 'f': 0.0}, 'rouge-2': {'r': 0.0, 'p': 0.0, 'f': 0.0}, 'rouge-l': {'r': 0.0, 'p': 0.0, 'f': 0.0}}]\n",
      "------------\n"
     ]
    },
    {
     "name": "stderr",
     "output_type": "stream",
     "text": [
      "\n",
      "llama_print_timings:        load time =   14220.44 ms\n",
      "llama_print_timings:      sample time =       4.80 ms /    16 runs   (    0.30 ms per token,  3331.95 tokens per second)\n",
      "llama_print_timings: prompt eval time =    3516.46 ms /    24 tokens (  146.52 ms per token,     6.83 tokens per second)\n",
      "llama_print_timings:        eval time =    2515.73 ms /    16 runs   (  157.23 ms per token,     6.36 tokens per second)\n",
      "llama_print_timings:       total time =    6098.07 ms\n",
      "Llama.generate: prefix-match hit\n"
     ]
    },
    {
     "name": "stdout",
     "output_type": "stream",
     "text": [
      "Question: What language style is used in the following Statement: These findings indicate that the model is valid.\n",
      "Expected Answer: Academic\n",
      "Model Answer: The language style of the statement is Academic or Technical Writing.\n",
      "ROUGE Scores: [{'rouge-1': {'r': 0.09090909090909091, 'p': 1.0, 'f': 0.16666666513888892}, 'rouge-2': {'r': 0.0, 'p': 0.0, 'f': 0.0}, 'rouge-l': {'r': 0.09090909090909091, 'p': 1.0, 'f': 0.16666666513888892}}]\n",
      "------------\n"
     ]
    },
    {
     "name": "stderr",
     "output_type": "stream",
     "text": [
      "\n",
      "llama_print_timings:        load time =   14220.44 ms\n",
      "llama_print_timings:      sample time =       4.90 ms /    16 runs   (    0.31 ms per token,  3263.97 tokens per second)\n",
      "llama_print_timings: prompt eval time =    2277.33 ms /    19 tokens (  119.86 ms per token,     8.34 tokens per second)\n",
      "llama_print_timings:        eval time =    2332.75 ms /    15 runs   (  155.52 ms per token,     6.43 tokens per second)\n",
      "llama_print_timings:       total time =    4669.72 ms\n",
      "Llama.generate: prefix-match hit\n",
      "\n",
      "llama_print_timings:        load time =   14220.44 ms\n",
      "llama_print_timings:      sample time =       5.01 ms /    17 runs   (    0.29 ms per token,  3395.25 tokens per second)\n",
      "llama_print_timings: prompt eval time =    3318.91 ms /    24 tokens (  138.29 ms per token,     7.23 tokens per second)\n",
      "llama_print_timings:        eval time =    2826.47 ms /    17 runs   (  166.26 ms per token,     6.01 tokens per second)\n",
      "llama_print_timings:       total time =    6214.59 ms\n",
      "Llama.generate: prefix-match hit\n"
     ]
    },
    {
     "name": "stdout",
     "output_type": "stream",
     "text": [
      "Question: What language style is used in the following Statement: The following section will show how the model is validated by the findings.\n",
      "Expected Answer: Academic\n",
      "Model Answer: The language style of the given statement is Technical or Academic Writing.\n",
      "ROUGE Scores: [{'rouge-1': {'r': 0.08333333333333333, 'p': 1.0, 'f': 0.15384615242603553}, 'rouge-2': {'r': 0.0, 'p': 0.0, 'f': 0.0}, 'rouge-l': {'r': 0.08333333333333333, 'p': 1.0, 'f': 0.15384615242603553}}]\n",
      "------------\n",
      "Question: What language style is used in the following Statement: As Halliday(1973) shows, language is intrinsically social.\n",
      "Expected Answer: Academic\n",
      "Model Answer: The language style used in the statement is: Formal Academic\n",
      "ROUGE Scores: [{'rouge-1': {'r': 0.1, 'p': 1.0, 'f': 0.18181818016528928}, 'rouge-2': {'r': 0.0, 'p': 0.0, 'f': 0.0}, 'rouge-l': {'r': 0.1, 'p': 1.0, 'f': 0.18181818016528928}}]\n",
      "------------\n"
     ]
    },
    {
     "name": "stderr",
     "output_type": "stream",
     "text": [
      "\n",
      "llama_print_timings:        load time =   14220.44 ms\n",
      "llama_print_timings:      sample time =       4.92 ms /    15 runs   (    0.33 ms per token,  3045.69 tokens per second)\n",
      "llama_print_timings: prompt eval time =    3399.34 ms /    27 tokens (  125.90 ms per token,     7.94 tokens per second)\n",
      "llama_print_timings:        eval time =    3101.76 ms /    14 runs   (  221.55 ms per token,     4.51 tokens per second)\n",
      "llama_print_timings:       total time =    6571.53 ms\n",
      "Llama.generate: prefix-match hit\n"
     ]
    },
    {
     "name": "stdout",
     "output_type": "stream",
     "text": [
      "Question: What language style is used in the following Statement: Many researchers have utilised X to measure Y.\n",
      "Expected Answer: Academic\n",
      "Model Answer: The language style used in the statement is Academic or Technical Writing.\n",
      "ROUGE Scores: [{'rouge-1': {'r': 0.08333333333333333, 'p': 1.0, 'f': 0.15384615242603553}, 'rouge-2': {'r': 0.0, 'p': 0.0, 'f': 0.0}, 'rouge-l': {'r': 0.08333333333333333, 'p': 1.0, 'f': 0.15384615242603553}}]\n",
      "------------\n"
     ]
    },
    {
     "name": "stderr",
     "output_type": "stream",
     "text": [
      "\n",
      "llama_print_timings:        load time =   14220.44 ms\n",
      "llama_print_timings:      sample time =       5.23 ms /    17 runs   (    0.31 ms per token,  3249.86 tokens per second)\n",
      "llama_print_timings: prompt eval time =    3466.78 ms /    20 tokens (  173.34 ms per token,     5.77 tokens per second)\n",
      "llama_print_timings:        eval time =    2714.58 ms /    16 runs   (  169.66 ms per token,     5.89 tokens per second)\n",
      "llama_print_timings:       total time =    6248.84 ms\n",
      "Llama.generate: prefix-match hit\n",
      "\n",
      "llama_print_timings:        load time =   14220.44 ms\n",
      "llama_print_timings:      sample time =       4.84 ms /    16 runs   (    0.30 ms per token,  3305.79 tokens per second)\n",
      "llama_print_timings: prompt eval time =    2433.72 ms /    18 tokens (  135.21 ms per token,     7.40 tokens per second)\n",
      "llama_print_timings:        eval time =    3315.52 ms /    15 runs   (  221.03 ms per token,     4.52 tokens per second)\n",
      "llama_print_timings:       total time =    5819.51 ms\n",
      "Llama.generate: prefix-match hit\n"
     ]
    },
    {
     "name": "stdout",
     "output_type": "stream",
     "text": [
      "Question: What language style is used in the following Statement: A number of techniques have been developed to...\n",
      "Expected Answer: Academic\n",
      "Model Answer: The language style used in the statement is Technical or Academic.\n",
      "ROUGE Scores: [{'rouge-1': {'r': 0.09090909090909091, 'p': 1.0, 'f': 0.16666666513888892}, 'rouge-2': {'r': 0.0, 'p': 0.0, 'f': 0.0}, 'rouge-l': {'r': 0.09090909090909091, 'p': 1.0, 'f': 0.16666666513888892}}]\n",
      "------------\n"
     ]
    },
    {
     "name": "stderr",
     "output_type": "stream",
     "text": [
      "\n",
      "llama_print_timings:        load time =   14220.44 ms\n",
      "llama_print_timings:      sample time =       5.50 ms /    17 runs   (    0.32 ms per token,  3091.47 tokens per second)\n",
      "llama_print_timings: prompt eval time =    2459.87 ms /    21 tokens (  117.14 ms per token,     8.54 tokens per second)\n",
      "llama_print_timings:        eval time =    3092.97 ms /    16 runs   (  193.31 ms per token,     5.17 tokens per second)\n",
      "llama_print_timings:       total time =    5625.78 ms\n",
      "Llama.generate: prefix-match hit\n"
     ]
    },
    {
     "name": "stdout",
     "output_type": "stream",
     "text": [
      "Question: What language style is used in the following Statement: Different authors have measured X in a variety of ways.\n",
      "Expected Answer: Academic\n",
      "Model Answer: The language style in the given statement is Academic or Technical Writing.\n",
      "ROUGE Scores: [{'rouge-1': {'r': 0.08333333333333333, 'p': 1.0, 'f': 0.15384615242603553}, 'rouge-2': {'r': 0.0, 'p': 0.0, 'f': 0.0}, 'rouge-l': {'r': 0.08333333333333333, 'p': 1.0, 'f': 0.15384615242603553}}]\n",
      "------------\n",
      "Question: What language style is used in the following Statement: Several methods currently exist for the measurement of X.\n",
      "Expected Answer: Academic\n",
      "Model Answer: The language style in the given statement is Technical or Scientific.\n",
      "ROUGE Scores: [{'rouge-1': {'r': 0.0, 'p': 0.0, 'f': 0.0}, 'rouge-2': {'r': 0.0, 'p': 0.0, 'f': 0.0}, 'rouge-l': {'r': 0.0, 'p': 0.0, 'f': 0.0}}]\n",
      "------------\n"
     ]
    },
    {
     "name": "stderr",
     "output_type": "stream",
     "text": [
      "\n",
      "llama_print_timings:        load time =   14220.44 ms\n",
      "llama_print_timings:      sample time =       5.34 ms /    16 runs   (    0.33 ms per token,  2998.50 tokens per second)\n",
      "llama_print_timings: prompt eval time =    3333.43 ms /    19 tokens (  175.44 ms per token,     5.70 tokens per second)\n",
      "llama_print_timings:        eval time =    3438.55 ms /    15 runs   (  229.24 ms per token,     4.36 tokens per second)\n",
      "llama_print_timings:       total time =    6843.86 ms\n",
      "Llama.generate: prefix-match hit\n"
     ]
    },
    {
     "name": "stdout",
     "output_type": "stream",
     "text": [
      "Question: What language style is used in the following Statement: There are three main types of study design used to identify X.\n",
      "Expected Answer: Academic\n",
      "Model Answer: The language style used in the statement is Technical or Academic Writing.\n",
      "ROUGE Scores: [{'rouge-1': {'r': 0.08333333333333333, 'p': 1.0, 'f': 0.15384615242603553}, 'rouge-2': {'r': 0.0, 'p': 0.0, 'f': 0.0}, 'rouge-l': {'r': 0.08333333333333333, 'p': 1.0, 'f': 0.15384615242603553}}]\n",
      "------------\n"
     ]
    },
    {
     "name": "stderr",
     "output_type": "stream",
     "text": [
      "\n",
      "llama_print_timings:        load time =   14220.44 ms\n",
      "llama_print_timings:      sample time =       5.39 ms /    17 runs   (    0.32 ms per token,  3152.23 tokens per second)\n",
      "llama_print_timings: prompt eval time =    3656.61 ms /    22 tokens (  166.21 ms per token,     6.02 tokens per second)\n",
      "llama_print_timings:        eval time =    3404.37 ms /    16 runs   (  212.77 ms per token,     4.70 tokens per second)\n",
      "llama_print_timings:       total time =    7136.02 ms\n",
      "Llama.generate: prefix-match hit\n"
     ]
    },
    {
     "name": "stdout",
     "output_type": "stream",
     "text": [
      "Question: What language style is used in the following Statement: In most recent studies, X has been measured in four different ways.\n",
      "Expected Answer: Academic\n",
      "Model Answer: The language style in the statement is Academic or Technical Writing.\n",
      "ROUGE Scores: [{'rouge-1': {'r': 0.09090909090909091, 'p': 1.0, 'f': 0.16666666513888892}, 'rouge-2': {'r': 0.0, 'p': 0.0, 'f': 0.0}, 'rouge-l': {'r': 0.09090909090909091, 'p': 1.0, 'f': 0.16666666513888892}}]\n",
      "------------\n"
     ]
    },
    {
     "name": "stderr",
     "output_type": "stream",
     "text": [
      "\n",
      "llama_print_timings:        load time =   14220.44 ms\n",
      "llama_print_timings:      sample time =       5.36 ms /    16 runs   (    0.34 ms per token,  2983.40 tokens per second)\n",
      "llama_print_timings: prompt eval time =    4022.57 ms /    23 tokens (  174.89 ms per token,     5.72 tokens per second)\n",
      "llama_print_timings:        eval time =    2975.38 ms /    15 runs   (  198.36 ms per token,     5.04 tokens per second)\n",
      "llama_print_timings:       total time =    7067.32 ms\n",
      "Llama.generate: prefix-match hit\n"
     ]
    },
    {
     "name": "stdout",
     "output_type": "stream",
     "text": [
      "Question: What language style is used in the following Statement: In recent years, two different approaches have attempted to account for X.\n",
      "Expected Answer: Academic\n",
      "Model Answer: The language style in the given statement is Academic or Technical Writing.\n",
      "ROUGE Scores: [{'rouge-1': {'r': 0.08333333333333333, 'p': 1.0, 'f': 0.15384615242603553}, 'rouge-2': {'r': 0.0, 'p': 0.0, 'f': 0.0}, 'rouge-l': {'r': 0.08333333333333333, 'p': 1.0, 'f': 0.15384615242603553}}]\n",
      "------------\n"
     ]
    },
    {
     "name": "stderr",
     "output_type": "stream",
     "text": [
      "\n",
      "llama_print_timings:        load time =   14220.44 ms\n",
      "llama_print_timings:      sample time =       4.90 ms /    17 runs   (    0.29 ms per token,  3467.26 tokens per second)\n",
      "llama_print_timings: prompt eval time =    2841.92 ms /    22 tokens (  129.18 ms per token,     7.74 tokens per second)\n",
      "llama_print_timings:        eval time =    2484.30 ms /    16 runs   (  155.27 ms per token,     6.44 tokens per second)\n",
      "llama_print_timings:       total time =    5389.92 ms\n",
      "Llama.generate: prefix-match hit\n",
      "\n",
      "llama_print_timings:        load time =   14220.44 ms\n",
      "llama_print_timings:      sample time =       4.13 ms /    14 runs   (    0.29 ms per token,  3392.29 tokens per second)\n",
      "llama_print_timings: prompt eval time =    3240.39 ms /    28 tokens (  115.73 ms per token,     8.64 tokens per second)\n",
      "llama_print_timings:        eval time =    2045.28 ms /    13 runs   (  157.33 ms per token,     6.36 tokens per second)\n",
      "llama_print_timings:       total time =    5365.35 ms\n",
      "Llama.generate: prefix-match hit\n"
     ]
    },
    {
     "name": "stdout",
     "output_type": "stream",
     "text": [
      "Question: What language style is used in the following Statement: A variety of methods are used to assess X. Each has its advantages and drawbacks.\n",
      "Expected Answer: Academic\n",
      "Model Answer: The language style used in the statement is Technical Writing.\n",
      "ROUGE Scores: [{'rouge-1': {'r': 0.0, 'p': 0.0, 'f': 0.0}, 'rouge-2': {'r': 0.0, 'p': 0.0, 'f': 0.0}, 'rouge-l': {'r': 0.0, 'p': 0.0, 'f': 0.0}}]\n",
      "------------\n",
      "Question: What language style is used in the following Statement: Two of the most common methods for estimating X are the use of Y and the measurement of Z.\n",
      "Expected Answer: Academic\n",
      "Model Answer: The language style used in the statement is Technical or Formal.\n",
      "ROUGE Scores: [{'rouge-1': {'r': 0.0, 'p': 0.0, 'f': 0.0}, 'rouge-2': {'r': 0.0, 'p': 0.0, 'f': 0.0}, 'rouge-l': {'r': 0.0, 'p': 0.0, 'f': 0.0}}]\n",
      "------------\n",
      "Questions total: 70\n",
      "Average Recall (ROUGE-1): 0.112\n",
      "Average Precision (ROUGE-1): 0.843\n",
      "Average F1-score (ROUGE-1): 0.177\n",
      "Average Recall (ROUGE-2): 0.0\n",
      "Average Precision (ROUGE-2): 0.0\n",
      "Average F1-score (ROUGE-2): 0.0\n",
      "Average Recall (ROUGE-L): 0.112\n",
      "Average Precision (ROUGE-L): 0.843\n",
      "Average F1-score (ROUGE-L): 0.177\n"
     ]
    },
    {
     "name": "stderr",
     "output_type": "stream",
     "text": [
      "\n",
      "llama_print_timings:        load time =   14220.44 ms\n",
      "llama_print_timings:      sample time =       4.85 ms /    16 runs   (    0.30 ms per token,  3301.69 tokens per second)\n",
      "llama_print_timings: prompt eval time =    3541.09 ms /    30 tokens (  118.04 ms per token,     8.47 tokens per second)\n",
      "llama_print_timings:        eval time =    2309.83 ms /    15 runs   (  153.99 ms per token,     6.49 tokens per second)\n",
      "llama_print_timings:       total time =    5915.27 ms\n"
     ]
    }
   ],
   "source": [
    "#ROUGE WITHOUT extraction of language style\n",
    "def evaluate_model_rouge_(model, questions):\n",
    "    try:\n",
    "        total_questions = len(questions)\n",
    "        model_answers = []\n",
    "        rouge_scores_list_r1 = []\n",
    "        rouge_scores_list_r2 = []\n",
    "        rouge_scores_list_rl= []\n",
    "        rouge_scores = {\"rouge\": {\"recall\": 0, \"precision\": 0, \"f1-score\": 0}} \n",
    "\n",
    "        for question, expected_answer in questions_rouge.items():\n",
    "            prompt = f\"{question}\\nAnswer Options:\\n\"\n",
    "            prompt = get_prompt(prompt)\n",
    "            model_answer = model(prompt)\n",
    "\n",
    "            #remove leading & trailing spaces, extract language style from model_answer if answer is unnecessarily long\n",
    "            model_answer = model_answer.strip()\n",
    "            expected_answer = expected_answer.strip()\n",
    "\n",
    "            #model_answer = extract_language_style(model_answer)\n",
    "\n",
    "            # Get Rouge Score - Rouge() hat rouge-1, rouge-2 and rouge-l as option \n",
    "            rouge = Rouge()\n",
    "            scores = rouge.get_scores(expected_answer, model_answer) \n",
    "\n",
    "            #save rouge-1, rouge-2 and rouge-l values for each question in list\n",
    "            scores_list_r1 = rouge.get_scores(expected_answer, model_answer)[0]\n",
    "            rouge_scores_list_r1.append({\n",
    "                \"r\": scores_list_r1.get('rouge-1', {}).get('r', 0),\n",
    "                \"p\": scores_list_r1.get('rouge-1', {}).get('p', 0),\n",
    "                \"f\": scores_list_r1.get('rouge-1', {}).get('f', 0),\n",
    "            })\n",
    "            scores_list_r2 = rouge.get_scores(expected_answer, model_answer)[0]\n",
    "            rouge_scores_list_r2.append({\n",
    "                \"r\": scores_list_r2.get('rouge-2', {}).get('r', 0),\n",
    "                \"p\": scores_list_r2.get('rouge-2', {}).get('p', 0),\n",
    "                \"f\": scores_list_r2.get('rouge-2', {}).get('f', 0),\n",
    "            })\n",
    "            scores_list_rl = rouge.get_scores(expected_answer, model_answer)[0]\n",
    "            rouge_scores_list_rl.append({\n",
    "                \"r\": scores_list_rl.get('rouge-l', {}).get('r', 0),\n",
    "                \"p\": scores_list_rl.get('rouge-l', {}).get('p', 0),\n",
    "                \"f\": scores_list_rl.get('rouge-l', {}).get('f', 0),\n",
    "            })\n",
    "            \n",
    "            # Print the results for each question\n",
    "            print(f\"Question: {question}\")\n",
    "            print(f\"Expected Answer: {expected_answer}\")\n",
    "            print(f\"Model Answer: {model_answer}\")\n",
    "            print(f\"ROUGE Scores: {scores}\")\n",
    "            print(\"------------\")\n",
    "\n",
    "            # Store the model's answer and the corresponding question in the array\n",
    "            model_answers.append({\n",
    "                \"question\": question,\n",
    "                \"expected_answer\": expected_answer,\n",
    "                \"model_answer\": model_answer,\n",
    "            })\n",
    "\n",
    "        # Calculate the average 'r', 'p', and 'f' values for rouge-1, rouge-2 and rouge-l\n",
    "        average_r_r1 = round(sum(entry[\"r\"] for entry in rouge_scores_list_r1) / total_questions,3) \n",
    "        average_p_r1 = round(sum(entry[\"p\"] for entry in rouge_scores_list_r1) / total_questions,3)\n",
    "        average_f_r1 = round(sum(entry[\"f\"] for entry in rouge_scores_list_r1) / total_questions,3)\n",
    "\n",
    "        average_r_r2 = round(sum(entry[\"r\"] for entry in rouge_scores_list_r2) / total_questions,3) \n",
    "        average_p_r2 = round(sum(entry[\"p\"] for entry in rouge_scores_list_r2) / total_questions,3)\n",
    "        average_f_r2 = round(sum(entry[\"f\"] for entry in rouge_scores_list_r2) / total_questions,3)\n",
    "        \n",
    "        average_r_rl = round(sum(entry[\"r\"] for entry in rouge_scores_list_rl) / total_questions,3) \n",
    "        average_p_rl = round(sum(entry[\"p\"] for entry in rouge_scores_list_rl) / total_questions,3)\n",
    "        average_f_rl = round(sum(entry[\"f\"] for entry in rouge_scores_list_rl) / total_questions,3)\n",
    "\n",
    "        print(f\"Questions total: {total_questions}\")\n",
    "        print(f\"Average Recall (ROUGE-1): {average_r_r1}\")\n",
    "        print(f\"Average Precision (ROUGE-1): {average_p_r1}\")\n",
    "        print(f\"Average F1-score (ROUGE-1): {average_f_r1}\")\n",
    "        print(f\"Average Recall (ROUGE-2): {average_r_r2}\")\n",
    "        print(f\"Average Precision (ROUGE-2): {average_p_r2}\")\n",
    "        print(f\"Average F1-score (ROUGE-2): {average_f_r2}\")\n",
    "        print(f\"Average Recall (ROUGE-L): {average_r_rl}\")\n",
    "        print(f\"Average Precision (ROUGE-L): {average_p_rl}\")\n",
    "        print(f\"Average F1-score (ROUGE-L): {average_f_rl}\")\n",
    "\n",
    "        return model_answers, rouge_scores\n",
    "\n",
    "    except Exception as e:\n",
    "        print(f\"An error occurred: {e}\")\n",
    "        return None, None\n",
    "    \n",
    "#run method\n",
    "model_answers, rouge_scores = evaluate_model_rouge_(llm, questions_rouge)\n",
    "\n"
   ]
  },
  {
   "cell_type": "code",
   "execution_count": null,
   "metadata": {},
   "outputs": [],
   "source": [
    "##multiple sentences\n",
    "import json\n",
    "\n",
    "# Load some sentences\n",
    "with open('./tests/data.json') as f:\n",
    "  data = json.load(f)\n",
    "\n",
    "hyps, refs = map(list, zip(*[[d['hyp'], d['ref']] for d in data]))\n",
    "rouge = Rouge()\n",
    "scores = rouge.get_scores(hyps, refs)\n",
    "# or\n",
    "scores = rouge.get_scores(hyps, refs, avg=True)\n",
    "\n",
    "\n",
    "##two files\n",
    "from rouge import FilesRouge\n",
    "\n",
    "files_rouge = FilesRouge()\n",
    "scores = files_rouge.get_scores(hyp_path, ref_path)\n",
    "# or\n",
    "scores = files_rouge.get_scores(hyp_path, ref_path, avg=True)"
   ]
  },
  {
   "cell_type": "markdown",
   "metadata": {},
   "source": [
    "### Correctness Evaluation"
   ]
  },
  {
   "cell_type": "code",
   "execution_count": null,
   "metadata": {},
   "outputs": [],
   "source": [
    "#%pip install bitsandbytes\n",
    "#%pip install datasets"
   ]
  },
  {
   "cell_type": "markdown",
   "metadata": {},
   "source": [
    "### Performance Evaluation - Perplexity: measure that quantifies how well the model predicts a sample of text. Lower perplexity values indicate better performance "
   ]
  },
  {
   "cell_type": "code",
   "execution_count": null,
   "metadata": {},
   "outputs": [],
   "source": [
    "import torch\n",
    "from transformers import AutoModelForCausalLM, LlamaTokenizer\n",
    "import bitsandbytes as bnb\n",
    "\n",
    "model_name = '/kaggle/input/llama-2/pytorch/7b-chat-hf/1'\n",
    "\n",
    "tokenizer = LlamaTokenizer.from_pretrained(model_name)\n",
    "\n",
    "free_in_GB = int(torch.cuda.mem_get_info()[0]/1024**3)\n",
    "max_memory = f'{int(torch.cuda.mem_get_info()[0]/1024**3)-2}GB'\n",
    "\n",
    "n_gpus = torch.cuda.device_count()\n",
    "max_memory = {i: max_memory for i in range(n_gpus)}\n",
    "\n",
    "model = AutoModelForCausalLM.from_pretrained(\n",
    "  model_name,\n",
    "  device_map='auto',\n",
    "  load_in_4bit=True,\n",
    "  max_memory=max_memory,\n",
    "  do_sample=True,\n",
    "  torch_dtype=\"auto\"\n",
    ")\n",
    "\n",
    "from datasets import load_dataset\n",
    "\n",
    "test = load_dataset(\"wikitext\", \"wikitext-2-raw-v1\", split=\"test\")\n",
    "encodings = tokenizer(\"\\n\\n\".join(test[\"text\"]), return_tensors=\"pt\")\n",
    "\n",
    "\n",
    "import torch\n",
    "from tqdm import tqdm\n",
    "\n",
    "max_length = model.config.max_length\n",
    "stride = 512\n",
    "seq_len = encodings.input_ids.size(1)\n",
    "device = \"cuda\"\n",
    "\n",
    "nlls = []\n",
    "prev_end_loc = 0\n",
    "for begin_loc in tqdm(range(0, seq_len, stride)):\n",
    "    end_loc = min(begin_loc + max_length, seq_len)\n",
    "    trg_len = end_loc - prev_end_loc  # may be different from stride on last loop\n",
    "    input_ids = encodings.input_ids[:, begin_loc:end_loc].to(device)\n",
    "    target_ids = input_ids.clone()\n",
    "    target_ids[:, :-trg_len] = -100\n",
    "\n",
    "    with torch.no_grad():\n",
    "        outputs = model(input_ids, labels=target_ids)\n",
    "\n",
    "        # loss is calculated using CrossEntropyLoss which averages over valid labels\n",
    "        # N.B. the model only calculates loss over trg_len - 1 labels, because it internally shifts the labels\n",
    "        # to the left by 1.\n",
    "        neg_log_likelihood = outputs.loss\n",
    "\n",
    "    nlls.append(neg_log_likelihood)\n",
    "\n",
    "    prev_end_loc = end_loc\n",
    "    if end_loc == seq_len:\n",
    "        break\n",
    "\n",
    "ppl = torch.exp(torch.stack(nlls).mean())"
   ]
  },
  {
   "cell_type": "code",
   "execution_count": null,
   "metadata": {},
   "outputs": [],
   "source": [
    "##check Langchains QAEvalChain\n",
    "#https://github.com/langchain-ai/langchain/blob/a6b39afe0e34621fafac885af05bbbb445ea5ac0/langchain/evaluation/qa/eval_chain.py#L42C1-L42C1"
   ]
  }
 ],
 "metadata": {
  "kernelspec": {
   "display_name": "Python 3",
   "language": "python",
   "name": "python3"
  },
  "language_info": {
   "codemirror_mode": {
    "name": "ipython",
    "version": 3
   },
   "file_extension": ".py",
   "mimetype": "text/x-python",
   "name": "python",
   "nbconvert_exporter": "python",
   "pygments_lexer": "ipython3",
   "version": "3.8.9"
  }
 },
 "nbformat": 4,
 "nbformat_minor": 2
}
