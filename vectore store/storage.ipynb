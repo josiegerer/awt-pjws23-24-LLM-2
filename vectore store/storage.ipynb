{
 "cells": [
  {
   "cell_type": "markdown",
   "metadata": {},
   "source": [
    "**Vector Store Creation**"
   ]
  },
  {
   "cell_type": "markdown",
   "metadata": {},
   "source": [
    "Sources:\n",
    "[Article](https://towardsdatascience.com/running-llama-2-on-cpu-inference-for-document-q-a-3d636037a3d8)\n",
    "\n",
    "Embedding Models\n",
    "- https://huggingface.co/sentence-transformers/all-mpnet-base-v2\n",
    "- https://huggingface.co/sentence-transformers/all-MiniLM-L6-v2\n",
    "- https://huggingface.co/sentence-transformers/all-MiniLM-L12-v2"
   ]
  },
  {
   "cell_type": "code",
   "execution_count": 50,
   "metadata": {},
   "outputs": [],
   "source": [
    "# pip install langchain"
   ]
  },
  {
   "cell_type": "code",
   "execution_count": 51,
   "metadata": {},
   "outputs": [],
   "source": [
    "# pip install -U sentence-transformers"
   ]
  },
  {
   "cell_type": "code",
   "execution_count": 52,
   "metadata": {},
   "outputs": [],
   "source": [
    "# pip install faiss-cpu"
   ]
  },
  {
   "cell_type": "code",
   "execution_count": 40,
   "metadata": {},
   "outputs": [],
   "source": [
    "from langchain.document_loaders import TextLoader\n",
    "from langchain.text_splitter import RecursiveCharacterTextSplitter\n",
    "from langchain.embeddings import HuggingFaceEmbeddings\n",
    "from langchain.text_splitter import CharacterTextSplitter\n",
    "from sentence_transformers import SentenceTransformer\n",
    "from langchain.embeddings.sentence_transformer import SentenceTransformerEmbeddings\n",
    "from langchain.vectorstores import FAISS\n",
    "# implement pdf reader"
   ]
  },
  {
   "cell_type": "code",
   "execution_count": 41,
   "metadata": {},
   "outputs": [],
   "source": [
    "# Document loader\n",
    "loader = TextLoader(\"./index.txt\")\n",
    "documents = loader.load()\n",
    "\n",
    "with open(\"./index.txt\") as f:\n",
    "    document = f.read()"
   ]
  },
  {
   "cell_type": "code",
   "execution_count": 42,
   "metadata": {},
   "outputs": [],
   "source": [
    "# normal text splitter\n",
    "raw_documents = TextLoader(\"./index.txt\").load()\n",
    "text_splitter = CharacterTextSplitter(chunk_size=1000, chunk_overlap=200)\n",
    "documents = text_splitter.split_documents(raw_documents)"
   ]
  },
  {
   "cell_type": "code",
   "execution_count": 43,
   "metadata": {},
   "outputs": [],
   "source": [
    "# Recursive text splitter\n",
    "text_splitter = RecursiveCharacterTextSplitter(\n",
    "    chunk_size = 100,\n",
    "    chunk_overlap  = 20,\n",
    "    length_function = len,\n",
    "    add_start_index = True,\n",
    ")"
   ]
  },
  {
   "cell_type": "code",
   "execution_count": 44,
   "metadata": {},
   "outputs": [
    {
     "data": {
      "text/plain": [
       "array([ 4.83289771e-02, -2.01611388e-02, -5.30856848e-03,  5.28400019e-02,\n",
       "       -1.64846331e-02,  7.25407340e-03,  2.25058943e-02, -2.40082201e-03,\n",
       "       -8.50349013e-03, -4.31198291e-02, -3.02977078e-02, -3.46429297e-03,\n",
       "       -6.80350419e-03, -9.49670374e-03,  9.43802483e-03, -6.88499287e-02,\n",
       "       -1.15030119e-02,  3.47664356e-02, -2.86825616e-02,  1.21780327e-02,\n",
       "       -3.99885438e-02,  1.22031067e-02,  1.25159891e-02,  3.29637416e-02,\n",
       "        1.01777092e-02,  2.22062171e-02,  1.28913112e-02, -4.25408371e-02,\n",
       "        3.37343514e-02, -3.13007981e-02,  3.05750500e-02, -1.59124248e-02,\n",
       "       -1.86160617e-02, -4.24510613e-02,  2.55800137e-06,  1.28189358e-03,\n",
       "        4.13663685e-02,  2.86239176e-03, -4.05550748e-03, -2.74214447e-02,\n",
       "       -7.99732283e-03, -2.12476086e-02, -2.52030063e-02, -3.24685387e-02,\n",
       "        5.75719448e-03, -3.43444720e-02, -7.55962124e-03,  6.00731596e-02,\n",
       "        1.96932405e-02, -2.76556723e-02,  2.11346429e-02,  1.25716003e-02,\n",
       "        1.30774304e-02,  1.07307534e-03, -1.67084187e-02, -1.46317473e-02,\n",
       "       -1.55411260e-02,  1.58987418e-02, -2.81475056e-02,  3.68609689e-02,\n",
       "       -1.65503249e-02, -4.29749414e-02,  1.11787943e-02, -3.34896818e-02,\n",
       "       -2.72661517e-03, -4.73168902e-02, -3.96410339e-02, -7.23795816e-02,\n",
       "        4.29136269e-02, -2.24788114e-02,  1.85500309e-02,  1.78702772e-02,\n",
       "       -5.74254729e-02,  6.17710538e-02, -1.52030401e-02,  1.61100943e-02,\n",
       "        2.57455986e-02,  4.21113744e-02, -1.82959493e-02,  5.36531769e-03,\n",
       "        8.02378058e-02,  5.47743496e-03, -2.59304233e-02,  2.41641216e-02,\n",
       "        2.28572860e-02,  1.86438560e-02,  2.32792757e-02,  1.09579433e-02,\n",
       "        1.87830199e-02, -4.77761589e-02, -1.84593275e-02, -8.74243826e-02,\n",
       "       -3.38705792e-03,  8.21517408e-02, -5.11842482e-02,  9.58309788e-03,\n",
       "        5.66833019e-02,  9.62296035e-03,  7.42429448e-03,  4.05718535e-02,\n",
       "        2.07828395e-02,  2.50326134e-02, -6.71555623e-02,  3.97500210e-02,\n",
       "       -4.83504049e-02,  7.96549022e-02,  1.17331110e-02, -4.86232005e-02,\n",
       "        4.03872766e-02, -5.55493422e-02,  2.07842942e-02, -2.99681388e-02,\n",
       "       -1.15139782e-02, -8.34262818e-02, -4.51885071e-03,  7.99718779e-03,\n",
       "        2.99594738e-02, -1.47283142e-02, -2.53471509e-02,  4.98507880e-02,\n",
       "       -1.01201264e-02,  1.80416915e-03,  3.02374009e-02,  9.54413787e-03,\n",
       "        9.67073895e-04,  3.88946803e-03, -6.79530650e-02, -9.31483577e-04,\n",
       "       -4.49346006e-02,  6.19898876e-03,  2.28528474e-02,  3.49854049e-03,\n",
       "       -5.55220284e-02, -2.01191865e-02,  6.01130212e-03, -3.90143767e-02,\n",
       "        1.06079094e-02,  3.97722889e-03, -1.67620443e-02, -1.61752012e-02,\n",
       "       -2.39781896e-03, -2.20390894e-02,  1.85346734e-02,  2.40288768e-03,\n",
       "       -1.25742061e-02,  2.41097193e-02,  1.74134281e-02, -6.18375838e-04,\n",
       "       -8.79650470e-03, -3.42239328e-02, -4.10946943e-02, -3.38352174e-02,\n",
       "       -3.60284038e-02, -1.46728219e-03,  1.57448195e-03,  7.72765577e-02,\n",
       "       -3.46904956e-02,  1.52487317e-02, -3.65272090e-02,  2.85428353e-02,\n",
       "        2.25985367e-02, -9.20799747e-03,  2.86426619e-02, -3.63078862e-02,\n",
       "       -3.09083685e-02,  2.10146196e-02, -2.57644299e-02,  2.10549310e-02,\n",
       "       -7.13333767e-03, -6.04652651e-02,  6.64100125e-02,  2.04439275e-02,\n",
       "       -4.83295042e-03, -3.38003784e-02, -6.19799905e-02,  3.70709896e-02,\n",
       "        3.74013092e-03,  4.91972826e-02,  2.30315179e-02, -1.06867803e-02,\n",
       "       -9.79632605e-04,  7.11013097e-03,  2.99263652e-02, -3.30291539e-02,\n",
       "        3.33384760e-02, -7.07013067e-04,  1.06196217e-02,  6.04433045e-02,\n",
       "        2.61837430e-02,  2.06012186e-02,  3.55726406e-02, -8.39469768e-03,\n",
       "        6.52414747e-03,  1.83638688e-02,  1.79563882e-03,  2.49341782e-02,\n",
       "        3.38755548e-02, -1.74905881e-02,  1.84138082e-02, -8.07691459e-03,\n",
       "        1.84713327e-03,  6.14063144e-02,  3.01439874e-02,  4.36125211e-02,\n",
       "       -2.52709184e-02,  2.85015982e-02,  3.24373282e-02,  3.87818664e-02,\n",
       "       -1.55994650e-02,  3.22775953e-02, -3.28405853e-03, -1.79042388e-03,\n",
       "       -7.84973614e-03, -3.10241450e-02,  1.10453619e-02, -4.90785502e-02,\n",
       "       -7.56103778e-04,  3.45728770e-02, -3.42855267e-02,  4.71108034e-02,\n",
       "        1.98636223e-02,  3.76566835e-02,  7.33475387e-03, -1.08146127e-02,\n",
       "        1.01230256e-02,  3.02718375e-02, -4.01580036e-02, -3.51125039e-02,\n",
       "        1.25589119e-02,  1.55374408e-02, -3.82225476e-02,  2.33641937e-02,\n",
       "       -4.05260623e-02, -8.67940392e-03, -3.30597609e-02,  7.10344082e-03,\n",
       "        6.68425336e-02,  1.44225666e-02, -2.94481050e-02, -4.41796072e-02,\n",
       "        1.66599415e-02,  1.05771497e-02,  2.10674554e-02,  3.64526324e-02,\n",
       "        6.16300628e-02,  3.62492800e-02,  5.26895151e-02,  2.47972421e-02,\n",
       "       -1.59902126e-02, -6.14227587e-03, -4.74831387e-02, -8.81416781e-04,\n",
       "       -3.36423554e-02, -1.06075518e-02,  1.01052755e-02, -3.00135072e-02,\n",
       "       -1.49119217e-02,  8.25993344e-03,  4.25840318e-02, -1.67230163e-02,\n",
       "        2.13367436e-02, -4.31405604e-02, -4.07996625e-02, -3.34574096e-02,\n",
       "       -1.67828836e-02,  1.40170939e-03,  2.03376040e-02, -2.29711123e-02,\n",
       "       -8.66259728e-03, -1.76408440e-02,  1.03506725e-02, -4.58131395e-02,\n",
       "       -1.00934505e-02,  4.47328910e-02,  4.82742190e-02,  3.03440653e-02,\n",
       "        3.90946977e-02,  3.90188321e-02,  5.65198809e-02, -4.09677736e-02,\n",
       "       -7.21022412e-02, -6.96382998e-03,  4.01320867e-04,  1.69896726e-02,\n",
       "        8.97062384e-03,  7.94609915e-03, -5.96188530e-02, -6.20032474e-03,\n",
       "       -1.51047986e-02,  1.01550063e-03, -1.20671853e-01,  2.18244828e-03,\n",
       "       -7.23962486e-02, -1.16086733e-02,  1.29190367e-02,  3.90746109e-02,\n",
       "        1.11219138e-02,  1.24545600e-02,  2.35467274e-02,  5.14008105e-02,\n",
       "        1.29983658e-02, -5.54708904e-03, -4.53375094e-03,  5.33319544e-03,\n",
       "       -5.00831893e-03,  3.13950293e-02,  2.63636261e-02,  1.45587092e-02,\n",
       "        8.10047984e-03,  4.29726541e-02, -6.88242633e-03, -1.68696772e-02,\n",
       "        1.14339609e-02,  5.88378236e-02, -3.14003602e-02,  6.79554651e-04,\n",
       "       -1.16365366e-02, -1.16973899e-01,  1.42967794e-02,  3.83713543e-02,\n",
       "       -1.95714142e-02,  2.97208205e-02, -6.75401390e-02,  2.35396326e-02,\n",
       "       -2.02588178e-02,  1.68265365e-02, -1.56317130e-02, -1.42838312e-02,\n",
       "        6.34573027e-02,  4.99847392e-03, -1.10047047e-04,  3.53842117e-02,\n",
       "        3.66878472e-02,  2.96541005e-02, -1.80177372e-02, -7.28334188e-02,\n",
       "       -2.48106327e-02, -2.54193023e-02,  3.50805670e-02, -5.30824736e-02,\n",
       "       -6.43178076e-02, -2.79806424e-02, -2.01210920e-02,  4.38144095e-02,\n",
       "       -1.33934394e-02,  3.05488072e-02, -1.73403434e-02, -1.48374084e-02,\n",
       "        5.71840927e-02, -1.51064368e-02, -1.29354950e-02, -4.09113914e-02,\n",
       "       -1.87117439e-02,  3.05758342e-02,  2.63378844e-02,  1.27386563e-02,\n",
       "       -3.06607829e-03,  3.03336419e-02,  3.61403562e-02,  4.97561060e-02,\n",
       "       -5.53394258e-02,  1.50800496e-02, -3.20012309e-02,  1.88370945e-03,\n",
       "        1.15352035e-01,  1.89878314e-03, -1.09901698e-02, -1.37250600e-02,\n",
       "       -1.78253520e-02, -6.19362891e-02,  2.81317160e-02,  1.35434251e-02,\n",
       "       -2.86077671e-02,  3.59402150e-02, -4.39857226e-03,  7.34902965e-03,\n",
       "        4.98538241e-02, -3.17257680e-02,  3.54826055e-03,  1.51326954e-02,\n",
       "        7.28015380e-04,  1.13522196e-02,  1.04424842e-01,  2.37028743e-03,\n",
       "       -5.25081865e-02, -1.77697595e-02, -3.29287946e-02, -3.52430865e-02,\n",
       "       -3.45768668e-02, -2.38787588e-02,  5.20903710e-03, -8.69454909e-03,\n",
       "       -7.78073305e-03, -3.49346665e-03, -4.24156822e-02,  4.74191308e-02,\n",
       "       -2.31351256e-02,  4.44395319e-02,  6.55822381e-02,  7.27373213e-02,\n",
       "       -8.13226681e-04, -1.22861527e-02,  1.32929888e-02, -1.30484588e-02,\n",
       "       -2.46167295e-02,  7.50163896e-03, -6.24480583e-02, -1.04662608e-02,\n",
       "        9.96782212e-04, -2.38023810e-02,  4.16456237e-02, -1.23329297e-01,\n",
       "       -4.54310477e-02, -1.56843718e-02, -2.58455724e-02,  4.08404842e-02,\n",
       "       -3.67973782e-02,  8.41564219e-03, -6.56751394e-02,  1.01895913e-01,\n",
       "       -3.87750869e-03,  4.10843007e-02, -7.86790475e-02, -3.32254320e-02,\n",
       "       -1.43727353e-02, -2.54229549e-02,  5.01683652e-02,  7.37126498e-03,\n",
       "        2.22043763e-03,  7.47466907e-02,  1.58411637e-02,  6.47079200e-02,\n",
       "       -5.99869564e-02,  2.99401507e-02, -8.24050829e-02, -3.41120474e-02,\n",
       "        4.71735410e-02, -8.21688399e-03, -3.27246487e-02, -3.81092392e-02,\n",
       "       -3.68968584e-02, -2.84420024e-03,  7.32445866e-02, -1.28058745e-02,\n",
       "       -4.99712378e-02, -5.60540967e-02, -1.30953239e-02, -2.72063445e-03,\n",
       "        1.95928663e-02,  2.64959577e-02, -8.15575570e-03,  8.21330771e-03,\n",
       "       -2.59674992e-02, -9.05479770e-04, -1.49469674e-02, -4.81768185e-03,\n",
       "       -1.40436351e-01,  3.54950316e-02, -1.78500488e-02,  6.74868524e-02,\n",
       "        5.08047752e-02,  3.42701748e-02, -2.29813270e-02,  2.28105951e-02,\n",
       "       -8.50234937e-04,  2.87382305e-02, -2.16072388e-02,  3.05584036e-02,\n",
       "        8.80840048e-03, -3.59691936e-03,  7.82863051e-03,  1.44879995e-02,\n",
       "       -1.65813649e-03,  4.02640402e-02,  9.12830457e-02,  6.17678054e-02,\n",
       "       -3.75412442e-02,  5.91385737e-02,  5.04362546e-02, -5.57456166e-02,\n",
       "       -4.10685614e-02,  1.39164757e-02, -1.90502852e-02, -7.77731165e-02,\n",
       "        7.81938434e-02, -6.44589737e-02,  5.93528375e-02, -2.29092501e-02,\n",
       "       -2.82765776e-02, -1.40657816e-02, -7.86865223e-03, -2.99208760e-02,\n",
       "        1.05933473e-02,  1.40058091e-02,  5.26907295e-02,  9.30265803e-03,\n",
       "        5.38806841e-02,  2.36719381e-02,  3.38721909e-02,  5.41159790e-03,\n",
       "        3.30012478e-02,  3.43145207e-02, -5.29666804e-02,  4.25722152e-02,\n",
       "        5.77913783e-03,  4.44674818e-03,  1.74005944e-02,  1.60870329e-02,\n",
       "        2.76773144e-02, -2.57442836e-02, -1.62827801e-02,  2.30582561e-02,\n",
       "        3.23845563e-03,  7.32096378e-03,  3.08395624e-02, -3.82221788e-02,\n",
       "       -2.76727062e-02, -2.15579718e-02,  1.28884455e-02, -1.29268051e-03,\n",
       "       -2.25123800e-02, -1.09576285e-02, -9.29198228e-03, -3.71673815e-02,\n",
       "       -7.26082698e-02,  4.88294140e-02,  1.59977600e-02,  2.09757313e-03,\n",
       "        1.96751580e-02, -4.76299599e-02,  1.52621800e-02,  2.58723106e-02,\n",
       "       -6.21132879e-03, -3.30010392e-02, -5.38419327e-03,  1.85184702e-02,\n",
       "       -9.61412396e-03, -6.01585880e-02,  1.58458613e-02, -2.45721694e-02,\n",
       "       -9.96676087e-03, -5.14246821e-02,  2.16223728e-02, -7.42579484e-03,\n",
       "        2.17944529e-04,  5.72969168e-02, -5.98684046e-03, -7.53991231e-02,\n",
       "       -8.54342710e-04,  4.38162908e-02,  1.81217808e-02, -1.06712785e-02,\n",
       "        1.72228075e-03, -1.01479637e-02,  1.13329813e-02, -7.16322674e-33,\n",
       "        2.71672048e-02, -4.78557982e-02,  3.80605869e-02,  1.43518355e-02,\n",
       "       -6.11966923e-02, -1.05549330e-02, -5.05014844e-02,  7.68933842e-06,\n",
       "       -9.45977867e-02, -2.83137932e-02,  5.54987881e-03, -7.14363307e-02,\n",
       "       -2.21246434e-03,  1.67102218e-02,  4.11909148e-02,  4.52846326e-02,\n",
       "       -3.69221419e-02,  3.50161493e-02, -3.95029373e-02,  2.15423964e-02,\n",
       "        2.56857891e-02,  2.34700423e-02,  3.11501436e-02, -1.27764354e-02,\n",
       "        2.18414105e-02,  8.33808444e-03, -2.30272170e-02, -1.91519205e-02,\n",
       "        3.13923024e-02, -5.32038184e-03, -4.43130955e-02, -5.91208860e-02,\n",
       "        6.20348081e-02,  1.70107540e-02,  4.91957627e-02,  2.01340509e-03,\n",
       "        3.18829459e-03, -2.31595356e-02,  2.06684526e-02,  3.85794081e-02,\n",
       "        4.24774028e-02, -1.87742133e-02,  1.46320127e-02,  1.24545852e-02,\n",
       "        1.98553801e-02,  7.44167529e-03, -6.60205781e-02, -6.66075991e-03,\n",
       "       -3.76149416e-02, -6.18773105e-04, -5.97115532e-02, -1.85024496e-02,\n",
       "        2.23743990e-02, -3.74821178e-03, -1.64320820e-03,  2.40812134e-02,\n",
       "        3.23911831e-02, -4.46528159e-02,  2.24093553e-02,  7.76097924e-03,\n",
       "        8.88339430e-02,  1.39001608e-02,  3.21018207e-03,  6.41019717e-02,\n",
       "       -4.32397723e-02, -4.84762900e-02,  9.96679887e-02,  1.59122162e-02,\n",
       "        1.74998045e-02, -6.56287819e-02,  2.04700809e-02, -3.38487513e-02,\n",
       "       -1.40451947e-02,  2.21467540e-02, -2.56321412e-02,  5.69787435e-03,\n",
       "        8.37842673e-02,  3.92908975e-02,  3.61108370e-02, -1.63059738e-02,\n",
       "       -6.78787157e-02,  1.21531766e-02,  4.93409894e-02, -2.69354135e-02,\n",
       "       -1.06351096e-02,  2.74186842e-02,  1.92331821e-02,  7.37205967e-02,\n",
       "        1.08177504e-02, -6.01117918e-03,  7.94522017e-02,  8.99081863e-03,\n",
       "        1.13378828e-02,  1.69528346e-03, -3.20221186e-02, -4.01413068e-02,\n",
       "        4.67580929e-02,  4.00832780e-02,  2.33501568e-02, -5.99183850e-02,\n",
       "        2.20918171e-02,  5.24918549e-02, -7.77423531e-02,  8.67317468e-02,\n",
       "       -1.72854196e-02,  2.92426837e-03,  2.26439480e-02, -5.58798686e-02,\n",
       "       -5.62902056e-02,  1.93706304e-02, -5.24698850e-03, -4.50536199e-02,\n",
       "        1.00909881e-02,  1.57792345e-02, -8.00269004e-03, -6.39919341e-02,\n",
       "       -1.36625152e-02, -1.65111236e-02,  6.95139915e-02, -5.79182804e-02,\n",
       "        1.80180203e-02,  4.10787240e-02,  3.93110476e-02, -6.74725370e-03,\n",
       "       -6.70682266e-02,  3.56896291e-03,  3.72672789e-02,  6.50948882e-02,\n",
       "       -5.77733926e-02,  1.14158010e-02,  1.35744084e-02, -3.71323861e-02,\n",
       "        3.49678771e-07, -1.05366819e-02,  1.29647991e-02, -1.55317700e-02,\n",
       "       -6.00574017e-02,  6.22754171e-02, -1.25220427e-02, -2.49888208e-02,\n",
       "       -2.30362210e-02, -2.52745450e-02,  5.77871911e-02,  8.86141416e-03,\n",
       "       -3.46471295e-02,  5.57767926e-03,  2.52659600e-02, -3.67893763e-02,\n",
       "        3.27834636e-02, -7.44022951e-02, -5.18465489e-02, -2.87042037e-02,\n",
       "       -1.79126381e-03, -5.09683229e-02, -9.27826203e-03, -2.45864298e-02,\n",
       "       -4.37540635e-02,  6.48689875e-03,  4.20431308e-02, -1.34404767e-02,\n",
       "       -1.99031364e-02,  3.80251072e-02, -5.75863682e-02, -1.71042681e-02,\n",
       "        4.23789993e-02,  1.11138346e-02,  3.48919188e-03,  1.07704746e-02,\n",
       "       -6.49572387e-02, -3.87638025e-02, -7.31398687e-02,  1.08662322e-02,\n",
       "        9.66954827e-02, -1.92060098e-02,  6.53319992e-03,  2.07735854e-03,\n",
       "       -9.55925509e-02,  1.28314942e-02,  1.69711821e-02,  3.02645587e-03,\n",
       "       -3.87825333e-02, -6.51679710e-02,  3.04110348e-02,  4.16885242e-02,\n",
       "       -1.39014572e-02, -5.92123494e-02,  2.60033701e-02, -1.97706874e-02,\n",
       "        4.98004630e-03,  2.76031159e-02, -3.35816480e-02,  1.07270398e-03,\n",
       "        4.48636077e-02, -3.63542661e-02,  3.06160320e-02,  1.16090998e-02,\n",
       "        6.07463568e-02, -1.23403110e-02,  1.79938669e-03,  3.41056660e-03,\n",
       "        3.86551950e-34, -7.50118028e-03, -4.10168208e-02,  2.08447240e-02,\n",
       "       -4.27108072e-02, -5.50792068e-02,  1.50208762e-02, -1.65446545e-03,\n",
       "       -2.07928997e-02,  7.53518008e-03,  4.62277718e-02, -1.02091627e-02],\n",
       "      dtype=float32)"
      ]
     },
     "execution_count": 44,
     "metadata": {},
     "output_type": "execute_result"
    }
   ],
   "source": [
    "# Embedding model\n",
    "model = SentenceTransformer('sentence-transformers/all-mpnet-base-v2')\n",
    "embedding = model.encode(document)\n",
    "embedding"
   ]
  },
  {
   "cell_type": "code",
   "execution_count": 45,
   "metadata": {},
   "outputs": [
    {
     "name": "stdout",
     "output_type": "stream",
     "text": [
      "page_content='In Südafrika findet man eine beeindruckende Vielfalt an Tierarten, die von den weitläufigen Savannen' metadata={'start_index': 0}\n",
      "page_content='Savannen bis hin zu den dichten' metadata={'start_index': 92}\n"
     ]
    }
   ],
   "source": [
    "texts = text_splitter.create_documents([document])\n",
    "print(texts[0])\n",
    "print(texts[1])"
   ]
  },
  {
   "cell_type": "code",
   "execution_count": 47,
   "metadata": {},
   "outputs": [
    {
     "name": "stdout",
     "output_type": "stream",
     "text": [
      "Neben diesen bekannten Arten gibt es auch eine Vielzahl an Antilopenarten, wie die schnellen Impalas oder die majestätischen \n",
      "Kudus, die sich durch ihre eleganten Hörner auszeichnen. Die Leoparden und Geparden, zwei weitere beeindruckende Raubkatzen, \n",
      "sind für ihre Schnelligkeit und Geschicklichkeit bei der Jagd bekannt. In den Flüssen und Feuchtgebieten Südafrikas findet man \n",
      "Nilpferde und Krokodile, die trotz ihrer Unterschiedlichkeit beide gefürchtete Bewohner ihres Lebensraums sind.\n",
      "\n",
      "Die Vielfalt der Vogelwelt in Südafrika ist ebenfalls bemerkenswert, mit Arten wie dem farbenprächtigen Bienenfresser und dem \n",
      "majestätischen Afrikanischen Fischadler. Nicht zu vergessen sind die zahlreichen kleineren Tiere wie Warzenschweine, \n",
      "Erdmännchen und verschiedene Arten von Affen, die alle zum einzigartigen Ökosystem Südafrikas beitragen.\n"
     ]
    }
   ],
   "source": [
    "text_splitter = CharacterTextSplitter(chunk_size=1000, chunk_overlap=0)\n",
    "docs = text_splitter.split_documents(documents)\n",
    "\n",
    "embedding_function = SentenceTransformerEmbeddings(model_name=\"all-MiniLM-L6-v2\")\n",
    "\n",
    "db = FAISS.from_documents(docs, embedding_function)\n",
    "\n",
    "query = \"Was für Vogelarten gibt es?\"\n",
    "docs = db.similarity_search(query)\n",
    "\n",
    "print(docs[0].page_content)"
   ]
  },
  {
   "cell_type": "code",
   "execution_count": 48,
   "metadata": {},
   "outputs": [
    {
     "name": "stdout",
     "output_type": "stream",
     "text": [
      "Neben diesen bekannten Arten gibt es auch eine Vielzahl an Antilopenarten, wie die schnellen Impalas oder die majestätischen \n",
      "Kudus, die sich durch ihre eleganten Hörner auszeichnen. Die Leoparden und Geparden, zwei weitere beeindruckende Raubkatzen, \n",
      "sind für ihre Schnelligkeit und Geschicklichkeit bei der Jagd bekannt. In den Flüssen und Feuchtgebieten Südafrikas findet man \n",
      "Nilpferde und Krokodile, die trotz ihrer Unterschiedlichkeit beide gefürchtete Bewohner ihres Lebensraums sind.\n",
      "\n",
      "Die Vielfalt der Vogelwelt in Südafrika ist ebenfalls bemerkenswert, mit Arten wie dem farbenprächtigen Bienenfresser und dem \n",
      "majestätischen Afrikanischen Fischadler. Nicht zu vergessen sind die zahlreichen kleineren Tiere wie Warzenschweine, \n",
      "Erdmännchen und verschiedene Arten von Affen, die alle zum einzigartigen Ökosystem Südafrikas beitragen.\n"
     ]
    }
   ],
   "source": [
    "text_splitter = CharacterTextSplitter(chunk_size=1000, chunk_overlap=0)\n",
    "docs = text_splitter.split_documents(documents)\n",
    "\n",
    "model = SentenceTransformer('paraphrase-MiniLM-L12-v2')\n",
    "embedding = model.encode(document)\n",
    "\n",
    "embedding_function = SentenceTransformerEmbeddings(model_name=\"all-MiniLM-L12-v2\")\n",
    "\n",
    "db = FAISS.from_documents(docs, embedding_function)\n",
    "\n",
    "query = \"Was für Vogelarten gibt es?\"\n",
    "docs = db.similarity_search(query)\n",
    "\n",
    "print(docs[0].page_content)"
   ]
  },
  {
   "cell_type": "code",
   "execution_count": 49,
   "metadata": {},
   "outputs": [
    {
     "name": "stdout",
     "output_type": "stream",
     "text": [
      "Neben diesen bekannten Arten gibt es auch eine Vielzahl an Antilopenarten, wie die schnellen Impalas oder die majestätischen \n",
      "Kudus, die sich durch ihre eleganten Hörner auszeichnen. Die Leoparden und Geparden, zwei weitere beeindruckende Raubkatzen, \n",
      "sind für ihre Schnelligkeit und Geschicklichkeit bei der Jagd bekannt. In den Flüssen und Feuchtgebieten Südafrikas findet man \n",
      "Nilpferde und Krokodile, die trotz ihrer Unterschiedlichkeit beide gefürchtete Bewohner ihres Lebensraums sind.\n",
      "\n",
      "Die Vielfalt der Vogelwelt in Südafrika ist ebenfalls bemerkenswert, mit Arten wie dem farbenprächtigen Bienenfresser und dem \n",
      "majestätischen Afrikanischen Fischadler. Nicht zu vergessen sind die zahlreichen kleineren Tiere wie Warzenschweine, \n",
      "Erdmännchen und verschiedene Arten von Affen, die alle zum einzigartigen Ökosystem Südafrikas beitragen.\n"
     ]
    }
   ],
   "source": [
    "text_splitter = CharacterTextSplitter(chunk_size=1000, chunk_overlap=200)\n",
    "docs = text_splitter.split_documents(documents)\n",
    "\n",
    "model = SentenceTransformer('sentence-transformers/all-mpnet-base-v2')\n",
    "embedding = model.encode(document)\n",
    "\n",
    "embedding_function = SentenceTransformerEmbeddings(model_name='sentence-transformers/all-mpnet-base-v2')\n",
    "\n",
    "db = FAISS.from_documents(docs, embedding_function)\n",
    "\n",
    "query = \"Was für Vogelarten gibt es?\"\n",
    "docs = db.similarity_search(query)\n",
    "\n",
    "print(docs[0].page_content)"
   ]
  },
  {
   "cell_type": "code",
   "execution_count": null,
   "metadata": {},
   "outputs": [],
   "source": [
    "# Vector Store"
   ]
  },
  {
   "cell_type": "code",
   "execution_count": null,
   "metadata": {},
   "outputs": [],
   "source": [
    "# Retrievers\n",
    "\n",
    "# ChromaDB, Faiss oder Pinecone: recherchieren\n",
    "# RecursiveCharacterTextSplitter (empfohlen) vs Normal splitter (eher nicht nutzen) "
   ]
  },
  {
   "cell_type": "code",
   "execution_count": null,
   "metadata": {},
   "outputs": [],
   "source": [
    "# Indexing"
   ]
  },
  {
   "cell_type": "code",
   "execution_count": null,
   "metadata": {},
   "outputs": [],
   "source": [
    "# Integration with Llama2"
   ]
  }
 ],
 "metadata": {
  "kernelspec": {
   "display_name": "Python 3",
   "language": "python",
   "name": "python3"
  },
  "language_info": {
   "codemirror_mode": {
    "name": "ipython",
    "version": 3
   },
   "file_extension": ".py",
   "mimetype": "text/x-python",
   "name": "python",
   "nbconvert_exporter": "python",
   "pygments_lexer": "ipython3",
   "version": "3.11.3"
  }
 },
 "nbformat": 4,
 "nbformat_minor": 2
}
