{
 "cells": [
  {
   "cell_type": "markdown",
   "metadata": {},
   "source": [
    "**Vector Store Creation**"
   ]
  },
  {
   "cell_type": "markdown",
   "metadata": {},
   "source": [
    "Sources:\n",
    "[Article](https://towardsdatascience.com/running-llama-2-on-cpu-inference-for-document-q-a-3d636037a3d8)\n",
    "\n",
    "Embedding Models\n",
    "- https://huggingface.co/sentence-transformers/all-mpnet-base-v2\n",
    "- https://huggingface.co/sentence-transformers/all-MiniLM-L6-v2\n",
    "- https://huggingface.co/sentence-transformers/all-MiniLM-L12-v2"
   ]
  },
  {
   "cell_type": "code",
   "execution_count": 1,
   "metadata": {},
   "outputs": [
    {
     "name": "stdout",
     "output_type": "stream",
     "text": [
      "Defaulting to user installation because normal site-packages is not writeable\n",
      "Requirement already satisfied: langchain in /Users/josi/Library/Python/3.8/lib/python/site-packages (0.0.327)\n",
      "Requirement already satisfied: PyYAML>=5.3 in /Users/josi/Library/Python/3.8/lib/python/site-packages (from langchain) (5.4)\n",
      "Requirement already satisfied: SQLAlchemy<3,>=1.4 in /Users/josi/Library/Python/3.8/lib/python/site-packages (from langchain) (2.0.22)\n",
      "Requirement already satisfied: aiohttp<4.0.0,>=3.8.3 in /Users/josi/Library/Python/3.8/lib/python/site-packages (from langchain) (3.8.3)\n",
      "Requirement already satisfied: anyio<4.0 in /Users/josi/Library/Python/3.8/lib/python/site-packages (from langchain) (3.7.1)\n",
      "Requirement already satisfied: async-timeout<5.0.0,>=4.0.0 in /Users/josi/Library/Python/3.8/lib/python/site-packages (from langchain) (4.0.2)\n",
      "Requirement already satisfied: dataclasses-json<0.7,>=0.5.7 in /Users/josi/Library/Python/3.8/lib/python/site-packages (from langchain) (0.6.1)\n",
      "Requirement already satisfied: jsonpatch<2.0,>=1.33 in /Users/josi/Library/Python/3.8/lib/python/site-packages (from langchain) (1.33)\n",
      "Requirement already satisfied: langsmith<0.1.0,>=0.0.52 in /Users/josi/Library/Python/3.8/lib/python/site-packages (from langchain) (0.0.56)\n",
      "Requirement already satisfied: numpy<2,>=1 in /Users/josi/Library/Python/3.8/lib/python/site-packages (from langchain) (1.24.4)\n",
      "Requirement already satisfied: pydantic<3,>=1 in /Users/josi/Library/Python/3.8/lib/python/site-packages (from langchain) (1.10.13)\n",
      "Requirement already satisfied: requests<3,>=2 in /Users/josi/Library/Python/3.8/lib/python/site-packages (from langchain) (2.31.0)\n",
      "Requirement already satisfied: tenacity<9.0.0,>=8.1.0 in /Users/josi/Library/Python/3.8/lib/python/site-packages (from langchain) (8.2.2)\n",
      "Requirement already satisfied: attrs>=17.3.0 in /Users/josi/Library/Python/3.8/lib/python/site-packages (from aiohttp<4.0.0,>=3.8.3->langchain) (22.2.0)\n",
      "Requirement already satisfied: charset-normalizer<3.0,>=2.0 in /Users/josi/Library/Python/3.8/lib/python/site-packages (from aiohttp<4.0.0,>=3.8.3->langchain) (2.1.1)\n",
      "Requirement already satisfied: multidict<7.0,>=4.5 in /Users/josi/Library/Python/3.8/lib/python/site-packages (from aiohttp<4.0.0,>=3.8.3->langchain) (6.0.4)\n",
      "Requirement already satisfied: yarl<2.0,>=1.0 in /Users/josi/Library/Python/3.8/lib/python/site-packages (from aiohttp<4.0.0,>=3.8.3->langchain) (1.8.2)\n",
      "Requirement already satisfied: frozenlist>=1.1.1 in /Users/josi/Library/Python/3.8/lib/python/site-packages (from aiohttp<4.0.0,>=3.8.3->langchain) (1.3.3)\n",
      "Requirement already satisfied: aiosignal>=1.1.2 in /Users/josi/Library/Python/3.8/lib/python/site-packages (from aiohttp<4.0.0,>=3.8.3->langchain) (1.3.1)\n",
      "Requirement already satisfied: idna>=2.8 in /Users/josi/Library/Python/3.8/lib/python/site-packages (from anyio<4.0->langchain) (2.8)\n",
      "Requirement already satisfied: sniffio>=1.1 in /Users/josi/Library/Python/3.8/lib/python/site-packages (from anyio<4.0->langchain) (1.3.0)\n",
      "Requirement already satisfied: exceptiongroup in /Users/josi/Library/Python/3.8/lib/python/site-packages (from anyio<4.0->langchain) (1.1.3)\n",
      "Requirement already satisfied: marshmallow<4.0.0,>=3.18.0 in /Users/josi/Library/Python/3.8/lib/python/site-packages (from dataclasses-json<0.7,>=0.5.7->langchain) (3.20.1)\n",
      "Requirement already satisfied: typing-inspect<1,>=0.4.0 in /Users/josi/Library/Python/3.8/lib/python/site-packages (from dataclasses-json<0.7,>=0.5.7->langchain) (0.9.0)\n",
      "Requirement already satisfied: jsonpointer>=1.9 in /Users/josi/Library/Python/3.8/lib/python/site-packages (from jsonpatch<2.0,>=1.33->langchain) (2.4)\n",
      "Requirement already satisfied: typing-extensions>=4.2.0 in /Users/josi/Library/Python/3.8/lib/python/site-packages (from pydantic<3,>=1->langchain) (4.8.0)\n",
      "Requirement already satisfied: urllib3<3,>=1.21.1 in /Users/josi/Library/Python/3.8/lib/python/site-packages (from requests<3,>=2->langchain) (1.25.11)\n",
      "Requirement already satisfied: certifi>=2017.4.17 in /Users/josi/Library/Python/3.8/lib/python/site-packages (from requests<3,>=2->langchain) (2022.12.7)\n",
      "Requirement already satisfied: greenlet!=0.4.17 in /Users/josi/Library/Python/3.8/lib/python/site-packages (from SQLAlchemy<3,>=1.4->langchain) (3.0.1)\n",
      "Requirement already satisfied: packaging>=17.0 in /Users/josi/Library/Python/3.8/lib/python/site-packages (from marshmallow<4.0.0,>=3.18.0->dataclasses-json<0.7,>=0.5.7->langchain) (21.3)\n",
      "Requirement already satisfied: mypy-extensions>=0.3.0 in /Users/josi/Library/Python/3.8/lib/python/site-packages (from typing-inspect<1,>=0.4.0->dataclasses-json<0.7,>=0.5.7->langchain) (1.0.0)\n",
      "Requirement already satisfied: pyparsing!=3.0.5,>=2.0.2 in /Users/josi/Library/Python/3.8/lib/python/site-packages (from packaging>=17.0->marshmallow<4.0.0,>=3.18.0->dataclasses-json<0.7,>=0.5.7->langchain) (3.0.9)\n",
      "Note: you may need to restart the kernel to use updated packages.\n"
     ]
    }
   ],
   "source": [
    "%pip install langchain"
   ]
  },
  {
   "cell_type": "code",
   "execution_count": 2,
   "metadata": {},
   "outputs": [
    {
     "name": "stdout",
     "output_type": "stream",
     "text": [
      "Defaulting to user installation because normal site-packages is not writeable\n",
      "Requirement already satisfied: sentence-transformers in /Users/josi/Library/Python/3.8/lib/python/site-packages (2.2.2)\n",
      "Requirement already satisfied: transformers<5.0.0,>=4.6.0 in /Users/josi/Library/Python/3.8/lib/python/site-packages (from sentence-transformers) (4.35.2)\n",
      "Requirement already satisfied: tqdm in /Users/josi/Library/Python/3.8/lib/python/site-packages (from sentence-transformers) (4.66.1)\n",
      "Requirement already satisfied: torch>=1.6.0 in /Users/josi/Library/Python/3.8/lib/python/site-packages (from sentence-transformers) (2.1.1)\n",
      "Requirement already satisfied: torchvision in /Users/josi/Library/Python/3.8/lib/python/site-packages (from sentence-transformers) (0.16.1)\n",
      "Requirement already satisfied: numpy in /Users/josi/Library/Python/3.8/lib/python/site-packages (from sentence-transformers) (1.24.4)\n",
      "Requirement already satisfied: scikit-learn in /Users/josi/Library/Python/3.8/lib/python/site-packages (from sentence-transformers) (1.3.2)\n",
      "Requirement already satisfied: scipy in /Users/josi/Library/Python/3.8/lib/python/site-packages (from sentence-transformers) (1.10.1)\n",
      "Requirement already satisfied: nltk in /Users/josi/Library/Python/3.8/lib/python/site-packages (from sentence-transformers) (3.8.1)\n",
      "Requirement already satisfied: sentencepiece in /Users/josi/Library/Python/3.8/lib/python/site-packages (from sentence-transformers) (0.1.99)\n",
      "Requirement already satisfied: huggingface-hub>=0.4.0 in /Users/josi/Library/Python/3.8/lib/python/site-packages (from sentence-transformers) (0.19.4)\n",
      "Requirement already satisfied: filelock in /Users/josi/Library/Python/3.8/lib/python/site-packages (from huggingface-hub>=0.4.0->sentence-transformers) (3.13.1)\n",
      "Requirement already satisfied: fsspec>=2023.5.0 in /Users/josi/Library/Python/3.8/lib/python/site-packages (from huggingface-hub>=0.4.0->sentence-transformers) (2023.10.0)\n",
      "Requirement already satisfied: requests in /Users/josi/Library/Python/3.8/lib/python/site-packages (from huggingface-hub>=0.4.0->sentence-transformers) (2.31.0)\n",
      "Requirement already satisfied: pyyaml>=5.1 in /Users/josi/Library/Python/3.8/lib/python/site-packages (from huggingface-hub>=0.4.0->sentence-transformers) (5.4)\n",
      "Requirement already satisfied: typing-extensions>=3.7.4.3 in /Users/josi/Library/Python/3.8/lib/python/site-packages (from huggingface-hub>=0.4.0->sentence-transformers) (4.8.0)\n",
      "Requirement already satisfied: packaging>=20.9 in /Users/josi/Library/Python/3.8/lib/python/site-packages (from huggingface-hub>=0.4.0->sentence-transformers) (21.3)\n",
      "Requirement already satisfied: sympy in /Users/josi/Library/Python/3.8/lib/python/site-packages (from torch>=1.6.0->sentence-transformers) (1.12)\n",
      "Requirement already satisfied: networkx in /Users/josi/Library/Python/3.8/lib/python/site-packages (from torch>=1.6.0->sentence-transformers) (3.1)\n",
      "Requirement already satisfied: jinja2 in /Users/josi/Library/Python/3.8/lib/python/site-packages (from torch>=1.6.0->sentence-transformers) (2.11.3)\n",
      "Requirement already satisfied: regex!=2019.12.17 in /Users/josi/Library/Python/3.8/lib/python/site-packages (from transformers<5.0.0,>=4.6.0->sentence-transformers) (2023.10.3)\n",
      "Requirement already satisfied: tokenizers<0.19,>=0.14 in /Users/josi/Library/Python/3.8/lib/python/site-packages (from transformers<5.0.0,>=4.6.0->sentence-transformers) (0.15.0)\n",
      "Requirement already satisfied: safetensors>=0.3.1 in /Users/josi/Library/Python/3.8/lib/python/site-packages (from transformers<5.0.0,>=4.6.0->sentence-transformers) (0.4.1)\n",
      "Requirement already satisfied: click in /Users/josi/Library/Python/3.8/lib/python/site-packages (from nltk->sentence-transformers) (7.1.2)\n",
      "Requirement already satisfied: joblib in /Users/josi/Library/Python/3.8/lib/python/site-packages (from nltk->sentence-transformers) (1.3.2)\n",
      "Requirement already satisfied: threadpoolctl>=2.0.0 in /Users/josi/Library/Python/3.8/lib/python/site-packages (from scikit-learn->sentence-transformers) (3.2.0)\n",
      "Requirement already satisfied: pillow!=8.3.*,>=5.3.0 in /Users/josi/Library/Python/3.8/lib/python/site-packages (from torchvision->sentence-transformers) (9.1.1)\n",
      "Requirement already satisfied: pyparsing!=3.0.5,>=2.0.2 in /Users/josi/Library/Python/3.8/lib/python/site-packages (from packaging>=20.9->huggingface-hub>=0.4.0->sentence-transformers) (3.0.9)\n",
      "Requirement already satisfied: MarkupSafe>=0.23 in /Users/josi/Library/Python/3.8/lib/python/site-packages (from jinja2->torch>=1.6.0->sentence-transformers) (2.1.1)\n",
      "Requirement already satisfied: charset-normalizer<4,>=2 in /Users/josi/Library/Python/3.8/lib/python/site-packages (from requests->huggingface-hub>=0.4.0->sentence-transformers) (2.1.1)\n",
      "Requirement already satisfied: idna<4,>=2.5 in /Users/josi/Library/Python/3.8/lib/python/site-packages (from requests->huggingface-hub>=0.4.0->sentence-transformers) (2.8)\n",
      "Requirement already satisfied: urllib3<3,>=1.21.1 in /Users/josi/Library/Python/3.8/lib/python/site-packages (from requests->huggingface-hub>=0.4.0->sentence-transformers) (1.25.11)\n",
      "Requirement already satisfied: certifi>=2017.4.17 in /Users/josi/Library/Python/3.8/lib/python/site-packages (from requests->huggingface-hub>=0.4.0->sentence-transformers) (2022.12.7)\n",
      "Requirement already satisfied: mpmath>=0.19 in /Users/josi/Library/Python/3.8/lib/python/site-packages (from sympy->torch>=1.6.0->sentence-transformers) (1.3.0)\n",
      "Note: you may need to restart the kernel to use updated packages.\n"
     ]
    }
   ],
   "source": [
    "%pip install -U sentence-transformers"
   ]
  },
  {
   "cell_type": "code",
   "execution_count": 3,
   "metadata": {},
   "outputs": [
    {
     "name": "stdout",
     "output_type": "stream",
     "text": [
      "Defaulting to user installation because normal site-packages is not writeable\n",
      "Requirement already satisfied: faiss-cpu in /Users/josi/Library/Python/3.8/lib/python/site-packages (1.7.4)\n",
      "Note: you may need to restart the kernel to use updated packages.\n"
     ]
    }
   ],
   "source": [
    "%pip install faiss-cpu"
   ]
  },
  {
   "cell_type": "code",
   "execution_count": 4,
   "metadata": {},
   "outputs": [
    {
     "name": "stderr",
     "output_type": "stream",
     "text": [
      "/Users/josi/Library/Python/3.8/lib/python/site-packages/tqdm/auto.py:21: TqdmWarning: IProgress not found. Please update jupyter and ipywidgets. See https://ipywidgets.readthedocs.io/en/stable/user_install.html\n",
      "  from .autonotebook import tqdm as notebook_tqdm\n"
     ]
    }
   ],
   "source": [
    "from langchain.document_loaders import TextLoader\n",
    "from langchain.text_splitter import RecursiveCharacterTextSplitter\n",
    "from langchain.embeddings import HuggingFaceEmbeddings\n",
    "from langchain.text_splitter import CharacterTextSplitter\n",
    "from sentence_transformers import SentenceTransformer\n",
    "from langchain.embeddings.sentence_transformer import SentenceTransformerEmbeddings\n",
    "from langchain.vectorstores import FAISS\n",
    "# implement pdf reader"
   ]
  },
  {
   "cell_type": "code",
   "execution_count": 5,
   "metadata": {},
   "outputs": [],
   "source": [
    "# Document loader\n",
    "loader = TextLoader(\"./index.txt\")\n",
    "documents = loader.load()\n",
    "\n",
    "with open(\"./index.txt\") as f:\n",
    "    document = f.read()"
   ]
  },
  {
   "cell_type": "code",
   "execution_count": 6,
   "metadata": {},
   "outputs": [],
   "source": [
    "# normal text splitter\n",
    "raw_documents = TextLoader(\"./index.txt\").load()\n",
    "text_splitter = CharacterTextSplitter(chunk_size=1000, chunk_overlap=200)\n",
    "documents = text_splitter.split_documents(raw_documents)"
   ]
  },
  {
   "cell_type": "code",
   "execution_count": 7,
   "metadata": {},
   "outputs": [],
   "source": [
    "# Recursive text splitter\n",
    "text_splitter = RecursiveCharacterTextSplitter(\n",
    "    chunk_size = 100,\n",
    "    chunk_overlap  = 20,\n",
    "    length_function = len,\n",
    "    add_start_index = True,\n",
    ")"
   ]
  },
  {
   "cell_type": "code",
   "execution_count": 8,
   "metadata": {},
   "outputs": [
    {
     "name": "stderr",
     "output_type": "stream",
     "text": [
      ".gitattributes: 100%|██████████| 1.18k/1.18k [00:00<00:00, 95.7kB/s]\n",
      "1_Pooling/config.json: 100%|██████████| 190/190 [00:00<00:00, 125kB/s]\n",
      "README.md: 100%|██████████| 10.6k/10.6k [00:00<00:00, 5.63MB/s]\n",
      "config.json: 100%|██████████| 571/571 [00:00<00:00, 554kB/s]\n",
      "config_sentence_transformers.json: 100%|██████████| 116/116 [00:00<00:00, 93.4kB/s]\n",
      "data_config.json: 100%|██████████| 39.3k/39.3k [00:00<00:00, 19.6MB/s]\n",
      "pytorch_model.bin: 100%|██████████| 438M/438M [00:34<00:00, 12.7MB/s] \n",
      "sentence_bert_config.json: 100%|██████████| 53.0/53.0 [00:00<00:00, 18.2kB/s]\n",
      "special_tokens_map.json: 100%|██████████| 239/239 [00:00<00:00, 68.8kB/s]\n",
      "tokenizer.json: 100%|██████████| 466k/466k [00:00<00:00, 12.7MB/s]\n",
      "tokenizer_config.json: 100%|██████████| 363/363 [00:00<00:00, 130kB/s]\n",
      "train_script.py: 100%|██████████| 13.1k/13.1k [00:00<00:00, 4.06MB/s]\n",
      "vocab.txt: 100%|██████████| 232k/232k [00:00<00:00, 14.8MB/s]\n",
      "modules.json: 100%|██████████| 349/349 [00:00<00:00, 119kB/s]\n"
     ]
    },
    {
     "data": {
      "text/plain": [
       "array([ 4.83290851e-02, -2.01610904e-02, -5.30854380e-03,  5.28399721e-02,\n",
       "       -1.64846554e-02,  7.25408690e-03,  2.25059967e-02, -2.40077497e-03,\n",
       "       -8.50354601e-03, -4.31195945e-02, -3.02975960e-02, -3.46438517e-03,\n",
       "       -6.80337474e-03, -9.49671026e-03,  9.43800062e-03, -6.88497797e-02,\n",
       "       -1.15029495e-02,  3.47665027e-02, -2.86825672e-02,  1.21779805e-02,\n",
       "       -3.99886072e-02,  1.22032473e-02,  1.25161074e-02,  3.29638571e-02,\n",
       "        1.01778377e-02,  2.22062543e-02,  1.28913438e-02, -4.25408334e-02,\n",
       "        3.37343253e-02, -3.13008949e-02,  3.05749886e-02, -1.59124900e-02,\n",
       "       -1.86159462e-02, -4.24512252e-02,  2.55800433e-06,  1.28191919e-03,\n",
       "        4.13662232e-02,  2.86241225e-03, -4.05562902e-03, -2.74212472e-02,\n",
       "       -7.99735170e-03, -2.12476589e-02, -2.52030455e-02, -3.24683599e-02,\n",
       "        5.75710554e-03, -3.43444534e-02, -7.55964126e-03,  6.00730889e-02,\n",
       "        1.96933895e-02, -2.76555512e-02,  2.11346000e-02,  1.25717791e-02,\n",
       "        1.30772758e-02,  1.07305381e-03, -1.67085957e-02, -1.46317845e-02,\n",
       "       -1.55410962e-02,  1.58986598e-02, -2.81476025e-02,  3.68607976e-02,\n",
       "       -1.65504087e-02, -4.29749303e-02,  1.11788036e-02, -3.34896781e-02,\n",
       "       -2.72680214e-03, -4.73167822e-02, -3.96408886e-02, -7.23795593e-02,\n",
       "        4.29135412e-02, -2.24788245e-02,  1.85497198e-02,  1.78703573e-02,\n",
       "       -5.74255064e-02,  6.17710315e-02, -1.52031081e-02,  1.61100980e-02,\n",
       "        2.57454999e-02,  4.21112478e-02, -1.82959624e-02,  5.36543550e-03,\n",
       "        8.02379102e-02,  5.47751319e-03, -2.59302892e-02,  2.41641048e-02,\n",
       "        2.28573270e-02,  1.86437257e-02,  2.32791882e-02,  1.09578883e-02,\n",
       "        1.87829677e-02, -4.77760918e-02, -1.84595026e-02, -8.74242857e-02,\n",
       "       -3.38697899e-03,  8.21516514e-02, -5.11841550e-02,  9.58313048e-03,\n",
       "        5.66833280e-02,  9.62308981e-03,  7.42433313e-03,  4.05717753e-02,\n",
       "        2.07832195e-02,  2.50325892e-02, -6.71556294e-02,  3.97500359e-02,\n",
       "       -4.83504161e-02,  7.96548426e-02,  1.17329992e-02, -4.86232266e-02,\n",
       "        4.03872915e-02, -5.55493310e-02,  2.07844190e-02, -2.99681313e-02,\n",
       "       -1.15139047e-02, -8.34263116e-02, -4.51890472e-03,  7.99711607e-03,\n",
       "        2.99594235e-02, -1.47282705e-02, -2.53470633e-02,  4.98507991e-02,\n",
       "       -1.01201041e-02,  1.80413132e-03,  3.02372389e-02,  9.54402238e-03,\n",
       "        9.67188040e-04,  3.88958980e-03, -6.79531023e-02, -9.31532588e-04,\n",
       "       -4.49346565e-02,  6.19887887e-03,  2.28527971e-02,  3.49842268e-03,\n",
       "       -5.55220805e-02, -2.01192144e-02,  6.01138826e-03, -3.90142761e-02,\n",
       "        1.06079532e-02,  3.97725264e-03, -1.67619884e-02, -1.61751155e-02,\n",
       "       -2.39792536e-03, -2.20391490e-02,  1.85346529e-02,  2.40280572e-03,\n",
       "       -1.25741046e-02,  2.41097212e-02,  1.74134672e-02, -6.18299760e-04,\n",
       "       -8.79651774e-03, -3.42238583e-02, -4.10945378e-02, -3.38351019e-02,\n",
       "       -3.60284187e-02, -1.46725366e-03,  1.57447055e-03,  7.72766471e-02,\n",
       "       -3.46904993e-02,  1.52487233e-02, -3.65271568e-02,  2.85426136e-02,\n",
       "        2.25985423e-02, -9.20794904e-03,  2.86427345e-02, -3.63078341e-02,\n",
       "       -3.09084263e-02,  2.10147053e-02, -2.57643238e-02,  2.10549682e-02,\n",
       "       -7.13335536e-03, -6.04653843e-02,  6.64099753e-02,  2.04438735e-02,\n",
       "       -4.83291456e-03, -3.38004269e-02, -6.19800501e-02,  3.70708443e-02,\n",
       "        3.73985851e-03,  4.91971150e-02,  2.30314955e-02, -1.06865847e-02,\n",
       "       -9.79791628e-04,  7.11027626e-03,  2.99263019e-02, -3.30292247e-02,\n",
       "        3.33385766e-02, -7.07013241e-04,  1.06197465e-02,  6.04434200e-02,\n",
       "        2.61836983e-02,  2.06012428e-02,  3.55726704e-02, -8.39464366e-03,\n",
       "        6.52409159e-03,  1.83637720e-02,  1.79553381e-03,  2.49343254e-02,\n",
       "        3.38755213e-02, -1.74906384e-02,  1.84138976e-02, -8.07704963e-03,\n",
       "        1.84720859e-03,  6.14062473e-02,  3.01439296e-02,  4.36125174e-02,\n",
       "       -2.52708606e-02,  2.85018254e-02,  3.24371457e-02,  3.87816951e-02,\n",
       "       -1.55994752e-02,  3.22775207e-02, -3.28409858e-03, -1.79037568e-03,\n",
       "       -7.84965325e-03, -3.10242232e-02,  1.10453777e-02, -4.90786359e-02,\n",
       "       -7.56172522e-04,  3.45728919e-02, -3.42854224e-02,  4.71109375e-02,\n",
       "        1.98636372e-02,  3.76567915e-02,  7.33462814e-03, -1.08145652e-02,\n",
       "        1.01231290e-02,  3.02717481e-02, -4.01581079e-02, -3.51124257e-02,\n",
       "        1.25590870e-02,  1.55374380e-02, -3.82226519e-02,  2.33641267e-02,\n",
       "       -4.05261107e-02, -8.67946073e-03, -3.30595933e-02,  7.10332440e-03,\n",
       "        6.68425784e-02,  1.44225825e-02, -2.94482056e-02, -4.41796742e-02,\n",
       "        1.66599322e-02,  1.05771832e-02,  2.10674740e-02,  3.64526585e-02,\n",
       "        6.16300106e-02,  3.62493433e-02,  5.26895523e-02,  2.47972980e-02,\n",
       "       -1.59902778e-02, -6.14228891e-03, -4.74830493e-02, -8.81376094e-04,\n",
       "       -3.36425155e-02, -1.06073376e-02,  1.01051964e-02, -3.00135277e-02,\n",
       "       -1.49116991e-02,  8.26019049e-03,  4.25840057e-02, -1.67231411e-02,\n",
       "        2.13365667e-02, -4.31405939e-02, -4.07996923e-02, -3.34573388e-02,\n",
       "       -1.67827457e-02,  1.40173268e-03,  2.03376003e-02, -2.29711998e-02,\n",
       "       -8.66258424e-03, -1.76408142e-02,  1.03506586e-02, -4.58130911e-02,\n",
       "       -1.00934394e-02,  4.47328463e-02,  4.82742563e-02,  3.03441100e-02,\n",
       "        3.90945338e-02,  3.90189290e-02,  5.65198548e-02, -4.09677587e-02,\n",
       "       -7.21022040e-02, -6.96376292e-03,  4.01311088e-04,  1.69897340e-02,\n",
       "        8.97053350e-03,  7.94618018e-03, -5.96186630e-02, -6.20025629e-03,\n",
       "       -1.51048051e-02,  1.01545989e-03, -1.20671712e-01,  2.18245597e-03,\n",
       "       -7.23962709e-02, -1.16087999e-02,  1.29190627e-02,  3.90746519e-02,\n",
       "        1.11219632e-02,  1.24547444e-02,  2.35467535e-02,  5.14009334e-02,\n",
       "        1.29985362e-02, -5.54707972e-03, -4.53381753e-03,  5.33316657e-03,\n",
       "       -5.00847818e-03,  3.13949883e-02,  2.63634343e-02,  1.45586571e-02,\n",
       "        8.10047518e-03,  4.29726541e-02, -6.88243797e-03, -1.68695897e-02,\n",
       "        1.14339413e-02,  5.88379093e-02, -3.14004235e-02,  6.79586257e-04,\n",
       "       -1.16365934e-02, -1.16973974e-01,  1.42966853e-02,  3.83712947e-02,\n",
       "       -1.95714813e-02,  2.97208168e-02, -6.75401613e-02,  2.35395953e-02,\n",
       "       -2.02589128e-02,  1.68266073e-02, -1.56316385e-02, -1.42838499e-02,\n",
       "        6.34573475e-02,  4.99829091e-03, -1.10092478e-04,  3.53842415e-02,\n",
       "        3.66878062e-02,  2.96540726e-02, -1.80176925e-02, -7.28334337e-02,\n",
       "       -2.48105265e-02, -2.54193395e-02,  3.50806415e-02, -5.30824400e-02,\n",
       "       -6.43178001e-02, -2.79806722e-02, -2.01210957e-02,  4.38143983e-02,\n",
       "       -1.33934692e-02,  3.05486415e-02, -1.73404682e-02, -1.48373321e-02,\n",
       "        5.71841374e-02, -1.51063660e-02, -1.29352733e-02, -4.09114398e-02,\n",
       "       -1.87117383e-02,  3.05757970e-02,  2.63378769e-02,  1.27385324e-02,\n",
       "       -3.06603592e-03,  3.03334333e-02,  3.61404233e-02,  4.97558676e-02,\n",
       "       -5.53394035e-02,  1.50800403e-02, -3.20013091e-02,  1.88381062e-03,\n",
       "        1.15351990e-01,  1.89882901e-03, -1.09901773e-02, -1.37249939e-02,\n",
       "       -1.78253222e-02, -6.19361885e-02,  2.81317271e-02,  1.35433739e-02,\n",
       "       -2.86078714e-02,  3.59403715e-02, -4.39866073e-03,  7.34910788e-03,\n",
       "        4.98538241e-02, -3.17256413e-02,  3.54830828e-03,  1.51325772e-02,\n",
       "        7.28092855e-04,  1.13522075e-02,  1.04424827e-01,  2.37029069e-03,\n",
       "       -5.25081865e-02, -1.77698005e-02, -3.29286531e-02, -3.52431312e-02,\n",
       "       -3.45769227e-02, -2.38785986e-02,  5.20898961e-03, -8.69452860e-03,\n",
       "       -7.78049929e-03, -3.49350227e-03, -4.24156375e-02,  4.74191383e-02,\n",
       "       -2.31349561e-02,  4.44394350e-02,  6.55823424e-02,  7.27372468e-02,\n",
       "       -8.13200488e-04, -1.22861387e-02,  1.32930297e-02, -1.30484663e-02,\n",
       "       -2.46167649e-02,  7.50167994e-03, -6.24481142e-02, -1.04663009e-02,\n",
       "        9.96954972e-04, -2.38021631e-02,  4.16454040e-02, -1.23329468e-01,\n",
       "       -4.54309657e-02, -1.56843998e-02, -2.58454271e-02,  4.08403613e-02,\n",
       "       -3.67974117e-02,  8.41582101e-03, -6.56752512e-02,  1.01895861e-01,\n",
       "       -3.87748284e-03,  4.10844050e-02, -7.86790848e-02, -3.32255140e-02,\n",
       "       -1.43727018e-02, -2.54228711e-02,  5.01684695e-02,  7.37115089e-03,\n",
       "        2.22044345e-03,  7.47467577e-02,  1.58410445e-02,  6.47080168e-02,\n",
       "       -5.99868745e-02,  2.99403146e-02, -8.24054554e-02, -3.41119952e-02,\n",
       "        4.71734181e-02, -8.21704231e-03, -3.27247977e-02, -3.81091870e-02,\n",
       "       -3.68967541e-02, -2.84424168e-03,  7.32446536e-02, -1.28057487e-02,\n",
       "       -4.99711856e-02, -5.60540818e-02, -1.30953826e-02, -2.72051920e-03,\n",
       "        1.95928458e-02,  2.64957659e-02, -8.15581717e-03,  8.21328629e-03,\n",
       "       -2.59674713e-02, -9.05700494e-04, -1.49469925e-02, -4.81766183e-03,\n",
       "       -1.40436307e-01,  3.54950130e-02, -1.78500134e-02,  6.74868971e-02,\n",
       "        5.08046523e-02,  3.42701934e-02, -2.29812283e-02,  2.28106603e-02,\n",
       "       -8.50229408e-04,  2.87382696e-02, -2.16073003e-02,  3.05585004e-02,\n",
       "        8.80832132e-03, -3.59683600e-03,  7.82874506e-03,  1.44880237e-02,\n",
       "       -1.65824115e-03,  4.02640402e-02,  9.12830010e-02,  6.17677979e-02,\n",
       "       -3.75412367e-02,  5.91383502e-02,  5.04363365e-02, -5.57455644e-02,\n",
       "       -4.10685465e-02,  1.39167067e-02, -1.90503243e-02, -7.77730644e-02,\n",
       "        7.81937540e-02, -6.44588992e-02,  5.93528152e-02, -2.29092333e-02,\n",
       "       -2.82766744e-02, -1.40659353e-02, -7.86866620e-03, -2.99208127e-02,\n",
       "        1.05933156e-02,  1.40059954e-02,  5.26905879e-02,  9.30261519e-03,\n",
       "        5.38806282e-02,  2.36720536e-02,  3.38723175e-02,  5.41160349e-03,\n",
       "        3.30014154e-02,  3.43145393e-02, -5.29665463e-02,  4.25721668e-02,\n",
       "        5.77922491e-03,  4.44656098e-03,  1.74006019e-02,  1.60869621e-02,\n",
       "        2.76773535e-02, -2.57443357e-02, -1.62825920e-02,  2.30582841e-02,\n",
       "        3.23840347e-03,  7.32089486e-03,  3.08395158e-02, -3.82221863e-02,\n",
       "       -2.76727118e-02, -2.15579625e-02,  1.28885116e-02, -1.29267527e-03,\n",
       "       -2.25123260e-02, -1.09576229e-02, -9.29195248e-03, -3.71674970e-02,\n",
       "       -7.26082399e-02,  4.88294438e-02,  1.59976967e-02,  2.09749653e-03,\n",
       "        1.96752753e-02, -4.76299711e-02,  1.52621223e-02,  2.58721989e-02,\n",
       "       -6.21130411e-03, -3.30009498e-02, -5.38410898e-03,  1.85183864e-02,\n",
       "       -9.61417705e-03, -6.01585954e-02,  1.58458501e-02, -2.45721173e-02,\n",
       "       -9.96677298e-03, -5.14246821e-02,  2.16224305e-02, -7.42575433e-03,\n",
       "        2.17880457e-04,  5.72969615e-02, -5.98682789e-03, -7.53992945e-02,\n",
       "       -8.54272686e-04,  4.38162461e-02,  1.81218442e-02, -1.06712794e-02,\n",
       "        1.72225933e-03, -1.01480205e-02,  1.13330493e-02, -7.16323482e-33,\n",
       "        2.71672681e-02, -4.78558727e-02,  3.80605944e-02,  1.43519193e-02,\n",
       "       -6.11969829e-02, -1.05548492e-02, -5.05016446e-02,  7.65325149e-06,\n",
       "       -9.45976898e-02, -2.83139236e-02,  5.54986065e-03, -7.14363381e-02,\n",
       "       -2.21244339e-03,  1.67102441e-02,  4.11908962e-02,  4.52845693e-02,\n",
       "       -3.69221009e-02,  3.50162573e-02, -3.95029336e-02,  2.15423219e-02,\n",
       "        2.56859474e-02,  2.34701205e-02,  3.11500691e-02, -1.27763217e-02,\n",
       "        2.18414161e-02,  8.33805557e-03, -2.30273064e-02, -1.91520564e-02,\n",
       "        3.13923508e-02, -5.32040512e-03, -4.43130769e-02, -5.91209270e-02,\n",
       "        6.20347485e-02,  1.70106702e-02,  4.91957478e-02,  2.01350613e-03,\n",
       "        3.18832998e-03, -2.31595915e-02,  2.06685495e-02,  3.85793746e-02,\n",
       "        4.24774773e-02, -1.87742934e-02,  1.46320919e-02,  1.24545665e-02,\n",
       "        1.98554359e-02,  7.44167622e-03, -6.60205185e-02, -6.66078273e-03,\n",
       "       -3.76148745e-02, -6.18812570e-04, -5.97116612e-02, -1.85024478e-02,\n",
       "        2.23744176e-02, -3.74807208e-03, -1.64326525e-03,  2.40812991e-02,\n",
       "        3.23912427e-02, -4.46527302e-02,  2.24092286e-02,  7.76093779e-03,\n",
       "        8.88339356e-02,  1.39002986e-02,  3.21023795e-03,  6.41019791e-02,\n",
       "       -4.32398431e-02, -4.84763570e-02,  9.96679738e-02,  1.59120578e-02,\n",
       "        1.74998585e-02, -6.56289309e-02,  2.04701684e-02, -3.38488743e-02,\n",
       "       -1.40452255e-02,  2.21467968e-02, -2.56320033e-02,  5.69778914e-03,\n",
       "        8.37840289e-02,  3.92909981e-02,  3.61108109e-02, -1.63060017e-02,\n",
       "       -6.78786859e-02,  1.21532148e-02,  4.93410975e-02, -2.69354191e-02,\n",
       "       -1.06351087e-02,  2.74187457e-02,  1.92330908e-02,  7.37205669e-02,\n",
       "        1.08178277e-02, -6.01126440e-03,  7.94520751e-02,  8.99086241e-03,\n",
       "        1.13378754e-02,  1.69540104e-03, -3.20220031e-02, -4.01415527e-02,\n",
       "        4.67580482e-02,  4.00832854e-02,  2.33501941e-02, -5.99184111e-02,\n",
       "        2.20917501e-02,  5.24918437e-02, -7.77423829e-02,  8.67316797e-02,\n",
       "       -1.72853190e-02,  2.92422227e-03,  2.26440523e-02, -5.58799356e-02,\n",
       "       -5.62902540e-02,  1.93706751e-02, -5.24686510e-03, -4.50535752e-02,\n",
       "        1.00909825e-02,  1.57791767e-02, -8.00284371e-03, -6.39918745e-02,\n",
       "       -1.36625851e-02, -1.65112186e-02,  6.95140213e-02, -5.79181649e-02,\n",
       "        1.80180706e-02,  4.10786308e-02,  3.93109806e-02, -6.74705906e-03,\n",
       "       -6.70684054e-02,  3.56896198e-03,  3.72672565e-02,  6.50949627e-02,\n",
       "       -5.77735677e-02,  1.14156622e-02,  1.35743106e-02, -3.71322930e-02,\n",
       "        3.49678970e-07, -1.05366921e-02,  1.29648624e-02, -1.55316507e-02,\n",
       "       -6.00574836e-02,  6.22752085e-02, -1.25220744e-02, -2.49888841e-02,\n",
       "       -2.30361782e-02, -2.52744351e-02,  5.77872321e-02,  8.86134151e-03,\n",
       "       -3.46470848e-02,  5.57768252e-03,  2.52659768e-02, -3.67894471e-02,\n",
       "        3.27836685e-02, -7.44023174e-02, -5.18463999e-02, -2.87043098e-02,\n",
       "       -1.79124041e-03, -5.09684905e-02, -9.27830301e-03, -2.45863851e-02,\n",
       "       -4.37540710e-02,  6.48686942e-03,  4.20432985e-02, -1.34405270e-02,\n",
       "       -1.99031625e-02,  3.80248837e-02, -5.75863756e-02, -1.71042718e-02,\n",
       "        4.23790962e-02,  1.11137666e-02,  3.48913623e-03,  1.07703926e-02,\n",
       "       -6.49572387e-02, -3.87637690e-02, -7.31398314e-02,  1.08662974e-02,\n",
       "        9.66955200e-02, -1.92060675e-02,  6.53315848e-03,  2.07732525e-03,\n",
       "       -9.55926478e-02,  1.28315203e-02,  1.69710889e-02,  3.02635506e-03,\n",
       "       -3.87825109e-02, -6.51681498e-02,  3.04110963e-02,  4.16885540e-02,\n",
       "       -1.39014106e-02, -5.92122823e-02,  2.60033794e-02, -1.97707284e-02,\n",
       "        4.98000858e-03,  2.76031476e-02, -3.35815139e-02,  1.07265706e-03,\n",
       "        4.48635295e-02, -3.63541804e-02,  3.06161325e-02,  1.16090355e-02,\n",
       "        6.07464351e-02, -1.23405047e-02,  1.79936423e-03,  3.41062900e-03,\n",
       "        3.86552317e-34, -7.50118215e-03, -4.10169587e-02,  2.08447836e-02,\n",
       "       -4.27109115e-02, -5.50791882e-02,  1.50209200e-02, -1.65458582e-03,\n",
       "       -2.07929183e-02,  7.53512187e-03,  4.62278351e-02, -1.02092754e-02],\n",
       "      dtype=float32)"
      ]
     },
     "execution_count": 8,
     "metadata": {},
     "output_type": "execute_result"
    }
   ],
   "source": [
    "# Embedding model\n",
    "model = SentenceTransformer('sentence-transformers/all-mpnet-base-v2')\n",
    "embedding = model.encode(document)\n",
    "embedding"
   ]
  },
  {
   "cell_type": "code",
   "execution_count": 9,
   "metadata": {},
   "outputs": [
    {
     "name": "stdout",
     "output_type": "stream",
     "text": [
      "page_content='In Südafrika findet man eine beeindruckende Vielfalt an Tierarten, die von den weitläufigen Savannen' metadata={'start_index': 0}\n",
      "page_content='Savannen bis hin zu den dichten' metadata={'start_index': 92}\n"
     ]
    }
   ],
   "source": [
    "texts = text_splitter.create_documents([document])\n",
    "print(texts[0])\n",
    "print(texts[1])"
   ]
  },
  {
   "cell_type": "code",
   "execution_count": 10,
   "metadata": {},
   "outputs": [
    {
     "name": "stderr",
     "output_type": "stream",
     "text": [
      ".gitattributes: 100%|██████████| 1.18k/1.18k [00:00<00:00, 140kB/s]\n",
      "1_Pooling/config.json: 100%|██████████| 190/190 [00:00<00:00, 56.6kB/s]\n",
      "README.md: 100%|██████████| 10.6k/10.6k [00:00<00:00, 3.23MB/s]\n",
      "config.json: 100%|██████████| 612/612 [00:00<00:00, 163kB/s]\n",
      "config_sentence_transformers.json: 100%|██████████| 116/116 [00:00<00:00, 37.6kB/s]\n",
      "data_config.json: 100%|██████████| 39.3k/39.3k [00:00<00:00, 11.1MB/s]\n",
      "pytorch_model.bin: 100%|██████████| 90.9M/90.9M [00:07<00:00, 13.0MB/s]\n",
      "sentence_bert_config.json: 100%|██████████| 53.0/53.0 [00:00<00:00, 18.4kB/s]\n",
      "special_tokens_map.json: 100%|██████████| 112/112 [00:00<00:00, 40.5kB/s]\n",
      "tokenizer.json: 100%|██████████| 466k/466k [00:00<00:00, 1.53MB/s]\n",
      "tokenizer_config.json: 100%|██████████| 350/350 [00:00<00:00, 123kB/s]\n",
      "train_script.py: 100%|██████████| 13.2k/13.2k [00:00<00:00, 4.34MB/s]\n",
      "vocab.txt: 100%|██████████| 232k/232k [00:00<00:00, 16.0MB/s]\n",
      "modules.json: 100%|██████████| 349/349 [00:00<00:00, 128kB/s]\n"
     ]
    },
    {
     "name": "stdout",
     "output_type": "stream",
     "text": [
      "Neben diesen bekannten Arten gibt es auch eine Vielzahl an Antilopenarten, wie die schnellen Impalas oder die majestätischen \n",
      "Kudus, die sich durch ihre eleganten Hörner auszeichnen. Die Leoparden und Geparden, zwei weitere beeindruckende Raubkatzen, \n",
      "sind für ihre Schnelligkeit und Geschicklichkeit bei der Jagd bekannt. In den Flüssen und Feuchtgebieten Südafrikas findet man \n",
      "Nilpferde und Krokodile, die trotz ihrer Unterschiedlichkeit beide gefürchtete Bewohner ihres Lebensraums sind.\n",
      "\n",
      "Die Vielfalt der Vogelwelt in Südafrika ist ebenfalls bemerkenswert, mit Arten wie dem farbenprächtigen Bienenfresser und dem \n",
      "majestätischen Afrikanischen Fischadler. Nicht zu vergessen sind die zahlreichen kleineren Tiere wie Warzenschweine, \n",
      "Erdmännchen und verschiedene Arten von Affen, die alle zum einzigartigen Ökosystem Südafrikas beitragen.\n"
     ]
    }
   ],
   "source": [
    "text_splitter = CharacterTextSplitter(chunk_size=1000, chunk_overlap=0)\n",
    "docs = text_splitter.split_documents(documents)\n",
    "\n",
    "embedding_function = SentenceTransformerEmbeddings(model_name=\"all-MiniLM-L6-v2\")\n",
    "\n",
    "db = FAISS.from_documents(docs, embedding_function)\n",
    "\n",
    "query = \"Was für Vogelarten gibt es?\"\n",
    "docs = db.similarity_search(query)\n",
    "\n",
    "print(docs[0].page_content)"
   ]
  },
  {
   "cell_type": "code",
   "execution_count": 48,
   "metadata": {},
   "outputs": [
    {
     "name": "stdout",
     "output_type": "stream",
     "text": [
      "Neben diesen bekannten Arten gibt es auch eine Vielzahl an Antilopenarten, wie die schnellen Impalas oder die majestätischen \n",
      "Kudus, die sich durch ihre eleganten Hörner auszeichnen. Die Leoparden und Geparden, zwei weitere beeindruckende Raubkatzen, \n",
      "sind für ihre Schnelligkeit und Geschicklichkeit bei der Jagd bekannt. In den Flüssen und Feuchtgebieten Südafrikas findet man \n",
      "Nilpferde und Krokodile, die trotz ihrer Unterschiedlichkeit beide gefürchtete Bewohner ihres Lebensraums sind.\n",
      "\n",
      "Die Vielfalt der Vogelwelt in Südafrika ist ebenfalls bemerkenswert, mit Arten wie dem farbenprächtigen Bienenfresser und dem \n",
      "majestätischen Afrikanischen Fischadler. Nicht zu vergessen sind die zahlreichen kleineren Tiere wie Warzenschweine, \n",
      "Erdmännchen und verschiedene Arten von Affen, die alle zum einzigartigen Ökosystem Südafrikas beitragen.\n"
     ]
    }
   ],
   "source": [
    "text_splitter = CharacterTextSplitter(chunk_size=1000, chunk_overlap=0)\n",
    "docs = text_splitter.split_documents(documents)\n",
    "\n",
    "model = SentenceTransformer('paraphrase-MiniLM-L12-v2')\n",
    "embedding = model.encode(document)\n",
    "\n",
    "embedding_function = SentenceTransformerEmbeddings(model_name=\"all-MiniLM-L12-v2\")\n",
    "\n",
    "db = FAISS.from_documents(docs, embedding_function)\n",
    "\n",
    "query = \"Was für Vogelarten gibt es?\"\n",
    "docs = db.similarity_search(query)\n",
    "\n",
    "print(docs[0].page_content)"
   ]
  },
  {
   "cell_type": "code",
   "execution_count": 49,
   "metadata": {},
   "outputs": [
    {
     "name": "stdout",
     "output_type": "stream",
     "text": [
      "Neben diesen bekannten Arten gibt es auch eine Vielzahl an Antilopenarten, wie die schnellen Impalas oder die majestätischen \n",
      "Kudus, die sich durch ihre eleganten Hörner auszeichnen. Die Leoparden und Geparden, zwei weitere beeindruckende Raubkatzen, \n",
      "sind für ihre Schnelligkeit und Geschicklichkeit bei der Jagd bekannt. In den Flüssen und Feuchtgebieten Südafrikas findet man \n",
      "Nilpferde und Krokodile, die trotz ihrer Unterschiedlichkeit beide gefürchtete Bewohner ihres Lebensraums sind.\n",
      "\n",
      "Die Vielfalt der Vogelwelt in Südafrika ist ebenfalls bemerkenswert, mit Arten wie dem farbenprächtigen Bienenfresser und dem \n",
      "majestätischen Afrikanischen Fischadler. Nicht zu vergessen sind die zahlreichen kleineren Tiere wie Warzenschweine, \n",
      "Erdmännchen und verschiedene Arten von Affen, die alle zum einzigartigen Ökosystem Südafrikas beitragen.\n"
     ]
    }
   ],
   "source": [
    "text_splitter = CharacterTextSplitter(chunk_size=1000, chunk_overlap=200)\n",
    "docs = text_splitter.split_documents(documents)\n",
    "\n",
    "model = SentenceTransformer('sentence-transformers/all-mpnet-base-v2')\n",
    "embedding = model.encode(document)\n",
    "\n",
    "embedding_function = SentenceTransformerEmbeddings(model_name='sentence-transformers/all-mpnet-base-v2')\n",
    "\n",
    "db = FAISS.from_documents(docs, embedding_function)\n",
    "\n",
    "query = \"Was für Vogelarten gibt es?\"\n",
    "docs = db.similarity_search(query)\n",
    "\n",
    "print(docs[0].page_content)"
   ]
  },
  {
   "cell_type": "code",
   "execution_count": null,
   "metadata": {},
   "outputs": [],
   "source": [
    "# Vector Store"
   ]
  },
  {
   "cell_type": "code",
   "execution_count": null,
   "metadata": {},
   "outputs": [],
   "source": [
    "# Retrievers\n",
    "\n",
    "# ChromaDB, Faiss oder Pinecone: recherchieren\n",
    "# RecursiveCharacterTextSplitter (empfohlen) vs Normal splitter (eher nicht nutzen) "
   ]
  },
  {
   "cell_type": "code",
   "execution_count": null,
   "metadata": {},
   "outputs": [],
   "source": [
    "# Indexing"
   ]
  },
  {
   "cell_type": "code",
   "execution_count": null,
   "metadata": {},
   "outputs": [],
   "source": [
    "# Integration with Llama2"
   ]
  }
 ],
 "metadata": {
  "kernelspec": {
   "display_name": "Python 3",
   "language": "python",
   "name": "python3"
  },
  "language_info": {
   "codemirror_mode": {
    "name": "ipython",
    "version": 3
   },
   "file_extension": ".py",
   "mimetype": "text/x-python",
   "name": "python",
   "nbconvert_exporter": "python",
   "pygments_lexer": "ipython3",
   "version": "3.8.9"
  }
 },
 "nbformat": 4,
 "nbformat_minor": 2
}
